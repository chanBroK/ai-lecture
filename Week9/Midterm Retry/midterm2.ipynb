{
 "cells": [
  {
   "cell_type": "code",
   "execution_count": 1,
   "metadata": {},
   "outputs": [],
   "source": [
    "import pandas as pd\n",
    "import numpy as np"
   ]
  },
  {
   "cell_type": "code",
   "execution_count": 2,
   "metadata": {},
   "outputs": [],
   "source": [
    "import torch\n",
    "import sklearn"
   ]
  },
  {
   "cell_type": "code",
   "execution_count": 3,
   "metadata": {},
   "outputs": [],
   "source": [
    "device = \"cuda\" if torch.cuda.is_available() else \"cpu\""
   ]
  },
  {
   "cell_type": "code",
   "execution_count": 14,
   "metadata": {},
   "outputs": [],
   "source": [
    "# 1. DataFrame.info()를 통해 결측값이 있는지 확인(Null\n",
    "# 2. layer Node의 수는 대부분 512가 적당하다. (1024 가끔)\n",
    "# 3. cost가 진동(증가,감소 반복)하면 lr를 줄인다."
   ]
  },
  {
   "cell_type": "code",
   "execution_count": 4,
   "metadata": {},
   "outputs": [],
   "source": [
    "# 랜덤 시드 설정\n",
    "torch.manual_seed(1)\n",
    "if device == \"cuda\" :\n",
    "    torch.cuda.manual_seed_all(1)"
   ]
  },
  {
   "cell_type": "code",
   "execution_count": 6,
   "metadata": {},
   "outputs": [
    {
     "name": "stdout",
     "output_type": "stream",
     "text": [
      "      ID      CRIM    ZN  INDUS  CHAS    NOX     RM   AGE     DIS  RAD  TAX  \\\n",
      "0      0   0.14150   0.0   6.91     0  0.448  6.169   6.6  5.7209    3  233   \n",
      "1      1   0.15445  25.0   5.13     0  0.453  6.145  29.2  7.8148    8  284   \n",
      "2      2  16.81180   0.0  18.10     0  0.700  5.277  98.1  1.4261   24  666   \n",
      "3      3   0.05646   0.0  12.83     0  0.437  6.232  53.7  5.0141    5  398   \n",
      "4      4   8.79212   0.0  18.10     0  0.584  5.565  70.6  2.0635   24  666   \n",
      "..   ...       ...   ...    ...   ...    ...    ...   ...     ...  ...  ...   \n",
      "399  399   0.03548  80.0   3.64     0  0.392  5.876  19.1  9.2203    1  315   \n",
      "400  400   0.09164   0.0  10.81     0  0.413  6.065   7.8  5.2873    4  305   \n",
      "401  401   5.87205   0.0  18.10     0  0.693  6.405  96.0  1.6768   24  666   \n",
      "402  402   0.33045   0.0   6.20     0  0.507  6.086  61.5  3.6519    8  307   \n",
      "403  403   0.08014   0.0   5.96     0  0.499  5.850  41.5  3.9342    5  279   \n",
      "\n",
      "     PTRATIO       B  LSTST  MEDV  \n",
      "0       17.9  383.37   5.81  25.3  \n",
      "1       19.7  390.68   6.86  23.3  \n",
      "2       20.2  396.90  30.81   7.2  \n",
      "3       18.7  386.40  12.34  21.2  \n",
      "4       20.2    3.65  17.16  11.7  \n",
      "..       ...     ...    ...   ...  \n",
      "399     16.4  395.18   9.25  20.9  \n",
      "400     19.2  390.91   5.52  22.8  \n",
      "401     20.2  396.90  19.37  12.5  \n",
      "402     17.4  376.75  10.88  24.0  \n",
      "403     19.2  396.90   8.77  21.0  \n",
      "\n",
      "[404 rows x 15 columns]\n",
      "<class 'pandas.core.frame.DataFrame'>\n",
      "RangeIndex: 404 entries, 0 to 403\n",
      "Data columns (total 15 columns):\n",
      " #   Column   Non-Null Count  Dtype  \n",
      "---  ------   --------------  -----  \n",
      " 0   ID       404 non-null    int64  \n",
      " 1   CRIM     404 non-null    float64\n",
      " 2   ZN       404 non-null    float64\n",
      " 3   INDUS    404 non-null    float64\n",
      " 4   CHAS     404 non-null    int64  \n",
      " 5   NOX      404 non-null    float64\n",
      " 6   RM       404 non-null    float64\n",
      " 7   AGE      404 non-null    float64\n",
      " 8   DIS      404 non-null    float64\n",
      " 9   RAD      404 non-null    int64  \n",
      " 10  TAX      404 non-null    int64  \n",
      " 11  PTRATIO  404 non-null    float64\n",
      " 12  B        404 non-null    float64\n",
      " 13  LSTST    404 non-null    float64\n",
      " 14  MEDV     404 non-null    float64\n",
      "dtypes: float64(11), int64(4)\n",
      "memory usage: 47.5 KB\n",
      "None\n"
     ]
    }
   ],
   "source": [
    "# csv 데이터 로드\n",
    "train = pd.read_csv(\"2021-ai-midterm-p2/train.csv\")\n",
    "test = pd.read_csv(\"2021-ai-midterm-p2/test.csv\")\n",
    "submission = pd.read_csv(\"2021-ai-midterm-p2/submit_sample.csv\")\n",
    "\n",
    "# 데이터 확인\n",
    "print(train)\n",
    "print(train.info())"
   ]
  },
  {
   "cell_type": "code",
   "execution_count": 8,
   "metadata": {},
   "outputs": [],
   "source": [
    "# 사용하지 않은 컬럼을 제거하여 Train, Test 데이터 설정\n",
    "x_train = np.array(train.drop([\"ID\",\"MEDV\"],axis=1))\n",
    "x_test = np.array(test.drop([\"ID\"],axis=1))\n",
    "y_train = np.array(train[\"MEDV\"])"
   ]
  },
  {
   "cell_type": "code",
   "execution_count": 9,
   "metadata": {},
   "outputs": [],
   "source": [
    "# 데이터 전처리\n",
    "# 값의 범위가 크므로 정규화가 필요\n",
    "from sklearn.preprocessing import StandardScaler\n",
    "scaler = StandardScaler()\n",
    "x_train = scaler.fit_transform(x_train)\n",
    "x_test = scaler.transform(x_test)"
   ]
  },
  {
   "cell_type": "code",
   "execution_count": 11,
   "metadata": {},
   "outputs": [
    {
     "name": "stdout",
     "output_type": "stream",
     "text": [
      "torch.Size([404, 13])\n",
      "torch.Size([404])\n",
      "torch.Size([102, 13])\n"
     ]
    }
   ],
   "source": [
    "# 데이터 모양 확인\n",
    "print(x_train.shape)\n",
    "print(y_train.shape)\n",
    "print(x_test.shape)"
   ]
  },
  {
   "cell_type": "code",
   "execution_count": 10,
   "metadata": {},
   "outputs": [],
   "source": [
    "# 데이터 Tensor에 올리기\n",
    "x_train = torch.Tensor(x_train).to(device)\n",
    "x_test = torch.Tensor(x_test).to(device)\n",
    "y_train = torch.Tensor(y_train).to(device)"
   ]
  },
  {
   "cell_type": "code",
   "execution_count": 15,
   "metadata": {},
   "outputs": [],
   "source": [
    "# 레이어 생성\n",
    "layer1 = torch.nn.Linear(13,512,bias=True).to(device)\n",
    "layer2 = torch.nn.Linear(512,512,bias=True).to(device)\n",
    "layer3 = torch.nn.Linear(512,512,bias=True).to(device)\n",
    "layer4 = torch.nn.Linear(512,1,bias=True).to(device)\n",
    "relu = torch.nn.ReLU().to(device)\n",
    "dropout = torch.nn.Dropout(0.3).to(device)"
   ]
  },
  {
   "cell_type": "code",
   "execution_count": 16,
   "metadata": {
    "collapsed": true,
    "jupyter": {
     "outputs_hidden": true
    },
    "tags": []
   },
   "outputs": [
    {
     "data": {
      "text/plain": [
       "Parameter containing:\n",
       "tensor([[ 1.5340e-02, -1.9601e-01, -2.3885e-03,  6.9688e-02, -4.6459e-02,\n",
       "         -1.5758e-02,  6.8991e-02,  6.3995e-02,  5.7575e-02,  6.0135e-02,\n",
       "          3.1797e-02,  5.6753e-02, -1.0249e-01, -2.1797e-02, -2.5634e-02,\n",
       "          1.7749e-02,  1.2800e-01, -2.9713e-02,  1.7944e-02, -2.2922e-02,\n",
       "         -1.0625e-01,  7.4894e-02, -3.5503e-02,  1.3233e-01,  5.7287e-02,\n",
       "          2.7309e-03, -7.0738e-02, -3.2921e-02, -1.6033e-02, -1.9586e-03,\n",
       "         -1.1982e-01, -4.5819e-02, -1.7347e-02,  1.1795e-02, -2.9652e-02,\n",
       "          3.3305e-02,  5.5894e-02, -2.2570e-03,  1.8555e-01,  3.0921e-02,\n",
       "          4.2561e-02, -1.2277e-02,  7.9325e-02,  7.7262e-02,  4.6076e-02,\n",
       "         -5.1701e-02,  5.6731e-02,  1.4382e-02,  5.9282e-02,  2.0580e-02,\n",
       "         -1.6031e-02,  7.2544e-02,  1.6943e-02, -3.4517e-02,  2.5863e-02,\n",
       "         -7.8040e-02,  4.2454e-02, -4.4802e-02, -1.6548e-01,  5.9937e-02,\n",
       "         -7.6594e-02, -1.1570e-01,  4.0454e-04, -1.6126e-03, -4.9168e-02,\n",
       "         -6.3926e-02, -4.9291e-02, -2.0633e-02, -5.3926e-02,  1.2461e-01,\n",
       "          1.2170e-01,  9.5400e-02, -1.3662e-03, -2.0792e-02, -4.2767e-03,\n",
       "          1.4351e-02,  4.1554e-02, -1.4057e-01,  3.5165e-02,  9.5344e-02,\n",
       "          1.6269e-02,  1.1868e-02,  7.4959e-02, -8.9261e-02, -9.4836e-02,\n",
       "         -7.5333e-03,  1.0182e-02, -6.0678e-02, -8.2649e-02, -1.7668e-02,\n",
       "         -5.6718e-02, -3.9310e-02, -4.9902e-02,  8.6721e-02,  1.3617e-01,\n",
       "         -3.6607e-02,  5.4076e-02,  7.5339e-02,  1.1163e-02,  2.2582e-02,\n",
       "          4.9248e-02, -9.3664e-03, -9.0101e-02,  1.2213e-01, -7.1321e-03,\n",
       "         -2.9064e-02,  1.3804e-02,  8.0537e-02,  2.2908e-02, -1.2085e-01,\n",
       "          2.0873e-02,  9.3145e-02,  4.9560e-02,  8.1609e-03,  2.1679e-02,\n",
       "         -2.3681e-03,  2.6094e-02, -4.1093e-02, -7.8853e-02, -1.4471e-03,\n",
       "         -9.6862e-05,  2.8405e-02,  1.6519e-02, -7.0928e-02, -1.0589e-02,\n",
       "          1.8143e-02,  1.0706e-01, -2.7211e-02,  2.6765e-02, -2.2073e-02,\n",
       "         -1.9921e-02,  2.8170e-02, -5.5549e-02, -1.0345e-01, -2.2118e-02,\n",
       "         -1.3536e-02, -3.9608e-02,  7.4223e-03,  1.0860e-01, -5.9199e-02,\n",
       "         -1.1593e-01, -6.3224e-02,  5.4028e-03,  9.0676e-02,  1.1253e-01,\n",
       "         -1.3615e-01,  9.1841e-02,  9.3349e-02, -7.7494e-02,  8.5907e-02,\n",
       "          5.9590e-02,  2.4254e-02,  2.0368e-02, -1.1203e-02,  2.9738e-02,\n",
       "          4.9766e-02, -3.3923e-02, -1.5383e-01, -3.5478e-02, -5.0855e-03,\n",
       "         -3.1928e-02, -6.0971e-02,  4.3581e-02, -2.7918e-02, -3.1316e-02,\n",
       "         -6.9597e-02,  1.0025e-02,  4.6252e-03,  8.2642e-02,  5.0770e-02,\n",
       "         -2.2424e-02, -8.2023e-02, -7.6259e-02, -3.0453e-02,  1.4321e-01,\n",
       "          1.1612e-01,  8.5583e-02, -8.5372e-03,  2.7142e-02,  7.8573e-02,\n",
       "          6.0708e-02, -5.6147e-02,  8.7780e-02, -1.9430e-02,  6.7640e-02,\n",
       "          7.1096e-02,  6.5504e-02, -1.6862e-02, -4.6934e-02, -1.2783e-01,\n",
       "          5.4994e-03, -2.8981e-02, -1.6704e-01,  7.3961e-02,  8.1500e-02,\n",
       "         -5.6334e-02,  3.5644e-02, -7.8875e-02, -2.5359e-02, -3.6311e-02,\n",
       "         -3.1374e-02,  3.2034e-02,  1.1928e-01, -5.8278e-02,  2.9107e-02,\n",
       "         -1.8064e-02, -3.8039e-03, -3.5887e-02, -3.5164e-02, -5.9853e-02,\n",
       "         -4.8854e-03, -1.7642e-02,  8.9746e-02, -4.7314e-02,  5.9475e-02,\n",
       "         -6.8904e-02,  4.4426e-02, -8.5371e-03,  5.1487e-02,  7.0027e-03,\n",
       "         -3.2289e-02, -2.1837e-02, -1.4711e-01, -7.3090e-02, -8.1661e-02,\n",
       "          3.0125e-02, -6.0923e-02,  5.8759e-02,  1.2642e-02,  1.2549e-01,\n",
       "          1.3594e-02,  6.4614e-02,  8.7620e-02, -7.5074e-03, -1.0314e-01,\n",
       "         -5.0807e-02, -2.5326e-02, -2.8238e-02,  6.4258e-02,  1.3780e-01,\n",
       "         -3.2972e-02, -3.0694e-02,  3.4650e-02, -7.5432e-02, -4.4163e-02,\n",
       "          7.9097e-02, -1.4067e-04, -1.0000e-01,  8.4130e-02, -1.0396e-01,\n",
       "          1.4730e-02, -2.4266e-02,  9.7236e-02, -1.2038e-01, -9.1424e-02,\n",
       "         -9.8388e-02,  7.1169e-02,  7.2023e-02,  1.2121e-02, -9.6153e-02,\n",
       "         -6.2700e-02,  5.4862e-02, -4.8159e-03, -8.3719e-02,  1.4814e-01,\n",
       "         -2.3874e-02, -1.3870e-01, -7.0734e-02, -3.6166e-02, -3.4824e-03,\n",
       "         -8.8027e-02, -2.5303e-02,  7.4039e-03, -3.2816e-02,  9.3196e-02,\n",
       "          3.8370e-02,  2.9214e-02, -8.1970e-04, -1.1405e-03,  1.7587e-02,\n",
       "         -1.0954e-01,  8.6029e-02, -1.4657e-02, -3.7264e-02,  3.2127e-02,\n",
       "         -9.7145e-02,  5.3603e-02, -2.0112e-02,  1.3585e-01,  5.0723e-03,\n",
       "          8.6387e-03, -1.5750e-02, -1.0187e-01,  8.0955e-02, -4.1759e-02,\n",
       "         -1.1792e-01, -8.9642e-02, -3.6357e-02, -3.0253e-02,  8.5908e-03,\n",
       "         -1.4665e-01,  1.1067e-02,  3.2076e-03,  4.5425e-02, -4.6268e-02,\n",
       "         -7.3777e-02, -2.5044e-02, -4.2037e-02, -7.1823e-02, -7.5791e-02,\n",
       "         -9.2257e-02, -4.3883e-02,  1.0559e-01, -1.0261e-01,  1.5140e-03,\n",
       "          6.9065e-02, -6.7530e-02,  3.1671e-02, -3.4304e-03,  9.3851e-02,\n",
       "         -3.8073e-02,  6.9750e-02, -3.9391e-02, -8.4016e-02,  5.5941e-02,\n",
       "          5.2271e-02, -4.6651e-02, -1.5245e-02, -4.9873e-02, -2.2804e-03,\n",
       "         -1.0688e-01, -3.8267e-02,  6.4041e-02,  1.0011e-01,  8.0527e-03,\n",
       "          8.0317e-03, -4.3116e-02, -4.7639e-02, -1.0168e-01,  1.8693e-02,\n",
       "         -8.0570e-02, -4.0425e-02,  1.0836e-01,  1.4149e-02,  2.2114e-02,\n",
       "         -4.2497e-02, -2.1797e-02, -2.1798e-02,  4.6205e-02, -3.7400e-02,\n",
       "         -5.8688e-02, -2.6699e-02,  1.9181e-02,  4.2571e-03, -5.4849e-02,\n",
       "         -3.1710e-02,  7.9713e-02, -5.4635e-02, -1.3151e-01,  1.2007e-01,\n",
       "         -2.2909e-02, -4.9552e-02,  4.7251e-02,  1.2593e-02,  7.4614e-02,\n",
       "         -4.3675e-02,  5.3990e-02, -7.5075e-02, -6.3563e-02, -5.6859e-02,\n",
       "          7.4130e-02,  1.3290e-02, -6.4327e-02,  2.1194e-02,  5.8797e-02,\n",
       "          4.0107e-02, -1.7411e-01,  8.1901e-02,  4.5733e-02,  1.1727e-01,\n",
       "         -4.4607e-02,  1.0712e-01, -3.1211e-02,  5.4396e-02,  1.8634e-02,\n",
       "         -6.4974e-02,  4.4741e-02,  1.2527e-02, -5.6764e-02,  6.8652e-03,\n",
       "         -2.3324e-02,  7.5400e-03, -2.8659e-02,  2.5291e-02,  2.9410e-03,\n",
       "          1.5166e-02,  3.8387e-02,  9.2324e-02,  1.0575e-01, -7.1295e-02,\n",
       "         -5.0591e-02,  9.2410e-03, -6.8873e-02, -6.8148e-02, -1.0286e-01,\n",
       "         -2.8357e-02,  3.6042e-02,  5.3448e-02, -2.8622e-02,  2.9832e-02,\n",
       "          6.8598e-02,  5.3256e-02,  7.1862e-02, -3.9968e-03, -5.7784e-02,\n",
       "         -3.1229e-02,  5.4516e-02,  5.0546e-02, -9.2652e-02, -7.8729e-02,\n",
       "         -1.6405e-02,  1.0567e-01, -4.4328e-02,  4.1503e-02, -7.7657e-02,\n",
       "          1.3860e-01, -5.5765e-02, -8.1851e-02,  4.3239e-02, -3.8737e-02,\n",
       "         -6.9389e-02, -1.6655e-01,  4.0318e-02, -7.1708e-02, -7.2915e-02,\n",
       "          6.3301e-02,  5.7502e-04, -8.0413e-02,  1.5089e-02, -2.3572e-02,\n",
       "          2.6148e-02, -6.6970e-02, -5.2925e-02,  1.8217e-02, -3.6200e-02,\n",
       "          1.3530e-01,  1.2621e-01, -3.5482e-02,  3.7707e-02, -7.2686e-02,\n",
       "          1.1561e-02,  7.4464e-02, -7.9310e-02,  4.3466e-02, -5.5423e-02,\n",
       "          2.1517e-02, -2.5579e-02, -2.7058e-02, -3.0729e-02,  1.1594e-01,\n",
       "         -1.0749e-01, -3.5272e-02,  1.1719e-01,  1.8130e-02,  4.0945e-02,\n",
       "          1.5718e-02,  1.1580e-01,  5.1724e-02,  1.3468e-01,  7.7156e-02,\n",
       "          7.9999e-02,  9.1364e-03, -5.1112e-02,  9.7321e-02,  8.7686e-02,\n",
       "         -6.3054e-02, -7.5530e-02, -3.9406e-02,  2.0293e-02, -7.9144e-03,\n",
       "         -6.9118e-02, -3.4080e-02,  3.5428e-02, -1.2126e-01, -6.8149e-02,\n",
       "          6.2063e-02, -4.9861e-02, -3.1215e-02, -8.6193e-02,  2.1999e-02,\n",
       "         -6.3065e-02, -7.1297e-03, -8.6327e-02, -4.1313e-02, -1.0244e-02,\n",
       "         -9.2606e-02, -3.8608e-02, -5.3464e-02,  1.9070e-02,  1.3022e-01,\n",
       "          2.8282e-02, -3.5888e-02,  5.2226e-02, -2.5613e-03, -3.2322e-02,\n",
       "          5.7006e-02,  2.4064e-02,  1.8797e-02, -3.0485e-02, -1.1341e-01,\n",
       "         -2.5161e-02,  4.0399e-02]], device='cuda:0', requires_grad=True)"
      ]
     },
     "execution_count": 16,
     "metadata": {},
     "output_type": "execute_result"
    }
   ],
   "source": [
    "# 레이어 가중치 초기화\n",
    "torch.nn.init.xavier_normal_(layer1.weight)\n",
    "torch.nn.init.xavier_normal_(layer2.weight)\n",
    "torch.nn.init.xavier_normal_(layer3.weight)\n",
    "torch.nn.init.xavier_normal_(layer4.weight)"
   ]
  },
  {
   "cell_type": "code",
   "execution_count": 17,
   "metadata": {},
   "outputs": [],
   "source": [
    "# 모델 생성\n",
    "model = torch.nn.Sequential(layer1, relu, dropout,\n",
    "                           layer2, relu, dropout,\n",
    "                           layer3, relu, dropout,\n",
    "                           layer4).to(device)"
   ]
  },
  {
   "cell_type": "code",
   "execution_count": 19,
   "metadata": {},
   "outputs": [],
   "source": [
    "# 학습 파라미터 설정\n",
    "lr = 0.001\n",
    "epochs = 5000"
   ]
  },
  {
   "cell_type": "code",
   "execution_count": 20,
   "metadata": {},
   "outputs": [],
   "source": [
    "# 손실 함수, 최적화 함수 정의\n",
    "loss = torch.nn.MSELoss().to(device)\n",
    "optim = torch.optim.Adam(model.parameters(), lr=lr)"
   ]
  },
  {
   "cell_type": "code",
   "execution_count": 21,
   "metadata": {},
   "outputs": [
    {
     "name": "stdout",
     "output_type": "stream",
     "text": [
      "0 592.19580078125\n",
      "500 7.759638786315918\n",
      "1000 4.611252307891846\n",
      "1500 3.5548384189605713\n",
      "2000 3.7512996196746826\n",
      "2500 2.720580816268921\n",
      "3000 3.794879198074341\n",
      "3500 3.397120237350464\n",
      "4000 2.560767412185669\n",
      "4500 3.640705108642578\n",
      "5000 3.352344512939453\n"
     ]
    }
   ],
   "source": [
    "# 학습\n",
    "model.train()\n",
    "for epoch in range(epochs+1):\n",
    "    optim.zero_grad()\n",
    "    h = model(x_train)\n",
    "    cost = loss(h,y_train.unsqueeze(1))\n",
    "    cost.backward()\n",
    "    optim.step()\n",
    "    if epoch % (epochs/10) == 0:\n",
    "        print(epoch, cost.item())"
   ]
  },
  {
   "cell_type": "code",
   "execution_count": 23,
   "metadata": {},
   "outputs": [
    {
     "name": "stdout",
     "output_type": "stream",
     "text": [
      "      ID       MEDV      label\n",
      "0      0  30.148865  30.148865\n",
      "1      1  25.292566  25.292566\n",
      "2      2  17.454540  17.454540\n",
      "3      3  20.880470  20.880470\n",
      "4      4  22.421289  22.421289\n",
      "..   ...        ...        ...\n",
      "97    97  25.885521  25.885521\n",
      "98    98  41.879757  41.879757\n",
      "99    99  22.924595  22.924595\n",
      "100  100  12.347336  12.347336\n",
      "101  101  16.669802  16.669802\n",
      "\n",
      "[102 rows x 3 columns]\n"
     ]
    }
   ],
   "source": [
    "with torch.no_grad():\n",
    "    model.eval()\n",
    "    predict = model(x_test)\n",
    "    predict = predict.cpu().detach().numpy()\n",
    "submission[\"MEDV\"] = predict\n",
    "print(submission)"
   ]
  },
  {
   "cell_type": "code",
   "execution_count": 45,
   "metadata": {},
   "outputs": [],
   "source": [
    "submission.to_csv(\"submission.csv\",index=False)"
   ]
  },
  {
   "cell_type": "code",
   "execution_count": null,
   "metadata": {},
   "outputs": [],
   "source": []
  }
 ],
 "metadata": {
  "kernelspec": {
   "display_name": "Python 3",
   "language": "python",
   "name": "python3"
  },
  "language_info": {
   "codemirror_mode": {
    "name": "ipython",
    "version": 3
   },
   "file_extension": ".py",
   "mimetype": "text/x-python",
   "name": "python",
   "nbconvert_exporter": "python",
   "pygments_lexer": "ipython3",
   "version": "3.8.10"
  }
 },
 "nbformat": 4,
 "nbformat_minor": 4
}
