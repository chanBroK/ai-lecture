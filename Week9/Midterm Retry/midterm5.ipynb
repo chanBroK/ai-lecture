{
 "cells": [
  {
   "cell_type": "code",
   "execution_count": 1,
   "metadata": {},
   "outputs": [],
   "source": [
    "import pandas as pd\n",
    "import numpy as np"
   ]
  },
  {
   "cell_type": "code",
   "execution_count": 2,
   "metadata": {},
   "outputs": [],
   "source": [
    "import torch\n",
    "import sklearn"
   ]
  },
  {
   "cell_type": "code",
   "execution_count": 3,
   "metadata": {},
   "outputs": [],
   "source": [
    "device = \"cuda\" if torch.cuda.is_available() else \"cpu\""
   ]
  },
  {
   "cell_type": "code",
   "execution_count": 4,
   "metadata": {},
   "outputs": [],
   "source": [
    "# 1. test에는 결측값이 없어도 train은 결측값이 있을 수 있다. 모두 있다고 가정하고 처리 \n",
    "# 2. Binary classification에서는 layer를 줄일 필요가 있다(2개 정도가 적당)"
   ]
  },
  {
   "cell_type": "code",
   "execution_count": 5,
   "metadata": {},
   "outputs": [],
   "source": [
    "# 랜덤 시드 설정\n",
    "torch.manual_seed(1)\n",
    "if device == \"cuda\" :\n",
    "    torch.cuda.manual_seed_all(1)"
   ]
  },
  {
   "cell_type": "code",
   "execution_count": 6,
   "metadata": {},
   "outputs": [
    {
     "name": "stdout",
     "output_type": "stream",
     "text": [
      "      index  Unnamed: 0  customerID  gender  SeniorCitizen Partner Dependents  \\\n",
      "0         0        1869  7010-BRBUU    Male              0     Yes        Yes   \n",
      "1         1        4528  9688-YGXVR  Female              0      No         No   \n",
      "2         2        6344  9286-DOJGF  Female              1     Yes         No   \n",
      "3         3        6739  6994-KERXL    Male              0      No         No   \n",
      "4         4         432  2181-UAESM    Male              0      No         No   \n",
      "...     ...         ...         ...     ...            ...     ...        ...   \n",
      "4783   5981        3772  0684-AOSIH    Male              0     Yes         No   \n",
      "4784   5982        5191  5982-PSMKW  Female              0     Yes        Yes   \n",
      "4785   5983        5226  8044-BGWPI    Male              0     Yes        Yes   \n",
      "4786   5984        5390  7450-NWRTR    Male              1      No         No   \n",
      "4787   5985         860  4795-UXVCJ    Male              0      No         No   \n",
      "\n",
      "      tenure PhoneService MultipleLines  ...     DeviceProtection  \\\n",
      "0         72          Yes           Yes  ...  No internet service   \n",
      "1         44          Yes            No  ...                  Yes   \n",
      "2         38          Yes           Yes  ...                   No   \n",
      "3          4          Yes            No  ...                   No   \n",
      "4          2          Yes            No  ...                  Yes   \n",
      "...      ...          ...           ...  ...                  ...   \n",
      "4783       1          Yes            No  ...                   No   \n",
      "4784      23          Yes           Yes  ...                  Yes   \n",
      "4785      12          Yes            No  ...  No internet service   \n",
      "4786      12          Yes           Yes  ...                  Yes   \n",
      "4787      26          Yes            No  ...  No internet service   \n",
      "\n",
      "              TechSupport          StreamingTV      StreamingMovies  \\\n",
      "0     No internet service  No internet service  No internet service   \n",
      "1                      No                  Yes                   No   \n",
      "2                      No                   No                   No   \n",
      "3                      No                   No                  Yes   \n",
      "4                      No                   No                   No   \n",
      "...                   ...                  ...                  ...   \n",
      "4783                   No                  Yes                  Yes   \n",
      "4784                  Yes                  Yes                  Yes   \n",
      "4785  No internet service  No internet service  No internet service   \n",
      "4786                   No                  Yes                  Yes   \n",
      "4787  No internet service  No internet service  No internet service   \n",
      "\n",
      "            Contract PaperlessBilling              PaymentMethod  \\\n",
      "0           Two year               No    Credit card (automatic)   \n",
      "1     Month-to-month              Yes    Credit card (automatic)   \n",
      "2     Month-to-month              Yes  Bank transfer (automatic)   \n",
      "3     Month-to-month              Yes           Electronic check   \n",
      "4     Month-to-month               No           Electronic check   \n",
      "...              ...              ...                        ...   \n",
      "4783  Month-to-month              Yes           Electronic check   \n",
      "4784        Two year              Yes    Credit card (automatic)   \n",
      "4785  Month-to-month              Yes           Electronic check   \n",
      "4786  Month-to-month              Yes           Electronic check   \n",
      "4787        One year               No    Credit card (automatic)   \n",
      "\n",
      "     MonthlyCharges TotalCharges Churn  \n",
      "0             24.10      1734.65    No  \n",
      "1             88.15       3973.2    No  \n",
      "2             74.95      2869.85   Yes  \n",
      "3             55.90        238.5    No  \n",
      "4             53.45        119.5    No  \n",
      "...             ...          ...   ...  \n",
      "4783          95.00           95   Yes  \n",
      "4784          91.10       2198.3    No  \n",
      "4785          21.15       306.05    No  \n",
      "4786          99.45      1200.15   Yes  \n",
      "4787          19.80        457.3    No  \n",
      "\n",
      "[4788 rows x 23 columns]\n",
      "<class 'pandas.core.frame.DataFrame'>\n",
      "RangeIndex: 4788 entries, 0 to 4787\n",
      "Data columns (total 23 columns):\n",
      " #   Column            Non-Null Count  Dtype  \n",
      "---  ------            --------------  -----  \n",
      " 0   index             4788 non-null   int64  \n",
      " 1   Unnamed: 0        4788 non-null   int64  \n",
      " 2   customerID        4788 non-null   object \n",
      " 3   gender            4788 non-null   object \n",
      " 4   SeniorCitizen     4788 non-null   int64  \n",
      " 5   Partner           4788 non-null   object \n",
      " 6   Dependents        4788 non-null   object \n",
      " 7   tenure            4788 non-null   int64  \n",
      " 8   PhoneService      4788 non-null   object \n",
      " 9   MultipleLines     4788 non-null   object \n",
      " 10  InternetService   4788 non-null   object \n",
      " 11  OnlineSecurity    4788 non-null   object \n",
      " 12  OnlineBackup      4788 non-null   object \n",
      " 13  DeviceProtection  4788 non-null   object \n",
      " 14  TechSupport       4788 non-null   object \n",
      " 15  StreamingTV       4788 non-null   object \n",
      " 16  StreamingMovies   4788 non-null   object \n",
      " 17  Contract          4788 non-null   object \n",
      " 18  PaperlessBilling  4788 non-null   object \n",
      " 19  PaymentMethod     4788 non-null   object \n",
      " 20  MonthlyCharges    4788 non-null   float64\n",
      " 21  TotalCharges      4788 non-null   object \n",
      " 22  Churn             4788 non-null   object \n",
      "dtypes: float64(1), int64(4), object(18)\n",
      "memory usage: 860.5+ KB\n",
      "None\n",
      "             index  Unnamed: 0  SeniorCitizen       tenure  MonthlyCharges\n",
      "count  4788.000000  4788.00000    4788.000000  4788.000000     4788.000000\n",
      "mean   2991.842105  3541.56391       0.162490    32.482038       64.789265\n",
      "std    1727.153936  2035.79491       0.368938    24.488379       30.313332\n",
      "min       0.000000     0.00000       0.000000     0.000000       18.250000\n",
      "25%    1507.750000  1781.75000       0.000000     9.000000       35.037500\n",
      "50%    2990.500000  3571.00000       0.000000    29.000000       70.550000\n",
      "75%    4488.250000  5292.25000       0.000000    55.000000       90.062500\n",
      "max    5985.000000  7042.00000       1.000000    72.000000      118.750000\n"
     ]
    }
   ],
   "source": [
    "# csv 데이터 로드\n",
    "train = pd.read_csv(\"2021-ai-midterm-p5/train.csv\")\n",
    "test = pd.read_csv(\"2021-ai-midterm-p5/test.csv\")\n",
    "submission = pd.read_csv(\"2021-ai-midterm-p5/submit_sample.csv\")\n",
    "\n",
    "# 데이터 확인\n",
    "print(train)\n",
    "print(train.info())\n",
    "print(train.describe())"
   ]
  },
  {
   "cell_type": "code",
   "execution_count": 7,
   "metadata": {},
   "outputs": [
    {
     "name": "stdout",
     "output_type": "stream",
     "text": [
      "<class 'pandas.core.frame.DataFrame'>\n",
      "RangeIndex: 4788 entries, 0 to 4787\n",
      "Data columns (total 23 columns):\n",
      " #   Column            Non-Null Count  Dtype  \n",
      "---  ------            --------------  -----  \n",
      " 0   index             4788 non-null   int64  \n",
      " 1   Unnamed: 0        4788 non-null   int64  \n",
      " 2   customerID        4788 non-null   int32  \n",
      " 3   gender            4788 non-null   int32  \n",
      " 4   SeniorCitizen     4788 non-null   int64  \n",
      " 5   Partner           4788 non-null   int32  \n",
      " 6   Dependents        4788 non-null   int32  \n",
      " 7   tenure            4788 non-null   int64  \n",
      " 8   PhoneService      4788 non-null   int32  \n",
      " 9   MultipleLines     4788 non-null   int32  \n",
      " 10  InternetService   4788 non-null   int32  \n",
      " 11  OnlineSecurity    4788 non-null   int32  \n",
      " 12  OnlineBackup      4788 non-null   int32  \n",
      " 13  DeviceProtection  4788 non-null   int32  \n",
      " 14  TechSupport       4788 non-null   int32  \n",
      " 15  StreamingTV       4788 non-null   int32  \n",
      " 16  StreamingMovies   4788 non-null   int32  \n",
      " 17  Contract          4788 non-null   int32  \n",
      " 18  PaperlessBilling  4788 non-null   int32  \n",
      " 19  PaymentMethod     4788 non-null   int32  \n",
      " 20  MonthlyCharges    4788 non-null   float64\n",
      " 21  TotalCharges      4788 non-null   int32  \n",
      " 22  Churn             4788 non-null   int32  \n",
      "dtypes: float64(1), int32(18), int64(4)\n",
      "memory usage: 523.8 KB\n",
      "None\n",
      "<class 'pandas.core.frame.DataFrame'>\n",
      "RangeIndex: 1198 entries, 0 to 1197\n",
      "Data columns (total 22 columns):\n",
      " #   Column            Non-Null Count  Dtype  \n",
      "---  ------            --------------  -----  \n",
      " 0   index             1198 non-null   int64  \n",
      " 1   Unnamed: 0        1198 non-null   int64  \n",
      " 2   customerID        1198 non-null   int32  \n",
      " 3   gender            1198 non-null   int32  \n",
      " 4   SeniorCitizen     1198 non-null   int64  \n",
      " 5   Partner           1198 non-null   int32  \n",
      " 6   Dependents        1198 non-null   int32  \n",
      " 7   tenure            1198 non-null   int64  \n",
      " 8   PhoneService      1198 non-null   int32  \n",
      " 9   MultipleLines     1198 non-null   int32  \n",
      " 10  InternetService   1198 non-null   int32  \n",
      " 11  OnlineSecurity    1198 non-null   int32  \n",
      " 12  OnlineBackup      1198 non-null   int32  \n",
      " 13  DeviceProtection  1198 non-null   int32  \n",
      " 14  TechSupport       1198 non-null   int32  \n",
      " 15  StreamingTV       1198 non-null   int32  \n",
      " 16  StreamingMovies   1198 non-null   int32  \n",
      " 17  Contract          1198 non-null   int32  \n",
      " 18  PaperlessBilling  1198 non-null   int32  \n",
      " 19  PaymentMethod     1198 non-null   int32  \n",
      " 20  MonthlyCharges    1198 non-null   float64\n",
      " 21  TotalCharges      1198 non-null   int32  \n",
      "dtypes: float64(1), int32(17), int64(4)\n",
      "memory usage: 126.5 KB\n",
      "None\n"
     ]
    }
   ],
   "source": [
    "# 데이터 전처리\n",
    "from sklearn.preprocessing import LabelEncoder\n",
    "le = LabelEncoder()\n",
    "        \n",
    "# object -> int\n",
    "for col in test.columns:\n",
    "    if test[col].dtype == \"object\" or train[col].dtype == \"object\":\n",
    "        test[col] = test[col].astype(str)\n",
    "        train[col] = train[col].astype(str)\n",
    "        label = pd.concat([test[col],train[col]],axis=0)\n",
    "        le.fit(label)\n",
    "        test[col]=le.transform(test[col])\n",
    "        train[col]= le.transform(train[col])\n",
    "train['Churn'] = le.fit_transform(train['Churn'])\n",
    "print(train.info())\n",
    "print(test.info())"
   ]
  },
  {
   "cell_type": "code",
   "execution_count": 8,
   "metadata": {},
   "outputs": [],
   "source": [
    "# 사용하지 않은 컬럼을 제거하여 Train, Test 데이터 설정\n",
    "x_train = np.array(train.drop([\"index\",\"Unnamed: 0\",\"Churn\",\"customerID\"],axis=1))\n",
    "x_test = np.array(test.drop([\"index\",\"Unnamed: 0\",\"customerID\"],axis=1))\n",
    "y_train = np.array(train[\"Churn\"])"
   ]
  },
  {
   "cell_type": "code",
   "execution_count": 9,
   "metadata": {},
   "outputs": [],
   "source": [
    "# 데이터 전처리\n",
    "# 값의 범위가 크므로 정규화가 필요\n",
    "\n",
    "from sklearn.preprocessing import StandardScaler, MinMaxScaler\n",
    "scaler = MinMaxScaler()\n",
    "x_train = scaler.fit_transform(x_train)\n",
    "x_test = scaler.transform(x_test)"
   ]
  },
  {
   "cell_type": "code",
   "execution_count": 10,
   "metadata": {},
   "outputs": [
    {
     "name": "stdout",
     "output_type": "stream",
     "text": [
      "(4788, 19)\n",
      "(4788,)\n",
      "(1198, 19)\n",
      "2\n"
     ]
    }
   ],
   "source": [
    "# 데이터 모양 확인\n",
    "print(x_train.shape)\n",
    "print(y_train.shape)\n",
    "print(x_test.shape)\n",
    "print(len(np.unique(y_train)))"
   ]
  },
  {
   "cell_type": "code",
   "execution_count": 11,
   "metadata": {},
   "outputs": [],
   "source": [
    "# 데이터 Tensor에 올리기\n",
    "x_train = torch.Tensor(x_train).to(device)\n",
    "x_test = torch.Tensor(x_test).to(device)\n",
    "y_train = torch.Tensor(y_train).to(device)"
   ]
  },
  {
   "cell_type": "code",
   "execution_count": 12,
   "metadata": {},
   "outputs": [],
   "source": [
    "# 레이어 생성\n",
    "layer1 = torch.nn.Linear(x_train.shape[1],64,bias=True).to(device)\n",
    "layer2 = torch.nn.Linear(64,1,bias=True).to(device)\n",
    "relu = torch.nn.ReLU().to(device)\n",
    "dropout = torch.nn.Dropout(0.2).to(device)\n",
    "sigmoid = torch.nn.Sigmoid()"
   ]
  },
  {
   "cell_type": "code",
   "execution_count": 13,
   "metadata": {
    "tags": []
   },
   "outputs": [
    {
     "data": {
      "text/plain": [
       "Parameter containing:\n",
       "tensor([[-1.1121e-01, -1.1281e-01, -1.1262e-01, -2.5384e-01,  7.8001e-02,\n",
       "         -1.0652e-01, -1.5559e-01, -1.6634e-01, -6.3910e-04, -8.0629e-02,\n",
       "          6.7537e-02,  2.1359e-01,  2.6220e-01,  9.1700e-03, -2.3355e-01,\n",
       "          1.9205e-01, -1.1461e-01,  2.8988e-01, -1.0759e-01, -8.9361e-02,\n",
       "          2.1727e-01, -5.4712e-02,  8.9871e-03, -1.2963e-02,  1.9585e-01,\n",
       "         -9.9288e-02,  3.0081e-02,  1.1173e-01,  5.1985e-02,  6.1508e-02,\n",
       "          6.8215e-02, -6.4534e-02, -6.0171e-02,  5.2827e-02,  1.2673e-01,\n",
       "         -1.6610e-01,  3.6227e-02,  1.1820e-01,  1.2187e-01, -2.7108e-01,\n",
       "          2.3089e-01,  4.1204e-01,  4.0068e-04, -2.5482e-01,  2.0463e-01,\n",
       "         -9.3607e-02,  1.7352e-01, -1.9064e-01, -2.6712e-01,  1.2376e-01,\n",
       "         -3.3725e-01, -7.2971e-02,  1.6691e-01,  8.8490e-03,  2.1699e-01,\n",
       "          1.6944e-02, -3.4097e-01, -2.2497e-01,  1.6907e-01,  1.6945e-01,\n",
       "          1.1895e-01, -1.2339e-01,  2.9733e-01, -3.8142e-02]], device='cuda:0',\n",
       "       requires_grad=True)"
      ]
     },
     "execution_count": 13,
     "metadata": {},
     "output_type": "execute_result"
    }
   ],
   "source": [
    "# 레이어 가중치 초기화\n",
    "torch.nn.init.xavier_normal_(layer1.weight)\n",
    "torch.nn.init.xavier_normal_(layer2.weight)\n"
   ]
  },
  {
   "cell_type": "code",
   "execution_count": 14,
   "metadata": {},
   "outputs": [],
   "source": [
    "# 모델 생성\n",
    "model = torch.nn.Sequential(layer1, relu,dropout,\n",
    "                           layer2,sigmoid).to(device)"
   ]
  },
  {
   "cell_type": "code",
   "execution_count": 15,
   "metadata": {},
   "outputs": [],
   "source": [
    "# 학습 파라미터 설정\n",
    "lr = 1e-2\n",
    "epochs = 100"
   ]
  },
  {
   "cell_type": "code",
   "execution_count": 16,
   "metadata": {},
   "outputs": [],
   "source": [
    "# 손실 함수, 최적화 함수 정의\n",
    "loss = torch.nn.BCELoss().to(device)\n",
    "optim = torch.optim.Adam(model.parameters(), lr=lr)"
   ]
  },
  {
   "cell_type": "code",
   "execution_count": 17,
   "metadata": {},
   "outputs": [
    {
     "name": "stdout",
     "output_type": "stream",
     "text": [
      "0 0.6764297485351562 0.5680869221687317\n",
      "10 0.4831795394420624 0.7690058350563049\n",
      "20 0.4485970437526703 0.7794486284255981\n",
      "30 0.435477077960968 0.7932330965995789\n",
      "40 0.425169974565506 0.7982456088066101\n",
      "50 0.4236586093902588 0.7999164462089539\n",
      "60 0.41738712787628174 0.7982456088066101\n",
      "70 0.4135073125362396 0.8009607195854187\n",
      "80 0.4133182168006897 0.8080618381500244\n",
      "90 0.40992072224617004 0.8082706928253174\n",
      "100 0.4077272415161133 0.8116123676300049\n"
     ]
    }
   ],
   "source": [
    "# 학습\n",
    "model.train()\n",
    "for epoch in range(epochs+1):\n",
    "    optim.zero_grad()\n",
    "    h = model(x_train)\n",
    "    cost = loss(h,y_train.unsqueeze(1))\n",
    "    cost.backward()\n",
    "    optim.step()\n",
    "    if epoch % (epochs/10) == 0:\n",
    "        predict = h > torch.Tensor([0.5]).to(device)\n",
    "        predict = predict.int()\n",
    "        predict = predict == y_train.unsqueeze(1)\n",
    "        acc = sum(predict)/len(y_train.unsqueeze(1))\n",
    "        print(epoch, cost.item(),acc.item())"
   ]
  },
  {
   "cell_type": "code",
   "execution_count": 18,
   "metadata": {},
   "outputs": [
    {
     "name": "stdout",
     "output_type": "stream",
     "text": [
      "      index  Churn\n",
      "0         5    0.0\n",
      "1        10    0.0\n",
      "2        13    0.0\n",
      "3        18    1.0\n",
      "4        20    0.0\n",
      "...     ...    ...\n",
      "1193   5962    0.0\n",
      "1194   5968    0.0\n",
      "1195   5975    0.0\n",
      "1196   5977    0.0\n",
      "1197   5978    1.0\n",
      "\n",
      "[1198 rows x 2 columns]\n"
     ]
    }
   ],
   "source": [
    "with torch.no_grad():\n",
    "    model.eval()\n",
    "    predict = model(x_test)\n",
    "    predict = predict >= torch.Tensor([0.5]).to(device)\n",
    "    predict = predict.float()\n",
    "submission[\"Churn\"] = predict.cpu().detach().numpy()\n",
    "print(submission)"
   ]
  },
  {
   "cell_type": "code",
   "execution_count": 19,
   "metadata": {},
   "outputs": [],
   "source": [
    "submission.to_csv(\"submission.csv\",index=False)"
   ]
  },
  {
   "cell_type": "code",
   "execution_count": null,
   "metadata": {},
   "outputs": [],
   "source": []
  }
 ],
 "metadata": {
  "kernelspec": {
   "display_name": "Python 3 (ipykernel)",
   "language": "python",
   "name": "python3"
  },
  "language_info": {
   "codemirror_mode": {
    "name": "ipython",
    "version": 3
   },
   "file_extension": ".py",
   "mimetype": "text/x-python",
   "name": "python",
   "nbconvert_exporter": "python",
   "pygments_lexer": "ipython3",
   "version": "3.9.6"
  }
 },
 "nbformat": 4,
 "nbformat_minor": 4
}
