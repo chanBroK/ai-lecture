{
 "cells": [
  {
   "cell_type": "code",
   "execution_count": 1,
   "metadata": {},
   "outputs": [],
   "source": [
    "import pandas as pd\n",
    "import numpy as np"
   ]
  },
  {
   "cell_type": "code",
   "execution_count": 2,
   "metadata": {},
   "outputs": [],
   "source": [
    "import torch\n",
    "import sklearn"
   ]
  },
  {
   "cell_type": "code",
   "execution_count": 3,
   "metadata": {},
   "outputs": [],
   "source": [
    "device = \"cuda\" if torch.cuda.is_available() else \"cpu\""
   ]
  },
  {
   "cell_type": "code",
   "execution_count": 4,
   "metadata": {},
   "outputs": [
    {
     "data": {
      "text/plain": [
       "\u001b[1;31mInit signature:\u001b[0m \u001b[0mtorch\u001b[0m\u001b[1;33m.\u001b[0m\u001b[0mnn\u001b[0m\u001b[1;33m.\u001b[0m\u001b[0mSequential\u001b[0m\u001b[1;33m(\u001b[0m\u001b[1;33m*\u001b[0m\u001b[0margs\u001b[0m\u001b[1;33m:\u001b[0m \u001b[0mAny\u001b[0m\u001b[1;33m)\u001b[0m\u001b[1;33m\u001b[0m\u001b[1;33m\u001b[0m\u001b[0m\n",
       "\u001b[1;31mDocstring:\u001b[0m     \n",
       "A sequential container.\n",
       "Modules will be added to it in the order they are passed in the constructor.\n",
       "Alternatively, an ordered dict of modules can also be passed in.\n",
       "\n",
       "To make it easier to understand, here is a small example::\n",
       "\n",
       "    # Example of using Sequential\n",
       "    model = nn.Sequential(\n",
       "              nn.Conv2d(1,20,5),\n",
       "              nn.ReLU(),\n",
       "              nn.Conv2d(20,64,5),\n",
       "              nn.ReLU()\n",
       "            )\n",
       "\n",
       "    # Example of using Sequential with OrderedDict\n",
       "    model = nn.Sequential(OrderedDict([\n",
       "              ('conv1', nn.Conv2d(1,20,5)),\n",
       "              ('relu1', nn.ReLU()),\n",
       "              ('conv2', nn.Conv2d(20,64,5)),\n",
       "              ('relu2', nn.ReLU())\n",
       "            ]))\n",
       "\u001b[1;31mInit docstring:\u001b[0m Initializes internal Module state, shared by both nn.Module and ScriptModule.\n",
       "\u001b[1;31mFile:\u001b[0m           c:\\users\\koc08\\appdata\\local\\programs\\python\\python38\\lib\\site-packages\\torch\\nn\\modules\\container.py\n",
       "\u001b[1;31mType:\u001b[0m           type\n",
       "\u001b[1;31mSubclasses:\u001b[0m     ConvReLU1d, ConvReLU2d, ConvReLU3d, LinearReLU, ConvBn1d, ConvBn2d, ConvBnReLU1d, ConvBnReLU2d, ConvBn3d, ConvBnReLU3d, ...\n"
      ]
     },
     "metadata": {},
     "output_type": "display_data"
    }
   ],
   "source": [
    "?torch.nn.Sequential"
   ]
  },
  {
   "cell_type": "code",
   "execution_count": 5,
   "metadata": {},
   "outputs": [],
   "source": [
    "# 1. DataFrame에서 Object 데이터 타입 -> Int or Float으로 변환 \n",
    "# 2. 결측값 채우기와 데이터 타입 바꾸기는 Imputer를 사용하지 말자\n",
    "# 3. 범주화 (LabelEncoding) 시 결측값도 하나의 범주로 처리된다.\n",
    "# 4. labelencoding 시 column 별로 진행\n",
    "# ?함수명 혹은 ?변수명 을 하면 해당 설명이 나온다"
   ]
  },
  {
   "cell_type": "code",
   "execution_count": 6,
   "metadata": {},
   "outputs": [],
   "source": [
    "# 랜덤 시드 설정\n",
    "torch.manual_seed(1)\n",
    "if device == \"cuda\" :\n",
    "    torch.cuda.manual_seed_all(1)"
   ]
  },
  {
   "cell_type": "code",
   "execution_count": 7,
   "metadata": {},
   "outputs": [
    {
     "name": "stdout",
     "output_type": "stream",
     "text": [
      "       index  enrollee_id      city  city_development_index  gender  \\\n",
      "0          0         8949  city_103                   0.920    Male   \n",
      "1          1        29725   city_40                   0.776    Male   \n",
      "2          3        33241  city_115                   0.789     NaN   \n",
      "3          4          666  city_162                   0.767    Male   \n",
      "4          5        21651  city_176                   0.764     NaN   \n",
      "...      ...          ...       ...                     ...     ...   \n",
      "15321  19152        29754  city_103                   0.920  Female   \n",
      "15322  19153         7386  city_173                   0.878    Male   \n",
      "15323  19154        31398  city_103                   0.920    Male   \n",
      "15324  19156         5756   city_65                   0.802    Male   \n",
      "15325  19157        23834   city_67                   0.855     NaN   \n",
      "\n",
      "           relevent_experience enrolled_university education_level  \\\n",
      "0      Has relevent experience       no_enrollment        Graduate   \n",
      "1       No relevent experience       no_enrollment        Graduate   \n",
      "2       No relevent experience                 NaN        Graduate   \n",
      "3      Has relevent experience       no_enrollment         Masters   \n",
      "4      Has relevent experience    Part time course        Graduate   \n",
      "...                        ...                 ...             ...   \n",
      "15321  Has relevent experience       no_enrollment        Graduate   \n",
      "15322   No relevent experience       no_enrollment        Graduate   \n",
      "15323  Has relevent experience       no_enrollment        Graduate   \n",
      "15324  Has relevent experience       no_enrollment     High School   \n",
      "15325   No relevent experience       no_enrollment  Primary School   \n",
      "\n",
      "      major_discipline experience company_size    company_type last_new_job  \\\n",
      "0                 STEM        >20          NaN             NaN            1   \n",
      "1                 STEM         15        50-99         Pvt Ltd           >4   \n",
      "2      Business Degree         <1          NaN         Pvt Ltd        never   \n",
      "3                 STEM        >20        50-99  Funded Startup            4   \n",
      "4                 STEM         11          NaN             NaN            1   \n",
      "...                ...        ...          ...             ...          ...   \n",
      "15321       Humanities          7        10/49  Funded Startup            1   \n",
      "15322       Humanities         14          NaN             NaN            1   \n",
      "15323             STEM         14          NaN             NaN            4   \n",
      "15324              NaN         <1      500-999         Pvt Ltd            2   \n",
      "15325              NaN          2          NaN             NaN            1   \n",
      "\n",
      "       training_hours  target  \n",
      "0                  36     1.0  \n",
      "1                  47     0.0  \n",
      "2                  52     1.0  \n",
      "3                   8     0.0  \n",
      "4                  24     1.0  \n",
      "...               ...     ...  \n",
      "15321              25     0.0  \n",
      "15322              42     1.0  \n",
      "15323              52     1.0  \n",
      "15324              97     0.0  \n",
      "15325             127     0.0  \n",
      "\n",
      "[15326 rows x 15 columns]\n",
      "<class 'pandas.core.frame.DataFrame'>\n",
      "RangeIndex: 15326 entries, 0 to 15325\n",
      "Data columns (total 15 columns):\n",
      " #   Column                  Non-Null Count  Dtype  \n",
      "---  ------                  --------------  -----  \n",
      " 0   index                   15326 non-null  int64  \n",
      " 1   enrollee_id             15326 non-null  int64  \n",
      " 2   city                    15326 non-null  object \n",
      " 3   city_development_index  15326 non-null  float64\n",
      " 4   gender                  11752 non-null  object \n",
      " 5   relevent_experience     15326 non-null  object \n",
      " 6   enrolled_university     15009 non-null  object \n",
      " 7   education_level         14964 non-null  object \n",
      " 8   major_discipline        13068 non-null  object \n",
      " 9   experience              15276 non-null  object \n",
      " 10  company_size            10612 non-null  object \n",
      " 11  company_type            10445 non-null  object \n",
      " 12  last_new_job            14983 non-null  object \n",
      " 13  training_hours          15326 non-null  int64  \n",
      " 14  target                  15326 non-null  float64\n",
      "dtypes: float64(2), int64(3), object(10)\n",
      "memory usage: 1.8+ MB\n",
      "None\n",
      "              index   enrollee_id  city_development_index  training_hours  \\\n",
      "count  15326.000000  15326.000000            15326.000000    15326.000000   \n",
      "mean    9561.503719  16899.439319                0.829672       65.315412   \n",
      "std     5540.358500   9589.275867                0.123006       59.967217   \n",
      "min        0.000000      1.000000                0.448000        1.000000   \n",
      "25%     4751.500000   8603.500000                0.742000       23.000000   \n",
      "50%     9567.500000  16996.000000                0.910000       47.000000   \n",
      "75%    14354.750000  25130.750000                0.920000       88.000000   \n",
      "max    19157.000000  33377.000000                0.949000      336.000000   \n",
      "\n",
      "             target  \n",
      "count  15326.000000  \n",
      "mean       0.249380  \n",
      "std        0.432668  \n",
      "min        0.000000  \n",
      "25%        0.000000  \n",
      "50%        0.000000  \n",
      "75%        0.000000  \n",
      "max        1.000000  \n"
     ]
    }
   ],
   "source": [
    "# csv 데이터 로드\n",
    "train = pd.read_csv(\"2021-ai-midterm-p4/train.csv\")\n",
    "test = pd.read_csv(\"2021-ai-midterm-p4/test.csv\")\n",
    "submission = pd.read_csv(\"2021-ai-midterm-p4/submit_sample.csv\")\n",
    "\n",
    "# 데이터 확인\n",
    "print(train)\n",
    "print(train.info())\n",
    "print(train.describe())"
   ]
  },
  {
   "cell_type": "code",
   "execution_count": 8,
   "metadata": {},
   "outputs": [
    {
     "name": "stdout",
     "output_type": "stream",
     "text": [
      "<class 'pandas.core.frame.DataFrame'>\n",
      "RangeIndex: 15326 entries, 0 to 15325\n",
      "Data columns (total 15 columns):\n",
      " #   Column                  Non-Null Count  Dtype  \n",
      "---  ------                  --------------  -----  \n",
      " 0   index                   15326 non-null  int64  \n",
      " 1   enrollee_id             15326 non-null  int64  \n",
      " 2   city                    15326 non-null  int32  \n",
      " 3   city_development_index  15326 non-null  float64\n",
      " 4   gender                  15326 non-null  int32  \n",
      " 5   relevent_experience     15326 non-null  int32  \n",
      " 6   enrolled_university     15326 non-null  int32  \n",
      " 7   education_level         15326 non-null  int32  \n",
      " 8   major_discipline        15326 non-null  int32  \n",
      " 9   experience              15326 non-null  int32  \n",
      " 10  company_size            15326 non-null  int32  \n",
      " 11  company_type            15326 non-null  int32  \n",
      " 12  last_new_job            15326 non-null  int32  \n",
      " 13  training_hours          15326 non-null  int64  \n",
      " 14  target                  15326 non-null  float64\n",
      "dtypes: float64(2), int32(10), int64(3)\n",
      "memory usage: 1.2 MB\n",
      "None\n"
     ]
    }
   ],
   "source": [
    "# 데이터 전처리\n",
    "from sklearn.preprocessing import LabelEncoder\n",
    "le = LabelEncoder()\n",
    "# dataframe 이용하여 결측값 제거\n",
    "# dataframe col 순회\n",
    "# for col in train.columns:\n",
    "#     if train[col].isnull().sum() != 0 : # 결측값이 있다면\n",
    "#         #최빈값으로 처리\n",
    "#         train[col] = train[col].fillna(train[col].mode()[0]) \n",
    "# for col in test.columns:\n",
    "#     if test[col].isnull().sum() != 0:\n",
    "#         test[col] = test[col].fillna(test[col].mode()[0])\n",
    "        \n",
    "# object -> int\n",
    "for col in test.columns:\n",
    "    if test[col].dtype == \"object\":\n",
    "        test[col] = test[col].astype(str)\n",
    "        train[col] = train[col].astype(str)\n",
    "        label = pd.concat([test[col],train[col]],axis=0)\n",
    "        le.fit(label)\n",
    "        test[col]=le.transform(test[col])\n",
    "        train[col]= le.transform(train[col])\n",
    "        \n",
    "print(train.info())"
   ]
  },
  {
   "cell_type": "code",
   "execution_count": 9,
   "metadata": {},
   "outputs": [],
   "source": [
    "# 사용하지 않은 컬럼을 제거하여 Train, Test 데이터 설정\n",
    "x_train = np.array(train.drop([\"index\",\"enrollee_id\",\"target\"],axis=1))\n",
    "x_test = np.array(test.drop([\"index\",\"enrollee_id\"],axis=1))\n",
    "y_train = np.array(train[\"target\"])"
   ]
  },
  {
   "cell_type": "code",
   "execution_count": 10,
   "metadata": {},
   "outputs": [],
   "source": [
    "# 데이터 전처리\n",
    "# 값의 범위가 크므로 정규화가 필요\n",
    "\n",
    "from sklearn.preprocessing import StandardScaler, MinMaxScaler\n",
    "scaler = MinMaxScaler()\n",
    "x_train = scaler.fit_transform(x_train)\n",
    "x_test = scaler.transform(x_test)"
   ]
  },
  {
   "cell_type": "code",
   "execution_count": 11,
   "metadata": {},
   "outputs": [
    {
     "name": "stdout",
     "output_type": "stream",
     "text": [
      "(15326, 12)\n",
      "(15326,)\n",
      "(3832, 12)\n"
     ]
    }
   ],
   "source": [
    "# 데이터 모양 확인\n",
    "print(x_train.shape)\n",
    "print(y_train.shape)\n",
    "print(x_test.shape)"
   ]
  },
  {
   "cell_type": "code",
   "execution_count": 12,
   "metadata": {},
   "outputs": [],
   "source": [
    "# 데이터 Tensor에 올리기\n",
    "x_train = torch.Tensor(x_train).to(device)\n",
    "x_test = torch.Tensor(x_test).to(device)\n",
    "y_train = torch.Tensor(y_train).to(device)"
   ]
  },
  {
   "cell_type": "code",
   "execution_count": 13,
   "metadata": {},
   "outputs": [],
   "source": [
    "# 레이어 생성\n",
    "layer1 = torch.nn.Linear(x_train.shape[1],512,bias=True).to(device)\n",
    "layer2 = torch.nn.Linear(512,128,bias=True).to(device)\n",
    "layer3 = torch.nn.Linear(128,1,bias=True).to(device)\n",
    "relu = torch.nn.ReLU().to(device)\n",
    "dropout = torch.nn.Dropout(0.3).to(device)\n",
    "sigmoid = torch.nn.Sigmoid()"
   ]
  },
  {
   "cell_type": "code",
   "execution_count": 14,
   "metadata": {
    "tags": []
   },
   "outputs": [
    {
     "data": {
      "text/plain": [
       "Parameter containing:\n",
       "tensor([[-7.2337e-02, -1.2721e-01,  1.0374e-01,  4.0329e-02,  5.9353e-02,\n",
       "          9.2824e-02, -7.2548e-02,  2.3038e-01,  2.5395e-02,  3.0111e-02,\n",
       "          6.0890e-02, -1.0951e-01,  7.5195e-02, -7.1403e-02, -1.5186e-01,\n",
       "         -2.3052e-01,  1.0646e-01,  3.0491e-02, -1.8354e-02,  1.7995e-01,\n",
       "         -1.0617e-01,  1.1650e-01, -1.2367e-01, -8.5444e-02, -8.1011e-02,\n",
       "          7.0291e-02,  7.6303e-02,  2.4786e-01, -8.1748e-03, -2.6638e-01,\n",
       "         -1.6572e-02, -8.6298e-02,  1.0499e-01,  3.1148e-02,  2.4495e-01,\n",
       "         -9.0411e-02, -1.5275e-01,  2.4809e-02, -1.8261e-01, -8.3660e-02,\n",
       "         -1.4109e-01,  1.4893e-01, -2.7282e-03, -3.4879e-03, -1.4359e-02,\n",
       "          1.8971e-04,  9.8188e-02,  3.6810e-02,  1.3839e-01,  1.1777e-01,\n",
       "         -9.9582e-02,  9.4888e-02,  1.2752e-01, -2.1283e-01, -4.2352e-02,\n",
       "         -3.8950e-02,  1.7021e-01, -9.4779e-02, -2.2908e-02, -9.3018e-02,\n",
       "          8.0548e-03,  1.5736e-01,  5.2474e-02,  3.5708e-02,  3.3047e-02,\n",
       "          4.8953e-03,  7.6407e-02,  2.0610e-01,  2.0980e-01, -4.9955e-02,\n",
       "         -1.6065e-01, -4.8153e-02,  3.3983e-02,  4.4670e-02,  2.0824e-01,\n",
       "         -2.8568e-02,  2.7659e-02,  5.8080e-02, -6.6248e-02, -9.2737e-02,\n",
       "         -1.4657e-01, -1.2483e-01, -2.1816e-01, -1.0111e-01, -1.8881e-02,\n",
       "          9.7072e-02,  8.5435e-02, -1.9087e-02, -1.2022e-02,  6.8570e-02,\n",
       "          9.0032e-02, -2.2743e-01, -1.2869e-01, -1.3186e-02,  7.3139e-02,\n",
       "         -1.2377e-01,  1.2359e-02, -1.8306e-01, -1.5161e-01, -5.7563e-02,\n",
       "          6.1182e-02,  1.0634e-01,  1.2241e-01,  2.4332e-01,  1.0710e-01,\n",
       "         -2.8563e-02, -1.9134e-01, -1.8026e-01, -4.9143e-02,  6.1329e-02,\n",
       "          1.6411e-02, -8.6024e-02,  1.9585e-02, -1.8000e-01,  1.4141e-01,\n",
       "          5.9539e-02, -5.3634e-02, -1.2691e-01,  1.8913e-01, -7.2432e-02,\n",
       "         -1.7090e-01, -1.1008e-02, -1.7790e-01, -1.5415e-01, -1.5373e-01,\n",
       "          2.4651e-01,  1.1952e-01,  1.4651e-01]], device='cuda:0',\n",
       "       requires_grad=True)"
      ]
     },
     "execution_count": 14,
     "metadata": {},
     "output_type": "execute_result"
    }
   ],
   "source": [
    "# 레이어 가중치 초기화\n",
    "torch.nn.init.xavier_normal_(layer1.weight)\n",
    "torch.nn.init.xavier_normal_(layer2.weight)\n",
    "torch.nn.init.xavier_normal_(layer3.weight)\n"
   ]
  },
  {
   "cell_type": "code",
   "execution_count": 15,
   "metadata": {},
   "outputs": [],
   "source": [
    "# 모델 생성\n",
    "model = torch.nn.Sequential(layer1, relu,dropout,\n",
    "                            layer2, relu,dropout,\n",
    "                           layer3,sigmoid).to(device)"
   ]
  },
  {
   "cell_type": "code",
   "execution_count": 16,
   "metadata": {},
   "outputs": [],
   "source": [
    "# 학습 파라미터 설정\n",
    "lr = 1e-2\n",
    "epochs = 200"
   ]
  },
  {
   "cell_type": "code",
   "execution_count": 17,
   "metadata": {},
   "outputs": [],
   "source": [
    "# 손실 함수, 최적화 함수 정의\n",
    "loss = torch.nn.BCELoss().to(device)\n",
    "optim = torch.optim.Adam(model.parameters(), lr=lr)"
   ]
  },
  {
   "cell_type": "code",
   "execution_count": 18,
   "metadata": {},
   "outputs": [
    {
     "name": "stdout",
     "output_type": "stream",
     "text": [
      "0 0.7350389361381531 0.3586062788963318\n",
      "20 0.5167916417121887 0.7530340552330017\n",
      "40 0.4883447289466858 0.7632781267166138\n",
      "60 0.47883015871047974 0.7664100527763367\n",
      "80 0.4713878035545349 0.7731306552886963\n",
      "100 0.4661242961883545 0.7701292037963867\n",
      "120 0.4622177481651306 0.7785462737083435\n",
      "140 0.4593464434146881 0.7809604406356812\n",
      "160 0.45651745796203613 0.7820696830749512\n",
      "180 0.454098641872406 0.7838966250419617\n",
      "200 0.45318660140037537 0.7846143841743469\n"
     ]
    }
   ],
   "source": [
    "# 학습\n",
    "model.train()\n",
    "for epoch in range(epochs+1):\n",
    "    optim.zero_grad()\n",
    "    h = model(x_train)\n",
    "    cost = loss(h,y_train.unsqueeze(1))\n",
    "    cost.backward()\n",
    "    optim.step()\n",
    "    if epoch % (epochs/10) == 0:\n",
    "        predict = h > torch.Tensor([0.5]).to(device)\n",
    "        predict = predict.int()\n",
    "        predict = predict == y_train.unsqueeze(1)\n",
    "        acc = sum(predict)/len(y_train.unsqueeze(1))\n",
    "        print(epoch, cost.item(),acc.item())"
   ]
  },
  {
   "cell_type": "code",
   "execution_count": 19,
   "metadata": {},
   "outputs": [
    {
     "name": "stdout",
     "output_type": "stream",
     "text": [
      "      index  target\n",
      "0         2     1.0\n",
      "1         9     0.0\n",
      "2        10     1.0\n",
      "3        11     0.0\n",
      "4        15     0.0\n",
      "...     ...     ...\n",
      "3827  19129     0.0\n",
      "3828  19132     0.0\n",
      "3829  19135     0.0\n",
      "3830  19149     0.0\n",
      "3831  19155     0.0\n",
      "\n",
      "[3832 rows x 2 columns]\n"
     ]
    }
   ],
   "source": [
    "with torch.no_grad():\n",
    "    model.eval()\n",
    "    predict = model(x_test)\n",
    "    predict = predict >= torch.Tensor([0.5]).to(device)\n",
    "    predict = predict.float()\n",
    "submission[\"target\"] = predict.cpu().detach().numpy()\n",
    "print(submission)"
   ]
  },
  {
   "cell_type": "code",
   "execution_count": 20,
   "metadata": {},
   "outputs": [],
   "source": [
    "submission.to_csv(\"submission.csv\",index=False)"
   ]
  },
  {
   "cell_type": "code",
   "execution_count": null,
   "metadata": {},
   "outputs": [],
   "source": []
  }
 ],
 "metadata": {
  "kernelspec": {
   "display_name": "Python 3",
   "language": "python",
   "name": "python3"
  },
  "language_info": {
   "codemirror_mode": {
    "name": "ipython",
    "version": 3
   },
   "file_extension": ".py",
   "mimetype": "text/x-python",
   "name": "python",
   "nbconvert_exporter": "python",
   "pygments_lexer": "ipython3",
   "version": "3.8.10"
  }
 },
 "nbformat": 4,
 "nbformat_minor": 4
}
