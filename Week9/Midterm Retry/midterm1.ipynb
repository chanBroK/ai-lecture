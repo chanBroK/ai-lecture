{
 "cells": [
  {
   "cell_type": "code",
   "execution_count": 1,
   "metadata": {},
   "outputs": [],
   "source": [
    "import pandas as pd\n",
    "import numpy as np"
   ]
  },
  {
   "cell_type": "code",
   "execution_count": 2,
   "metadata": {},
   "outputs": [],
   "source": [
    "import torch\n",
    "import sklearn"
   ]
  },
  {
   "cell_type": "code",
   "execution_count": 3,
   "metadata": {},
   "outputs": [],
   "source": [
    "device = \"cuda\" if torch.cuda.is_available() else \"cpu\""
   ]
  },
  {
   "cell_type": "code",
   "execution_count": null,
   "metadata": {},
   "outputs": [],
   "source": [
    "# 1. dropout 이 높으면 학습 노드의 감소로 학습에 악영향을 줄 수도 있다.\n",
    "# 2. layer의 노드수 조정으로 베이스 라인을 넘음"
   ]
  },
  {
   "cell_type": "code",
   "execution_count": 4,
   "metadata": {},
   "outputs": [],
   "source": [
    "# 랜덤 시드 설정\n",
    "torch.manual_seed(1)\n",
    "if device == \"cuda\" :\n",
    "    torch.cuda.manual_seed_all(1)"
   ]
  },
  {
   "cell_type": "code",
   "execution_count": 7,
   "metadata": {},
   "outputs": [
    {
     "name": "stdout",
     "output_type": "stream",
     "text": [
      "      index  0  1   2   3   4   5  6  7  8  ...  55  56  57  58  59  60  61  \\\n",
      "0         0  0  0   5  13   9   1  0  0  0  ...   0   0   0   6  13  10   0   \n",
      "1         1  0  0   0  12  13   5  0  0  0  ...   0   0   0   0  11  16  10   \n",
      "2         2  0  0   0   4  15  12  0  0  0  ...   0   0   0   0   3  11  16   \n",
      "3         3  0  0   7  15  13   1  0  0  0  ...   0   0   0   7  13  13   9   \n",
      "4         4  0  0   0   1  11   0  0  0  0  ...   0   0   0   0   2  16   4   \n",
      "...     ... .. ..  ..  ..  ..  .. .. .. ..  ...  ..  ..  ..  ..  ..  ..  ..   \n",
      "1432   1792  0  0   4  10  13   6  0  0  0  ...   0   0   0   2  14  15   9   \n",
      "1433   1793  0  0   6  16  13  11  1  0  0  ...   0   0   0   6  16  14   6   \n",
      "1434   1794  0  0   1  11  15   1  0  0  0  ...   0   0   0   2   9  13   6   \n",
      "1435   1795  0  0   2  10   7   0  0  0  0  ...   0   0   0   5  12  16  12   \n",
      "1436   1796  0  0  10  14   8   1  0  0  0  ...   0   0   1   8  12  14  12   \n",
      "\n",
      "      62  63  label  \n",
      "0      0   0      0  \n",
      "1      0   0      1  \n",
      "2      9   0      2  \n",
      "3      0   0      3  \n",
      "4      0   0      4  \n",
      "...   ..  ..    ...  \n",
      "1432   0   0      9  \n",
      "1433   0   0      0  \n",
      "1434   0   0      8  \n",
      "1435   0   0      9  \n",
      "1436   1   0      8  \n",
      "\n",
      "[1437 rows x 66 columns]\n"
     ]
    }
   ],
   "source": [
    "# csv 데이터 로드\n",
    "train = pd.read_csv(\"2021-ai-midterm-p1/train.csv\")\n",
    "test = pd.read_csv(\"2021-ai-midterm-p1/test.csv\")\n",
    "submission = pd.read_csv(\"2021-ai-midterm-p1/submit_sample.csv\")\n",
    "\n",
    "# 데이터 확인\n",
    "print(train)"
   ]
  },
  {
   "cell_type": "code",
   "execution_count": 8,
   "metadata": {},
   "outputs": [],
   "source": [
    "# 사용하지 않은 컬럼을 제거하여 Train, Test 데이터 설정\n",
    "x_train = np.array(train.drop([\"index\",\"label\"],axis=1))\n",
    "x_test = np.array(test.drop([\"index\"],axis=1))\n",
    "y_train = np.array(train[\"label\"])"
   ]
  },
  {
   "cell_type": "code",
   "execution_count": 9,
   "metadata": {},
   "outputs": [],
   "source": [
    "# 데이터 전처리\n",
    "# 이미 데이터가 정규화 되어 0~16사이의 값을 가지고 있음"
   ]
  },
  {
   "cell_type": "code",
   "execution_count": 11,
   "metadata": {},
   "outputs": [
    {
     "data": {
      "text/plain": [
       "array([0, 1, 2, 3, 4, 5, 6, 7, 8, 9], dtype=int64)"
      ]
     },
     "execution_count": 11,
     "metadata": {},
     "output_type": "execute_result"
    }
   ],
   "source": [
    "# label 데이터 확인 \n",
    "np.unique(y_train)"
   ]
  },
  {
   "cell_type": "code",
   "execution_count": 15,
   "metadata": {},
   "outputs": [
    {
     "name": "stdout",
     "output_type": "stream",
     "text": [
      "(1437, 64)\n",
      "(1437,)\n",
      "(360, 64)\n"
     ]
    }
   ],
   "source": [
    "# 데이터 모양 확인\n",
    "print(x_train.shape)\n",
    "print(y_train.shape)\n",
    "print(x_test.shape)"
   ]
  },
  {
   "cell_type": "code",
   "execution_count": 26,
   "metadata": {},
   "outputs": [],
   "source": [
    "# 데이터 Tensor에 올리기\n",
    "x_train = torch.Tensor(x_train).to(device)\n",
    "x_test = torch.Tensor(x_test).to(device)\n",
    "y_train = torch.LongTensor(y_train).to(device)"
   ]
  },
  {
   "cell_type": "code",
   "execution_count": 27,
   "metadata": {},
   "outputs": [],
   "source": [
    "# 학습 파라미터 설정\n",
    "lr = 0.001\n",
    "epochs = 10000\n",
    "drop_prob = 0.2"
   ]
  },
  {
   "cell_type": "code",
   "execution_count": 28,
   "metadata": {},
   "outputs": [],
   "source": [
    "# 레이어 생성\n",
    "layer1 = torch.nn.Linear(64,512,bias=True).to(device)\n",
    "layer2 = torch.nn.Linear(512,512,bias=True).to(device)\n",
    "layer3 = torch.nn.Linear(512,1024,bias=True).to(device)\n",
    "layer4 = torch.nn.Linear(1024,10,bias=True).to(device)\n",
    "relu = torch.nn.ReLU().to(device)\n",
    "dropout = torch.nn.Dropout(drop_prob).to(device)"
   ]
  },
  {
   "cell_type": "code",
   "execution_count": 29,
   "metadata": {},
   "outputs": [
    {
     "data": {
      "text/plain": [
       "Parameter containing:\n",
       "tensor([[ 0.0596,  0.0306,  0.0293,  ..., -0.0427,  0.0134,  0.0364],\n",
       "        [ 0.0468,  0.0705, -0.1309,  ...,  0.0140,  0.0094, -0.0156],\n",
       "        [-0.0245,  0.0701,  0.0225,  ..., -0.0169, -0.0777, -0.0117],\n",
       "        ...,\n",
       "        [ 0.0673, -0.0098, -0.0804,  ...,  0.0517,  0.0285, -0.0075],\n",
       "        [ 0.0172,  0.0112,  0.0133,  ...,  0.0413, -0.0032,  0.0136],\n",
       "        [ 0.0130, -0.0259,  0.0191,  ...,  0.0266, -0.0119,  0.0188]],\n",
       "       device='cuda:0', requires_grad=True)"
      ]
     },
     "execution_count": 29,
     "metadata": {},
     "output_type": "execute_result"
    }
   ],
   "source": [
    "# 레이어 가중치 초기화\n",
    "torch.nn.init.xavier_normal_(layer1.weight)\n",
    "torch.nn.init.xavier_normal_(layer2.weight)\n",
    "torch.nn.init.xavier_normal_(layer3.weight)\n",
    "torch.nn.init.xavier_normal_(layer4.weight)"
   ]
  },
  {
   "cell_type": "code",
   "execution_count": 30,
   "metadata": {},
   "outputs": [],
   "source": [
    "# 모델 생성\n",
    "model = torch.nn.Sequential(layer1, relu, dropout,\n",
    "                           layer2, relu, dropout,\n",
    "                           layer3, relu, dropout,\n",
    "                           layer4).to(device)"
   ]
  },
  {
   "cell_type": "code",
   "execution_count": 31,
   "metadata": {},
   "outputs": [],
   "source": [
    "# 손실 함수, 최적화 함수 정의\n",
    "loss = torch.nn.CrossEntropyLoss().to(device)\n",
    "optim = torch.optim.Adam(model.parameters(), lr=lr)"
   ]
  },
  {
   "cell_type": "code",
   "execution_count": 35,
   "metadata": {},
   "outputs": [
    {
     "name": "stdout",
     "output_type": "stream",
     "text": [
      "0 2.073924587620013e-09\n",
      "1000 1.659821293742425e-07\n",
      "2000 0.0\n",
      "3000 7.63974639994558e-06\n",
      "4000 0.0\n",
      "5000 5.793015702693083e-07\n",
      "6000 1.3521876063293803e-08\n",
      "7000 2.4057509317998438e-09\n",
      "8000 0.05896907299757004\n",
      "9000 0.0\n",
      "10000 0.0\n"
     ]
    }
   ],
   "source": [
    "# 학습\n",
    "model.train()\n",
    "for epoch in range(epochs+1):\n",
    "    optim.zero_grad()\n",
    "    h = model(x_train)\n",
    "    cost = loss(h,y_train)\n",
    "    cost.backward()\n",
    "    optim.step()\n",
    "    if epoch % (epochs/10) == 0:\n",
    "        print(epoch, cost.item())"
   ]
  },
  {
   "cell_type": "code",
   "execution_count": 43,
   "metadata": {},
   "outputs": [
    {
     "name": "stdout",
     "output_type": "stream",
     "text": [
      "     index  label\n",
      "0       23      3\n",
      "1       29      9\n",
      "2       30      0\n",
      "3       32      5\n",
      "4       44      7\n",
      "..     ...    ...\n",
      "355   1774      1\n",
      "356   1784      5\n",
      "357   1785      7\n",
      "358   1786      9\n",
      "359   1790      8\n",
      "\n",
      "[360 rows x 2 columns]\n"
     ]
    }
   ],
   "source": [
    "with torch.no_grad():\n",
    "    model.eval()\n",
    "    predict = model(x_test)\n",
    "    predict = torch.argmax(predict,dim=1)\n",
    "    predict = predict.cpu().detach().numpy()\n",
    "submission[\"label\"] = predict\n",
    "print(submission)"
   ]
  },
  {
   "cell_type": "code",
   "execution_count": 45,
   "metadata": {},
   "outputs": [],
   "source": [
    "submission.to_csv(\"submission.csv\",index=False)"
   ]
  },
  {
   "cell_type": "code",
   "execution_count": null,
   "metadata": {},
   "outputs": [],
   "source": []
  }
 ],
 "metadata": {
  "kernelspec": {
   "display_name": "Python 3",
   "language": "python",
   "name": "python3"
  },
  "language_info": {
   "codemirror_mode": {
    "name": "ipython",
    "version": 3
   },
   "file_extension": ".py",
   "mimetype": "text/x-python",
   "name": "python",
   "nbconvert_exporter": "python",
   "pygments_lexer": "ipython3",
   "version": "3.8.10"
  }
 },
 "nbformat": 4,
 "nbformat_minor": 4
}
