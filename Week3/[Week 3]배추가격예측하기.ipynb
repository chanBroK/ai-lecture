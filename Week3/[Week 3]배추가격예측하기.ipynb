{
 "cells": [
  {
   "cell_type": "code",
   "execution_count": null,
   "metadata": {
    "id": "iKR_OtzS0R5f"
   },
   "outputs": [],
   "source": [
    "import pandas as pd\n",
    "import numpy as np"
   ]
  },
  {
   "cell_type": "code",
   "execution_count": null,
   "metadata": {
    "colab": {
     "base_uri": "https://localhost:8080/"
    },
    "executionInfo": {
     "elapsed": 24854,
     "status": "ok",
     "timestamp": 1633915306381,
     "user": {
      "displayName": "김형찬",
      "photoUrl": "https://lh3.googleusercontent.com/a-/AOh14Gg6LQCDSZQ2OZSGwSClHlCqIPpq3Qo8j2E-mY7NWw=s64",
      "userId": "18092136259561212732"
     },
     "user_tz": -540
    },
    "id": "s2INfzJf0odD",
    "outputId": "342e2f50-1974-4829-f298-774f650abbdc"
   },
   "outputs": [
    {
     "data": {
      "text/plain": [
       "<torch._C.Generator at 0x7ff1d8081a70>"
      ]
     },
     "execution_count": 2,
     "metadata": {},
     "output_type": "execute_result"
    }
   ],
   "source": [
    "import torch\n",
    "torch.manual_seed(1)"
   ]
  },
  {
   "cell_type": "code",
   "execution_count": null,
   "metadata": {},
   "outputs": [],
   "source": [
    "!pip uninstall jedi"
   ]
  },
  {
   "cell_type": "code",
   "execution_count": null,
   "metadata": {
    "colab": {
     "base_uri": "https://localhost:8080/"
    },
    "executionInfo": {
     "elapsed": 556,
     "status": "ok",
     "timestamp": 1633915447811,
     "user": {
      "displayName": "김형찬",
      "photoUrl": "https://lh3.googleusercontent.com/a-/AOh14Gg6LQCDSZQ2OZSGwSClHlCqIPpq3Qo8j2E-mY7NWw=s64",
      "userId": "18092136259561212732"
     },
     "user_tz": -540
    },
    "id": "YPpw8YjE0qLI",
    "outputId": "42a0baaf-d86a-42ff-91d6-b8e0546efb5a"
   },
   "outputs": [
    {
     "name": "stdout",
     "output_type": "stream",
     "text": [
      "       year  avgTemp  minTemp  maxTemp  rainFall  avgPrice\n",
      "0  20100101     -4.9    -11.0      0.9       0.0      2123\n",
      "1  20100102     -3.1     -5.5      5.5       0.8      2123\n",
      "2  20100103     -2.9     -6.9      1.4       0.0      2123\n",
      "3  20100104     -1.8     -5.1      2.2       5.9      2020\n",
      "4  20100105     -5.2     -8.7     -1.8       0.7      2060\n",
      "       year  avgTemp  minTemp  maxTemp  rainFall\n",
      "0  20170107      4.0     -1.4      9.5       0.1\n",
      "1  20170120     -1.7     -5.4      1.4       3.3\n",
      "2  20170223      1.4     -2.0      5.0       0.0\n",
      "3  20170227      3.6     -2.5     11.1       0.1\n",
      "4  20170309      5.0     -1.6     11.3       0.0\n",
      "   Id  Expected\n",
      "0   0      1000\n",
      "1   1      1000\n",
      "2   2      1000\n",
      "3   3      1000\n",
      "4   4      1000\n"
     ]
    }
   ],
   "source": [
    "train_df = pd.read_csv(\"drive/MyDrive/Colab Notebooks/data_sample/2021-ai-w3-p1/train.csv\")\n",
    "test_df = pd.read_csv(\"drive/MyDrive/Colab Notebooks/data_sample/2021-ai-w3-p1/test.csv\")\n",
    "submit_df =pd.read_csv(\"drive/MyDrive/Colab Notebooks/data_sample/2021-ai-w3-p1/submit_sample.csv\")\n",
    "print(train_df.head())\n",
    "print(test_df.head())\n",
    "print(submit_df.head())"
   ]
  },
  {
   "cell_type": "code",
   "execution_count": null,
   "metadata": {
    "colab": {
     "base_uri": "https://localhost:8080/"
    },
    "executionInfo": {
     "elapsed": 14716,
     "status": "ok",
     "timestamp": 1633915470178,
     "user": {
      "displayName": "김형찬",
      "photoUrl": "https://lh3.googleusercontent.com/a-/AOh14Gg6LQCDSZQ2OZSGwSClHlCqIPpq3Qo8j2E-mY7NWw=s64",
      "userId": "18092136259561212732"
     },
     "user_tz": -540
    },
    "id": "8kuo4cAh5XLF",
    "outputId": "54359776-e552-45b6-9580-c7ff3d410b3e"
   },
   "outputs": [
    {
     "name": "stdout",
     "output_type": "stream",
     "text": [
      "torch.Size([2557, 4])\n",
      "torch.Size([2557])\n"
     ]
    }
   ],
   "source": [
    "train_x = torch.Tensor(np.array(train_df.drop([\"year\",\"avgPrice\"],axis = 1))).cuda()\n",
    "train_y = torch.Tensor(np.array(train_df['avgPrice'])).cuda()\n",
    "print(train_x.shape)\n",
    "print(train_y.shape)"
   ]
  },
  {
   "cell_type": "code",
   "execution_count": null,
   "metadata": {
    "id": "WR0zp1-55wjZ"
   },
   "outputs": [],
   "source": [
    "w = torch.zeros((4,1),requires_grad=True,device=\"cuda\")\n",
    "b = torch.zeros(1,requires_grad=True,device = \"cuda\")\n",
    "\n",
    "optimizer = torch.optim.SGD([w,b],lr=1e-3)\n",
    "\n",
    "epochs = 1000"
   ]
  },
  {
   "cell_type": "code",
   "execution_count": null,
   "metadata": {
    "colab": {
     "base_uri": "https://localhost:8080/"
    },
    "executionInfo": {
     "elapsed": 3288,
     "status": "ok",
     "timestamp": 1633915537855,
     "user": {
      "displayName": "김형찬",
      "photoUrl": "https://lh3.googleusercontent.com/a-/AOh14Gg6LQCDSZQ2OZSGwSClHlCqIPpq3Qo8j2E-mY7NWw=s64",
      "userId": "18092136259561212732"
     },
     "user_tz": -540
    },
    "id": "Hsljjo3V6-9k",
    "outputId": "9d1bbaff-e6fa-4313-a8c6-b376c7da6372"
   },
   "outputs": [
    {
     "name": "stdout",
     "output_type": "stream",
     "text": [
      "12013343.0\n",
      "2373768.75\n",
      "2359780.0\n",
      "2346367.25\n",
      "2333321.25\n",
      "2320630.5\n",
      "2308284.0\n",
      "2296271.25\n",
      "2284581.75\n",
      "2273205.5\n",
      "2262133.0\n"
     ]
    }
   ],
   "source": [
    "for epoch in range(epochs+1):\n",
    "  optimizer.zero_grad()\n",
    "\n",
    "  hypothesis = train_x.matmul(w)+b\n",
    "  cost = torch.mean((hypothesis - train_y) ** 2)\n",
    "\n",
    "  cost.backward()\n",
    "  optimizer.step()\n",
    "\n",
    "  if(epoch % 100 == 0):\n",
    "    print(cost.item())"
   ]
  },
  {
   "cell_type": "code",
   "execution_count": null,
   "metadata": {
    "id": "E68RoEj77nls"
   },
   "outputs": [],
   "source": [
    "test_x = torch.Tensor(np.array(test_df.drop(['year'],axis=1))).cuda()\n",
    "predict = test_x.matmul(w) + b"
   ]
  },
  {
   "cell_type": "code",
   "execution_count": null,
   "metadata": {
    "colab": {
     "base_uri": "https://localhost:8080/",
     "height": 793
    },
    "executionInfo": {
     "elapsed": 209,
     "status": "ok",
     "timestamp": 1633915688436,
     "user": {
      "displayName": "김형찬",
      "photoUrl": "https://lh3.googleusercontent.com/a-/AOh14Gg6LQCDSZQ2OZSGwSClHlCqIPpq3Qo8j2E-mY7NWw=s64",
      "userId": "18092136259561212732"
     },
     "user_tz": -540
    },
    "id": "E03bV83j9PnM",
    "outputId": "f512a29f-3c4a-4ca9-8a8a-afbb4a094888"
   },
   "outputs": [
    {
     "data": {
      "text/html": [
       "<div>\n",
       "<style scoped>\n",
       "    .dataframe tbody tr th:only-of-type {\n",
       "        vertical-align: middle;\n",
       "    }\n",
       "\n",
       "    .dataframe tbody tr th {\n",
       "        vertical-align: top;\n",
       "    }\n",
       "\n",
       "    .dataframe thead th {\n",
       "        text-align: right;\n",
       "    }\n",
       "</style>\n",
       "<table border=\"1\" class=\"dataframe\">\n",
       "  <thead>\n",
       "    <tr style=\"text-align: right;\">\n",
       "      <th></th>\n",
       "      <th>Id</th>\n",
       "      <th>Expected</th>\n",
       "    </tr>\n",
       "  </thead>\n",
       "  <tbody>\n",
       "    <tr>\n",
       "      <th>0</th>\n",
       "      <td>0</td>\n",
       "      <td>2873.745117</td>\n",
       "    </tr>\n",
       "    <tr>\n",
       "      <th>1</th>\n",
       "      <td>1</td>\n",
       "      <td>1935.066895</td>\n",
       "    </tr>\n",
       "    <tr>\n",
       "      <th>2</th>\n",
       "      <td>2</td>\n",
       "      <td>1959.736328</td>\n",
       "    </tr>\n",
       "    <tr>\n",
       "      <th>3</th>\n",
       "      <td>3</td>\n",
       "      <td>3519.638184</td>\n",
       "    </tr>\n",
       "    <tr>\n",
       "      <th>4</th>\n",
       "      <td>4</td>\n",
       "      <td>3313.127441</td>\n",
       "    </tr>\n",
       "    <tr>\n",
       "      <th>5</th>\n",
       "      <td>5</td>\n",
       "      <td>3390.072266</td>\n",
       "    </tr>\n",
       "    <tr>\n",
       "      <th>6</th>\n",
       "      <td>6</td>\n",
       "      <td>2973.497070</td>\n",
       "    </tr>\n",
       "    <tr>\n",
       "      <th>7</th>\n",
       "      <td>7</td>\n",
       "      <td>4289.859375</td>\n",
       "    </tr>\n",
       "    <tr>\n",
       "      <th>8</th>\n",
       "      <td>8</td>\n",
       "      <td>3641.329590</td>\n",
       "    </tr>\n",
       "    <tr>\n",
       "      <th>9</th>\n",
       "      <td>9</td>\n",
       "      <td>4409.956543</td>\n",
       "    </tr>\n",
       "    <tr>\n",
       "      <th>10</th>\n",
       "      <td>10</td>\n",
       "      <td>2171.531494</td>\n",
       "    </tr>\n",
       "    <tr>\n",
       "      <th>11</th>\n",
       "      <td>11</td>\n",
       "      <td>3792.250488</td>\n",
       "    </tr>\n",
       "    <tr>\n",
       "      <th>12</th>\n",
       "      <td>12</td>\n",
       "      <td>2948.758301</td>\n",
       "    </tr>\n",
       "    <tr>\n",
       "      <th>13</th>\n",
       "      <td>13</td>\n",
       "      <td>3156.181152</td>\n",
       "    </tr>\n",
       "    <tr>\n",
       "      <th>14</th>\n",
       "      <td>14</td>\n",
       "      <td>2490.897949</td>\n",
       "    </tr>\n",
       "    <tr>\n",
       "      <th>15</th>\n",
       "      <td>15</td>\n",
       "      <td>3514.080566</td>\n",
       "    </tr>\n",
       "    <tr>\n",
       "      <th>16</th>\n",
       "      <td>16</td>\n",
       "      <td>3445.708984</td>\n",
       "    </tr>\n",
       "    <tr>\n",
       "      <th>17</th>\n",
       "      <td>17</td>\n",
       "      <td>4335.089355</td>\n",
       "    </tr>\n",
       "    <tr>\n",
       "      <th>18</th>\n",
       "      <td>18</td>\n",
       "      <td>3164.769531</td>\n",
       "    </tr>\n",
       "    <tr>\n",
       "      <th>19</th>\n",
       "      <td>19</td>\n",
       "      <td>3476.918945</td>\n",
       "    </tr>\n",
       "    <tr>\n",
       "      <th>20</th>\n",
       "      <td>20</td>\n",
       "      <td>2525.662109</td>\n",
       "    </tr>\n",
       "    <tr>\n",
       "      <th>21</th>\n",
       "      <td>21</td>\n",
       "      <td>2856.087891</td>\n",
       "    </tr>\n",
       "    <tr>\n",
       "      <th>22</th>\n",
       "      <td>22</td>\n",
       "      <td>3190.257812</td>\n",
       "    </tr>\n",
       "    <tr>\n",
       "      <th>23</th>\n",
       "      <td>23</td>\n",
       "      <td>1766.783325</td>\n",
       "    </tr>\n",
       "  </tbody>\n",
       "</table>\n",
       "</div>"
      ],
      "text/plain": [
       "    Id     Expected\n",
       "0    0  2873.745117\n",
       "1    1  1935.066895\n",
       "2    2  1959.736328\n",
       "3    3  3519.638184\n",
       "4    4  3313.127441\n",
       "5    5  3390.072266\n",
       "6    6  2973.497070\n",
       "7    7  4289.859375\n",
       "8    8  3641.329590\n",
       "9    9  4409.956543\n",
       "10  10  2171.531494\n",
       "11  11  3792.250488\n",
       "12  12  2948.758301\n",
       "13  13  3156.181152\n",
       "14  14  2490.897949\n",
       "15  15  3514.080566\n",
       "16  16  3445.708984\n",
       "17  17  4335.089355\n",
       "18  18  3164.769531\n",
       "19  19  3476.918945\n",
       "20  20  2525.662109\n",
       "21  21  2856.087891\n",
       "22  22  3190.257812\n",
       "23  23  1766.783325"
      ]
     },
     "execution_count": 17,
     "metadata": {},
     "output_type": "execute_result"
    }
   ],
   "source": [
    "submit_df['Expected'] = predict.cpu().detach().numpy()\n",
    "submit_df"
   ]
  },
  {
   "cell_type": "code",
   "execution_count": null,
   "metadata": {
    "id": "6bw-ktdD9nNq"
   },
   "outputs": [],
   "source": []
  }
 ],
 "metadata": {
  "accelerator": "GPU",
  "colab": {
   "authorship_tag": "ABX9TyOcE1fWWPxzKCWJnOBiGRsq",
   "collapsed_sections": [],
   "mount_file_id": "1w3vGDLP0SyR1m0n-60qLgMb_Wcv7JRp7",
   "name": "[Week 3]배추가격예측하기.ipynb",
   "provenance": []
  },
  "kernelspec": {
   "display_name": "Python 3",
   "language": "python",
   "name": "python3"
  },
  "language_info": {
   "codemirror_mode": {
    "name": "ipython",
    "version": 3
   },
   "file_extension": ".py",
   "mimetype": "text/x-python",
   "name": "python",
   "nbconvert_exporter": "python",
   "pygments_lexer": "ipython3",
   "version": "3.8.10"
  }
 },
 "nbformat": 4,
 "nbformat_minor": 4
}
