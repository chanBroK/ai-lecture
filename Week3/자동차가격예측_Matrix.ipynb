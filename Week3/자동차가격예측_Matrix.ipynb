{
 "cells": [
  {
   "cell_type": "code",
   "execution_count": 12,
   "id": "a46fabc5-99fe-4a3f-8e94-d0de65ef3ce0",
   "metadata": {},
   "outputs": [],
   "source": [
    "import numpy as np\n",
    "import pandas as pd"
   ]
  },
  {
   "cell_type": "code",
   "execution_count": 13,
   "id": "b6d95b26-09ac-417b-b67d-f9007a326bd2",
   "metadata": {
    "tags": []
   },
   "outputs": [
    {
     "data": {
      "text/plain": [
       "<torch._C.Generator at 0x17e21e3a310>"
      ]
     },
     "execution_count": 13,
     "metadata": {},
     "output_type": "execute_result"
    }
   ],
   "source": [
    "import torch\n",
    "import torch.optim as optim\n",
    "from sklearn import preprocessing\n",
    "# For reproducibility\n",
    "torch.manual_seed(1)"
   ]
  },
  {
   "cell_type": "code",
   "execution_count": 14,
   "id": "32a251e2-e8fe-4122-8d09-86224c9483ed",
   "metadata": {},
   "outputs": [
    {
     "name": "stdout",
     "output_type": "stream",
     "text": [
      "   ID  company    model  year  transmission  mileage  fueltype  tax   mpg  \\\n",
      "0   0        2    Focus  2019             1     3764         4  145  34.5   \n",
      "1   1        1      I10  2015             1    27056         4   20  60.1   \n",
      "2   2        3       A3  2019             3     3375         4  145  34.5   \n",
      "3   3        3       A6  2019             0     5743         0  145  47.9   \n",
      "4   4        2   Fiesta  2015             1    32782         4    0  65.7   \n",
      "\n",
      "   engineSize  price  \n",
      "0         2.3  26299  \n",
      "1         1.0   5495  \n",
      "2         2.0  32400  \n",
      "3         2.0  29990  \n",
      "4         1.0   7250  \n",
      "   ID  company      model  year  transmission  mileage  fueltype  tax   mpg  \\\n",
      "0   0        2        Ka+  2017             1    10150         4  145  57.7   \n",
      "1   1        2       Kuga  2013             1    50216         0  145  53.3   \n",
      "2   2        3         Q5  2016             1    34189         0  200  47.9   \n",
      "3   3        1        I10  2020             1     1900         4  145  56.5   \n",
      "4   4        0   3 Series  2014             0    79809         0   20  68.9   \n",
      "\n",
      "   engineSize  \n",
      "0         1.2  \n",
      "1         2.0  \n",
      "2         2.0  \n",
      "3         1.0  \n",
      "4         2.0  \n",
      "   ID  price\n",
      "0   0      1\n",
      "1   1      1\n",
      "2   2      1\n",
      "3   3      1\n",
      "4   4      1\n"
     ]
    }
   ],
   "source": [
    "train_df = pd.read_csv(\"./자동차가격예측_data/train_data.csv\")\n",
    "test_df = pd.read_csv(\"./자동차가격예측_data/test_data.csv\")\n",
    "submit_df = pd.read_csv(\"./자동차가격예측_data/sample_submit.csv\")\n",
    "print(train_df.head())\n",
    "print(test_df.head())\n",
    "print(submit_df.head())"
   ]
  },
  {
   "cell_type": "code",
   "execution_count": 15,
   "id": "d470e3c2-a609-4751-b165-f92e95ed75f7",
   "metadata": {},
   "outputs": [
    {
     "name": "stdout",
     "output_type": "stream",
     "text": [
      "[' 1 Series' ' 2 Series' ' 3 Series' ' 4 Series' ' 5 Series' ' 6 Series'\n",
      " ' 7 Series' ' 8 Series' ' A1' ' A3' ' A4' ' A5' ' A6' ' A7' ' A8'\n",
      " ' Auris' ' Avensis' ' Aygo' ' B-MAX' ' C-HR' ' C-MAX' ' Camry' ' Corolla'\n",
      " ' EcoSport' ' Edge' ' Fiesta' ' Focus' ' Fusion' ' GT86' ' Galaxy'\n",
      " ' Getz' ' Grand C-MAX' ' Grand Tourneo Connect' ' Hilux' ' I10' ' I20'\n",
      " ' I30' ' I40' ' I800' ' IQ' ' IX20' ' IX35' ' Ioniq' ' KA' ' Ka+' ' Kona'\n",
      " ' Kuga' ' Land Cruiser' ' M2' ' M3' ' M4' ' M5' ' M6' ' Mondeo'\n",
      " ' Mustang' ' PROACE VERSO' ' Prius' ' Puma' ' Q2' ' Q3' ' Q5' ' Q7' ' Q8'\n",
      " ' R8' ' RAV4' ' RS3' ' RS4' ' RS5' ' RS6' ' S-MAX' ' S3' ' S4' ' S5'\n",
      " ' S8' ' SQ5' ' SQ7' ' Santa Fe' ' Supra' ' TT' ' Tourneo Connect'\n",
      " ' Tourneo Custom' ' Tucson' ' Urban Cruiser' ' Veloster' ' Verso'\n",
      " ' Verso-S' ' X1' ' X2' ' X3' ' X4' ' X5' ' X6' ' X7' ' Yaris' ' Z3' ' Z4'\n",
      " ' i3' ' i8']\n"
     ]
    }
   ],
   "source": [
    "## preprocessing LabelEncoding \"Model\" Column\n",
    "le = preprocessing.LabelEncoder()\n",
    "le.fit(train_df['model'])\n",
    "train_df['model'] = le.transform(train_df['model'])\n",
    "test_df['model'] = le.transform(test_df['model'])\n",
    "print(le.classes_)"
   ]
  },
  {
   "cell_type": "code",
   "execution_count": 16,
   "id": "907c3cf1-7cea-4416-bd53-ce4c1bc4e36f",
   "metadata": {},
   "outputs": [
    {
     "name": "stdout",
     "output_type": "stream",
     "text": [
      "torch.Size([17085, 9])\n",
      "torch.Size([17085])\n"
     ]
    }
   ],
   "source": [
    "x_train = np.array([train_df['company'],train_df['model'],train_df['year'],train_df['transmission'],train_df['mileage'],train_df['fueltype'],train_df['tax'],train_df['mpg'],train_df['engineSize']])\n",
    "x_train = x_train.T\n",
    "x_train = torch.FloatTensor(x_train).cuda()\n",
    "y_train = torch.FloatTensor(train_df['price']).cuda()\n",
    "print(x_train.shape)\n",
    "print(y_train.shape)"
   ]
  },
  {
   "cell_type": "code",
   "execution_count": 17,
   "id": "02ce1e67-548b-4c6d-9ec0-123481cfe15f",
   "metadata": {},
   "outputs": [
    {
     "name": "stdout",
     "output_type": "stream",
     "text": [
      "Epoch    0/2000 Cost: 383204160.000000\n",
      "Epoch  500/2000 Cost: 160876432.000000\n",
      "Epoch 1000/2000 Cost: 129498336.000000\n",
      "Epoch 1500/2000 Cost: 114363248.000000\n",
      "Epoch 2000/2000 Cost: 107060856.000000\n"
     ]
    }
   ],
   "source": [
    "# 모델 초기화\n",
    "w = torch.zeros((9,1), requires_grad=True,device=\"cuda\")\n",
    "b = torch.zeros(1, requires_grad=True,device=\"cuda\")\n",
    "# optimizer 설정\n",
    "optimizer = optim.SGD([w, b], lr=2e-10)\n",
    "\n",
    "nb_epochs = 2000\n",
    "for epoch in range(nb_epochs + 1):\n",
    "    \n",
    "    # H(x) 계산\n",
    "    hypothesis = x_train.matmul(w) + b\n",
    "\n",
    "    # cost 계산\n",
    "    cost = torch.mean((hypothesis - y_train) ** 2)\n",
    "\n",
    "    # cost로 H(x) 개선\n",
    "    optimizer.zero_grad()\n",
    "    cost.backward()\n",
    "    optimizer.step()\n",
    "\n",
    "    # 100번마다 로그 출력\n",
    "    if epoch % 500 == 0:\n",
    "        print('Epoch {:4d}/{} Cost: {:.6f}'.format(\n",
    "            epoch, nb_epochs, cost.item()\n",
    "        ))"
   ]
  },
  {
   "cell_type": "code",
   "execution_count": 18,
   "id": "dde232cc-fc36-4b01-a857-1ac7c6fd2e9a",
   "metadata": {},
   "outputs": [
    {
     "name": "stdout",
     "output_type": "stream",
     "text": [
      "tensor([[13851.6221],\n",
      "        [17478.1562],\n",
      "        [16059.0273],\n",
      "        ...,\n",
      "        [17196.5977],\n",
      "        [14249.2041],\n",
      "        [20152.1230]], device='cuda:0', grad_fn=<AddBackward0>)\n"
     ]
    }
   ],
   "source": [
    "x_test = torch.FloatTensor(np.array([test_df['company'],test_df['model'],test_df['year'],test_df['transmission'],test_df['mileage'],test_df['fueltype'],test_df['tax'],test_df['mpg'],test_df['engineSize']]).T).cuda()\n",
    "y_test = x_test.matmul(w)+ b\n",
    "print(y_test)"
   ]
  },
  {
   "cell_type": "code",
   "execution_count": 19,
   "id": "9d3175c5-f404-4485-979b-31a1edc13998",
   "metadata": {},
   "outputs": [
    {
     "data": {
      "text/html": [
       "<div>\n",
       "<style scoped>\n",
       "    .dataframe tbody tr th:only-of-type {\n",
       "        vertical-align: middle;\n",
       "    }\n",
       "\n",
       "    .dataframe tbody tr th {\n",
       "        vertical-align: top;\n",
       "    }\n",
       "\n",
       "    .dataframe thead th {\n",
       "        text-align: right;\n",
       "    }\n",
       "</style>\n",
       "<table border=\"1\" class=\"dataframe\">\n",
       "  <thead>\n",
       "    <tr style=\"text-align: right;\">\n",
       "      <th></th>\n",
       "      <th>ID</th>\n",
       "      <th>price</th>\n",
       "    </tr>\n",
       "  </thead>\n",
       "  <tbody>\n",
       "    <tr>\n",
       "      <th>0</th>\n",
       "      <td>0</td>\n",
       "      <td>13851.622070</td>\n",
       "    </tr>\n",
       "    <tr>\n",
       "      <th>1</th>\n",
       "      <td>1</td>\n",
       "      <td>17478.156250</td>\n",
       "    </tr>\n",
       "    <tr>\n",
       "      <th>2</th>\n",
       "      <td>2</td>\n",
       "      <td>16059.027344</td>\n",
       "    </tr>\n",
       "    <tr>\n",
       "      <th>3</th>\n",
       "      <td>3</td>\n",
       "      <td>13116.944336</td>\n",
       "    </tr>\n",
       "    <tr>\n",
       "      <th>4</th>\n",
       "      <td>4</td>\n",
       "      <td>20129.070312</td>\n",
       "    </tr>\n",
       "  </tbody>\n",
       "</table>\n",
       "</div>"
      ],
      "text/plain": [
       "   ID         price\n",
       "0   0  13851.622070\n",
       "1   1  17478.156250\n",
       "2   2  16059.027344\n",
       "3   3  13116.944336\n",
       "4   4  20129.070312"
      ]
     },
     "execution_count": 19,
     "metadata": {},
     "output_type": "execute_result"
    }
   ],
   "source": [
    "submit_df['price'] = y_test.cpu().detach().numpy()\n",
    "submit_df.head()"
   ]
  },
  {
   "cell_type": "code",
   "execution_count": 20,
   "id": "941763b8-dff6-469c-9440-0cbf3a5049ee",
   "metadata": {},
   "outputs": [],
   "source": [
    "submit_df.to_csv(\"./배추가격예측_data/submit_sample.csv\",index=False)"
   ]
  },
  {
   "cell_type": "code",
   "execution_count": null,
   "id": "a717866e-fd7b-42c3-a11d-d9365b47c0f7",
   "metadata": {},
   "outputs": [],
   "source": []
  }
 ],
 "metadata": {
  "kernelspec": {
   "display_name": "Python 3 (ipykernel)",
   "language": "python",
   "name": "python3"
  },
  "language_info": {
   "codemirror_mode": {
    "name": "ipython",
    "version": 3
   },
   "file_extension": ".py",
   "mimetype": "text/x-python",
   "name": "python",
   "nbconvert_exporter": "python",
   "pygments_lexer": "ipython3",
   "version": "3.9.6"
  }
 },
 "nbformat": 4,
 "nbformat_minor": 5
}
