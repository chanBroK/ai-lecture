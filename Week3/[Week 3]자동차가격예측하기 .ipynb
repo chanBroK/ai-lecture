{
 "cells": [
  {
   "cell_type": "code",
   "execution_count": 1,
   "metadata": {
    "executionInfo": {
     "elapsed": 225,
     "status": "ok",
     "timestamp": 1633924382841,
     "user": {
      "displayName": "김형찬",
      "photoUrl": "https://lh3.googleusercontent.com/a-/AOh14Gg6LQCDSZQ2OZSGwSClHlCqIPpq3Qo8j2E-mY7NWw=s64",
      "userId": "18092136259561212732"
     },
     "user_tz": -540
    },
    "id": "WFpzZUff96lT"
   },
   "outputs": [],
   "source": [
    "import pandas as pd\n",
    "import numpy as np"
   ]
  },
  {
   "cell_type": "code",
   "execution_count": 2,
   "metadata": {
    "colab": {
     "base_uri": "https://localhost:8080/"
    },
    "executionInfo": {
     "elapsed": 1091,
     "status": "ok",
     "timestamp": 1633924384281,
     "user": {
      "displayName": "김형찬",
      "photoUrl": "https://lh3.googleusercontent.com/a-/AOh14Gg6LQCDSZQ2OZSGwSClHlCqIPpq3Qo8j2E-mY7NWw=s64",
      "userId": "18092136259561212732"
     },
     "user_tz": -540
    },
    "id": "6xB8p_bZ-KG-",
    "outputId": "72b97525-4c2d-4111-9860-84cd6c5b23cd"
   },
   "outputs": [
    {
     "data": {
      "text/plain": [
       "<torch._C.Generator at 0x7f5a95685f10>"
      ]
     },
     "execution_count": 2,
     "metadata": {},
     "output_type": "execute_result"
    }
   ],
   "source": [
    "import torch\n",
    "import sklearn\n",
    "torch.manual_seed(1)"
   ]
  },
  {
   "cell_type": "code",
   "execution_count": 3,
   "metadata": {
    "colab": {
     "base_uri": "https://localhost:8080/"
    },
    "executionInfo": {
     "elapsed": 5,
     "status": "ok",
     "timestamp": 1633924384282,
     "user": {
      "displayName": "김형찬",
      "photoUrl": "https://lh3.googleusercontent.com/a-/AOh14Gg6LQCDSZQ2OZSGwSClHlCqIPpq3Qo8j2E-mY7NWw=s64",
      "userId": "18092136259561212732"
     },
     "user_tz": -540
    },
    "id": "Z_fV0Q99-N8F",
    "outputId": "0138e2ad-9446-4706-ced3-74dadff261cb"
   },
   "outputs": [
    {
     "name": "stdout",
     "output_type": "stream",
     "text": [
      "   ID  company    model  year  ...  tax   mpg  engineSize  price\n",
      "0   0        2    Focus  2019  ...  145  34.5         2.3  26299\n",
      "1   1        1      I10  2015  ...   20  60.1         1.0   5495\n",
      "2   2        3       A3  2019  ...  145  34.5         2.0  32400\n",
      "3   3        3       A6  2019  ...  145  47.9         2.0  29990\n",
      "4   4        2   Fiesta  2015  ...    0  65.7         1.0   7250\n",
      "\n",
      "[5 rows x 11 columns]\n",
      "   ID  company      model  year  ...  fueltype  tax   mpg  engineSize\n",
      "0   0        2        Ka+  2017  ...         4  145  57.7         1.2\n",
      "1   1        2       Kuga  2013  ...         0  145  53.3         2.0\n",
      "2   2        3         Q5  2016  ...         0  200  47.9         2.0\n",
      "3   3        1        I10  2020  ...         4  145  56.5         1.0\n",
      "4   4        0   3 Series  2014  ...         0   20  68.9         2.0\n",
      "\n",
      "[5 rows x 10 columns]\n",
      "   ID  price\n",
      "0   0      1\n",
      "1   1      1\n",
      "2   2      1\n",
      "3   3      1\n",
      "4   4      1\n"
     ]
    }
   ],
   "source": [
    "train_df = pd.read_csv(\"drive/MyDrive/Colab Notebooks/data_sample/2021-ai-w3-p2/train_data.csv\")\n",
    "test_df = pd.read_csv(\"drive/MyDrive/Colab Notebooks/data_sample/2021-ai-w3-p2/test_data.csv\")\n",
    "submit_df = pd.read_csv(\"drive/MyDrive/Colab Notebooks/data_sample/2021-ai-w3-p2/sample_submit.csv\")\n",
    "print(train_df.head())\n",
    "print(test_df.head())\n",
    "print(submit_df.head())"
   ]
  },
  {
   "cell_type": "code",
   "execution_count": 4,
   "metadata": {
    "colab": {
     "base_uri": "https://localhost:8080/"
    },
    "executionInfo": {
     "elapsed": 2562,
     "status": "ok",
     "timestamp": 1633924386841,
     "user": {
      "displayName": "김형찬",
      "photoUrl": "https://lh3.googleusercontent.com/a-/AOh14Gg6LQCDSZQ2OZSGwSClHlCqIPpq3Qo8j2E-mY7NWw=s64",
      "userId": "18092136259561212732"
     },
     "user_tz": -540
    },
    "id": "Tr23xA88_6ZB",
    "outputId": "50d03d72-0c4d-4cb9-a5c4-3c5b9a4b15c9"
   },
   "outputs": [
    {
     "name": "stdout",
     "output_type": "stream",
     "text": [
      "torch.Size([17085, 9])\n",
      "tensor([[2.0000e+00, 2.6000e+01, 2.0190e+03,  ..., 1.4500e+02, 3.4500e+01,\n",
      "         2.3000e+00],\n",
      "        [1.0000e+00, 3.4000e+01, 2.0150e+03,  ..., 2.0000e+01, 6.0100e+01,\n",
      "         1.0000e+00],\n",
      "        [3.0000e+00, 9.0000e+00, 2.0190e+03,  ..., 1.4500e+02, 3.4500e+01,\n",
      "         2.0000e+00],\n",
      "        ...,\n",
      "        [4.0000e+00, 9.3000e+01, 2.0180e+03,  ..., 1.4500e+02, 4.7100e+01,\n",
      "         1.5000e+00],\n",
      "        [2.0000e+00, 2.6000e+01, 2.0180e+03,  ..., 1.4500e+02, 5.8900e+01,\n",
      "         1.0000e+00],\n",
      "        [2.0000e+00, 2.5000e+01, 2.0140e+03,  ..., 0.0000e+00, 7.6400e+01,\n",
      "         1.5000e+00]], device='cuda:0')\n",
      "torch.Size([17085, 1])\n",
      "tensor([[26299.],\n",
      "        [ 5495.],\n",
      "        [32400.],\n",
      "        ...,\n",
      "        [10950.],\n",
      "        [13295.],\n",
      "        [ 7299.]], device='cuda:0')\n"
     ]
    }
   ],
   "source": [
    "# preprocessing\n",
    "\n",
    "# Label Encoder\n",
    "from sklearn.preprocessing import LabelEncoder\n",
    "le = LabelEncoder()\n",
    "# label encoding시 train, test 모두 fit\n",
    "le.fit(np.concatenate([train_df['model'],test_df['model']],0))\n",
    "train_df['model']= le.transform(train_df['model'])\n",
    "test_df['model'] = le.transform(test_df['model'])\n",
    "\n",
    "train_x = np.array(train_df.drop(['ID','price'],axis=1))\n",
    "train_y = np.array(train_df['price'])\n",
    "test_x = np.array(test_df.drop(['ID'],axis=1))\n",
    "\n",
    "# Scaler\n",
    "\n",
    "# from sklearn.preprocessing import StandardScaler\n",
    "# scaler=StandardScaler()\n",
    "# scaler.fit(train_x)\n",
    "# train_x = scaler.transform(train_x)\n",
    "# test_x = scaler.transform(test_x)\n",
    "\n",
    "train_x = torch.Tensor(train_x).cuda()\n",
    "train_y = torch.Tensor(train_y).unsqueeze(1).cuda()\n",
    "test_x = torch.Tensor(test_x).cuda()\n",
    "print(train_x.shape)\n",
    "print(train_x)\n",
    "print(train_y.shape)\n",
    "print(train_y)"
   ]
  },
  {
   "cell_type": "code",
   "execution_count": 5,
   "metadata": {
    "executionInfo": {
     "elapsed": 5,
     "status": "ok",
     "timestamp": 1633924386842,
     "user": {
      "displayName": "김형찬",
      "photoUrl": "https://lh3.googleusercontent.com/a-/AOh14Gg6LQCDSZQ2OZSGwSClHlCqIPpq3Qo8j2E-mY7NWw=s64",
      "userId": "18092136259561212732"
     },
     "user_tz": -540
    },
    "id": "tSFkfRBmAU1Z"
   },
   "outputs": [],
   "source": [
    "w = torch.zeros((9,1),requires_grad=True,device=\"cuda\")\n",
    "b = torch.zeros(1,requires_grad=True,device=\"cuda\")\n",
    "optimizer = torch.optim.SGD([w,b],lr = 1e-5)\n",
    "epochs = 10000"
   ]
  },
  {
   "cell_type": "code",
   "execution_count": 6,
   "metadata": {
    "colab": {
     "base_uri": "https://localhost:8080/"
    },
    "executionInfo": {
     "elapsed": 7722,
     "status": "ok",
     "timestamp": 1633924394560,
     "user": {
      "displayName": "김형찬",
      "photoUrl": "https://lh3.googleusercontent.com/a-/AOh14Gg6LQCDSZQ2OZSGwSClHlCqIPpq3Qo8j2E-mY7NWw=s64",
      "userId": "18092136259561212732"
     },
     "user_tz": -540
    },
    "id": "pdzxtoWeZ7vw",
    "outputId": "ee1c2e2b-635c-4887-cfab-e7f781e4e455"
   },
   "outputs": [
    {
     "name": "stdout",
     "output_type": "stream",
     "text": [
      "16819.763671875\n",
      "6541.0947265625\n",
      "6280.8798828125\n",
      "6270.0546875\n",
      "6266.51708984375\n",
      "6263.32470703125\n",
      "6260.18017578125\n",
      "6257.0751953125\n",
      "6253.9892578125\n",
      "6250.92138671875\n",
      "6247.86279296875\n"
     ]
    }
   ],
   "source": [
    "for epoch in range(epochs+1):\n",
    "  optimizer.zero_grad()\n",
    "\n",
    "  h = train_x.matmul(w) + b\n",
    "  cost = torch.mean(torch.abs(h-train_y))\n",
    "  # cost = torch.mean((h-train_y)**2)\n",
    "\n",
    "  cost.backward()\n",
    "  optimizer.step()\n",
    "  if epoch % 1000 == 0:\n",
    "    print(cost.item())"
   ]
  },
  {
   "cell_type": "code",
   "execution_count": 7,
   "metadata": {
    "colab": {
     "base_uri": "https://localhost:8080/"
    },
    "executionInfo": {
     "elapsed": 18,
     "status": "ok",
     "timestamp": 1633924394561,
     "user": {
      "displayName": "김형찬",
      "photoUrl": "https://lh3.googleusercontent.com/a-/AOh14Gg6LQCDSZQ2OZSGwSClHlCqIPpq3Qo8j2E-mY7NWw=s64",
      "userId": "18092136259561212732"
     },
     "user_tz": -540
    },
    "id": "V2sJ9-DOaXrR",
    "outputId": "5537ab2d-6804-4cb2-b78a-cd40a54089ae"
   },
   "outputs": [
    {
     "name": "stdout",
     "output_type": "stream",
     "text": [
      "          ID         price\n",
      "0          0  17018.554688\n",
      "1          1  11416.364258\n",
      "2          2  13800.506836\n",
      "3          3  18189.777344\n",
      "4          4   7014.439941\n",
      "...      ...           ...\n",
      "16826  16826  14341.912109\n",
      "16827  16827  18067.312500\n",
      "16828  16828  11938.366211\n",
      "16829  16829  16399.583984\n",
      "16830  16830   7420.736816\n",
      "\n",
      "[16831 rows x 2 columns]\n"
     ]
    }
   ],
   "source": [
    "with torch.no_grad():\n",
    "  predict = test_x.matmul(w) + b\n",
    "submit_df['price'] = predict.cpu().detach().numpy()\n",
    "print(submit_df)\n"
   ]
  },
  {
   "cell_type": "code",
   "execution_count": 7,
   "metadata": {
    "executionInfo": {
     "elapsed": 16,
     "status": "ok",
     "timestamp": 1633924394562,
     "user": {
      "displayName": "김형찬",
      "photoUrl": "https://lh3.googleusercontent.com/a-/AOh14Gg6LQCDSZQ2OZSGwSClHlCqIPpq3Qo8j2E-mY7NWw=s64",
      "userId": "18092136259561212732"
     },
     "user_tz": -540
    },
    "id": "EYbOQdBjcaYT"
   },
   "outputs": [],
   "source": []
  }
 ],
 "metadata": {
  "accelerator": "GPU",
  "colab": {
   "authorship_tag": "ABX9TyNQpWHy8t9Aytw+8zWhpOO9",
   "collapsed_sections": [],
   "mount_file_id": "1vgJU4Vd054suQpVL8Zv3sOsVU9eImQJF",
   "name": "[Week 3]자동차가격예측하기 .ipynb",
   "provenance": []
  },
  "kernelspec": {
   "display_name": "Python 3",
   "language": "python",
   "name": "python3"
  },
  "language_info": {
   "codemirror_mode": {
    "name": "ipython",
    "version": 3
   },
   "file_extension": ".py",
   "mimetype": "text/x-python",
   "name": "python",
   "nbconvert_exporter": "python",
   "pygments_lexer": "ipython3",
   "version": "3.8.10"
  }
 },
 "nbformat": 4,
 "nbformat_minor": 4
}
