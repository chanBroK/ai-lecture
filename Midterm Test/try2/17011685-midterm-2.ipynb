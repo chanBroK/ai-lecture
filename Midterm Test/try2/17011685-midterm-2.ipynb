{
 "cells": [
  {
   "cell_type": "code",
   "execution_count": 3,
   "metadata": {
    "_cell_guid": "b1076dfc-b9ad-4769-8c92-a6c4dae69d19",
    "_uuid": "8f2839f25d086af736a60e9eeb907d3b93b6e0e5",
    "execution": {
     "iopub.execute_input": "2021-10-18T13:50:00.007140Z",
     "iopub.status.busy": "2021-10-18T13:50:00.006866Z",
     "iopub.status.idle": "2021-10-18T13:50:00.019607Z",
     "shell.execute_reply": "2021-10-18T13:50:00.018679Z",
     "shell.execute_reply.started": "2021-10-18T13:50:00.007115Z"
    }
   },
   "outputs": [],
   "source": [
    "# This Python 3 environment comes with many helpful analytics libraries installed\n",
    "# It is defined by the kaggle/python Docker image: https://github.com/kaggle/docker-python\n",
    "# For example, here's several helpful packages to load\n",
    "\n",
    "import numpy as np # linear algebra\n",
    "import pandas as pd # data processing, CSV file I/O (e.g. pd.read_csv)\n",
    "\n",
    "# Input data files are available in the read-only \"../input/\" directory\n",
    "# For example, running this (by clicking run or pressing Shift+Enter) will list all files under the input directory\n",
    "\n",
    "import os\n",
    "for dirname, _, filenames in os.walk('/kaggle/input'):\n",
    "    for filename in filenames:\n",
    "        print(os.path.join(dirname, filename))\n",
    "\n",
    "# You can write up to 20GB to the current directory (/kaggle/working/) that gets preserved as output when you create a version using \"Save & Run All\" \n",
    "# You can also write temporary files to /kaggle/temp/, but they won't be saved outside of the current session"
   ]
  },
  {
   "cell_type": "code",
   "execution_count": 10,
   "metadata": {
    "execution": {
     "iopub.execute_input": "2021-10-18T13:52:51.708841Z",
     "iopub.status.busy": "2021-10-18T13:52:51.708205Z",
     "iopub.status.idle": "2021-10-18T13:52:53.906286Z",
     "shell.execute_reply": "2021-10-18T13:52:53.905431Z",
     "shell.execute_reply.started": "2021-10-18T13:52:51.708805Z"
    }
   },
   "outputs": [],
   "source": [
    "import torch\n",
    "import sklearn\n",
    "import random\n",
    "\n",
    "# 장치 설정\n",
    "device = \"cuda\" if torch.cuda.is_available() else \"cpu\"\n",
    "\n",
    "# 랜덤 시드 \n",
    "torch.manual_seed(1)\n",
    "random.seed(1)\n",
    "if device == \"cuda\":\n",
    "    torch.cuda.manual_seed_all(1)\n",
    "\n",
    "# 데이터 로딩\n",
    "train = pd.read_csv(\"/kaggle/input/2021-ai-midterm-p2/train.csv\")\n",
    "test = pd.read_csv(\"/kaggle/input/2021-ai-midterm-p2/test.csv\")\n",
    "submission = pd.read_csv(\"/kaggle/input/2021-ai-midterm-p2/submit_sample.csv\")\n",
    "\n",
    "# 데이터 확인\n",
    "print(train.head())\n",
    "print(test.head())\n",
    "print(submission.head())\n",
    "\n",
    "# 데이터 전처리\n",
    "\n",
    "# 필요 없는 데이터 정리\n",
    "x_train = np.array(train.drop(['ID','MEDV'],axis= 1))\n",
    "y_train = np.array(train['MEDV'])\n",
    "x_test = np.array(test.drop(['ID'],axis=1))\n",
    "\n",
    "# 데이터 변형 (scale)\n",
    "from sklearn.preprocessing import StandardScaler\n",
    "scaler = StandardScaler()\n",
    "x_train = scaler.fit_transform(x_train)\n",
    "x_test = scaler.transform(x_test)\n",
    "\n",
    "# 데이터 실수화 (encoding)\n",
    "# from sklearn.preprocessing import LabelEncoder\n",
    "# le = LabelEncoder()\n",
    "# y_train = le.fit_transform(y_train)\n",
    "\n",
    "# 데이터 텐서에 올리기\n",
    "x_test = torch.Tensor(x_test).to(device)\n",
    "x_train = torch.Tensor(x_train).to(device)\n",
    "y_train = torch.Tensor(y_train).to(device)\n",
    "\n",
    "# 데이터 모양 확인 \n",
    "print(x_train.shape, y_train.shape)\n",
    "\n",
    "\n",
    "# layer 생성\n",
    "layer1 = torch.nn.Linear(13,64,bias=True).to(device)\n",
    "layer2 = torch.nn.Linear(64,1,bias=True).to(device)\n",
    "relu = torch.nn.ReLU()\n",
    "dropout = torch.nn.Dropout()\n",
    "\n",
    "# 가중치 초기화\n",
    "torch.nn.init.xavier_normal_(layer1.weight).to(device)\n",
    "torch.nn.init.xavier_normal_(layer2.weight).to(device)\n",
    "\n",
    "# 모델 생성\n",
    "model = torch.nn.Sequential(layer1,relu,dropout,\n",
    "                           layer2).to(device)\n",
    "\n",
    "# 학습 파라미터 설정\n",
    "epochs = 3000\n",
    "lr = 0.01\n",
    "\n",
    "# loss 함수 회귀\n",
    "# loss = torch.nn.CrossEntropyLoss()\n",
    "loss = torch.nn.MSELoss()\n",
    "\n",
    "# optim 설정\n",
    "optim = torch.optim.Adam(model.parameters(),lr=lr)\n",
    "\n",
    "# 학습 \n",
    "model.train()\n",
    "for epoch in range(epochs + 1):\n",
    "    optim.zero_grad()\n",
    "    h = model(x_train)\n",
    "    cost = loss(h,y_train.unsqueeze(1))\n",
    "    cost.backward()\n",
    "    optim.step()\n",
    "    if epoch % 100 == 0:\n",
    "        print(epoch, cost.item())"
   ]
  },
  {
   "cell_type": "code",
   "execution_count": 12,
   "metadata": {
    "execution": {
     "iopub.execute_input": "2021-10-18T13:53:37.779286Z",
     "iopub.status.busy": "2021-10-18T13:53:37.779019Z",
     "iopub.status.idle": "2021-10-18T13:53:37.790054Z",
     "shell.execute_reply": "2021-10-18T13:53:37.789131Z",
     "shell.execute_reply.started": "2021-10-18T13:53:37.779259Z"
    }
   },
   "outputs": [],
   "source": [
    "with torch.no_grad():\n",
    "    model.eval()\n",
    "    predict = model(x_test)\n",
    "    submission['MEDV'] = predict\n",
    "    print(submission)\n",
    "    submission.to_csv(\"submission.csv\",index=False)"
   ]
  },
  {
   "cell_type": "code",
   "execution_count": null,
   "metadata": {},
   "outputs": [],
   "source": []
  }
 ],
 "metadata": {
  "kernelspec": {
   "display_name": "Python 3",
   "language": "python",
   "name": "python3"
  },
  "language_info": {
   "codemirror_mode": {
    "name": "ipython",
    "version": 3
   },
   "file_extension": ".py",
   "mimetype": "text/x-python",
   "name": "python",
   "nbconvert_exporter": "python",
   "pygments_lexer": "ipython3",
   "version": "3.8.10"
  }
 },
 "nbformat": 4,
 "nbformat_minor": 4
}
