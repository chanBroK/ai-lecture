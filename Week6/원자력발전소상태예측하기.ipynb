{
 "cells": [
  {
   "cell_type": "code",
   "execution_count": 1,
   "metadata": {},
   "outputs": [],
   "source": [
    "import numpy as np\n",
    "import pandas as pd\n",
    "import sklearn\n",
    "import torch"
   ]
  },
  {
   "cell_type": "code",
   "execution_count": 17,
   "metadata": {},
   "outputs": [],
   "source": [
    "%config Completer.use_jedi = False"
   ]
  },
  {
   "cell_type": "code",
   "execution_count": 3,
   "metadata": {},
   "outputs": [
    {
     "data": {
      "text/plain": [
       "<torch._C.Generator at 0x24d21c66d10>"
      ]
     },
     "execution_count": 3,
     "metadata": {},
     "output_type": "execute_result"
    }
   ],
   "source": [
    "torch.manual_seed(1)"
   ]
  },
  {
   "cell_type": "code",
   "execution_count": 4,
   "metadata": {},
   "outputs": [],
   "source": [
    "x_train = np.array(pd.read_csv(\"./2021-ai-w6-p1/pca_train.csv\"))\n",
    "y_train = np.array(pd.read_csv(\"./2021-ai-w6-p1/train_label.csv\")['label'])\n",
    "x_test = np.array(pd.read_csv(\"./2021-ai-w6-p1/pca_test.csv\"))\n",
    "submit_df = pd.read_csv(\"./2021-ai-w6-p1/sample_submission.csv\")"
   ]
  },
  {
   "cell_type": "code",
   "execution_count": 5,
   "metadata": {},
   "outputs": [
    {
     "name": "stdout",
     "output_type": "stream",
     "text": [
      "torch.Size([27671, 256]) torch.Size([27671])\n"
     ]
    }
   ],
   "source": [
    "# preprocessing\n",
    "from sklearn.preprocessing import StandardScaler, LabelEncoder\n",
    "scaler = StandardScaler()\n",
    "scaler.fit(x_train)\n",
    "x_train = scaler.transform(x_train)\n",
    "x_test = scaler.transform(x_test)\n",
    "\n",
    "x_train = torch.Tensor(x_train).cuda()\n",
    "x_test = torch.Tensor(x_test).cuda()\n",
    "\n",
    "le = LabelEncoder()\n",
    "le.fit(y_train)\n",
    "y_train = le.transform(y_train)\n",
    "y_train = torch.LongTensor(y_train).cuda()\n",
    "print(x_train.shape, y_train.shape)"
   ]
  },
  {
   "cell_type": "code",
   "execution_count": 6,
   "metadata": {},
   "outputs": [],
   "source": [
    "layer1 = torch.nn.Linear(256,128,bias=True).cuda()\n",
    "layer2 = torch.nn.Linear(128,128,bias=True).cuda()\n",
    "layer3 = torch.nn.Linear(128,128,bias=True).cuda()\n",
    "layer4 = torch.nn.Linear(128,128,bias=True).cuda()\n",
    "layer5 = torch.nn.Linear(128,256,bias=True).cuda()\n",
    "layer6 = torch.nn.Linear(256,256,bias=True).cuda()\n",
    "layer7 = torch.nn.Linear(256,len(le.classes_),bias=True).cuda()\n",
    "\n",
    "model = torch.nn.Sequential(layer1,layer2,layer3,layer4,layer5,layer6,layer7).cuda()"
   ]
  },
  {
   "cell_type": "code",
   "execution_count": 7,
   "metadata": {},
   "outputs": [],
   "source": [
    "optim = torch.optim.Adam(model.parameters(),lr=1e-4)\n",
    "loss = torch.nn.CrossEntropyLoss()\n",
    "epochs =1000"
   ]
  },
  {
   "cell_type": "code",
   "execution_count": 8,
   "metadata": {},
   "outputs": [
    {
     "name": "stdout",
     "output_type": "stream",
     "text": [
      "epochs = 1000 | epoch = 0 | cost = tensor(5.2895, device='cuda:0', grad_fn=<NllLossBackward>)\n",
      "epochs = 1000 | epoch = 100 | cost = tensor(3.7802, device='cuda:0', grad_fn=<NllLossBackward>)\n",
      "epochs = 1000 | epoch = 200 | cost = tensor(1.9737, device='cuda:0', grad_fn=<NllLossBackward>)\n",
      "epochs = 1000 | epoch = 300 | cost = tensor(1.6456, device='cuda:0', grad_fn=<NllLossBackward>)\n",
      "epochs = 1000 | epoch = 400 | cost = tensor(1.5144, device='cuda:0', grad_fn=<NllLossBackward>)\n",
      "epochs = 1000 | epoch = 500 | cost = tensor(1.4376, device='cuda:0', grad_fn=<NllLossBackward>)\n",
      "epochs = 1000 | epoch = 600 | cost = tensor(1.3759, device='cuda:0', grad_fn=<NllLossBackward>)\n",
      "epochs = 1000 | epoch = 700 | cost = tensor(1.3233, device='cuda:0', grad_fn=<NllLossBackward>)\n",
      "epochs = 1000 | epoch = 800 | cost = tensor(1.2790, device='cuda:0', grad_fn=<NllLossBackward>)\n",
      "epochs = 1000 | epoch = 900 | cost = tensor(1.2407, device='cuda:0', grad_fn=<NllLossBackward>)\n",
      "epochs = 1000 | epoch = 1000 | cost = tensor(1.2057, device='cuda:0', grad_fn=<NllLossBackward>)\n"
     ]
    }
   ],
   "source": [
    "for epoch in range(epochs+1):\n",
    "    optim.zero_grad()\n",
    "    \n",
    "    h = model(x_train)\n",
    "    cost = loss(h,y_train)\n",
    "    \n",
    "    cost.backward()\n",
    "    optim.step()\n",
    "    if epoch % (epochs / 10) == 0:\n",
    "        print(\"epochs =\", str(epochs), \"| epoch =\", str(epoch), \"| cost =\", cost)"
   ]
  },
  {
   "cell_type": "code",
   "execution_count": 15,
   "metadata": {},
   "outputs": [],
   "source": [
    "with torch.no_grad():\n",
    "    predict = model(x_test)\n",
    "    predict = torch.argmax(predict, dim =1)\n",
    "    predict = le.inverse_transform(predict.cpu().detach())\n",
    "submit_df['label'] = predict"
   ]
  },
  {
   "cell_type": "code",
   "execution_count": 16,
   "metadata": {},
   "outputs": [
    {
     "data": {
      "text/html": [
       "<div>\n",
       "<style scoped>\n",
       "    .dataframe tbody tr th:only-of-type {\n",
       "        vertical-align: middle;\n",
       "    }\n",
       "\n",
       "    .dataframe tbody tr th {\n",
       "        vertical-align: top;\n",
       "    }\n",
       "\n",
       "    .dataframe thead th {\n",
       "        text-align: right;\n",
       "    }\n",
       "</style>\n",
       "<table border=\"1\" class=\"dataframe\">\n",
       "  <thead>\n",
       "    <tr style=\"text-align: right;\">\n",
       "      <th></th>\n",
       "      <th>id</th>\n",
       "      <th>label</th>\n",
       "    </tr>\n",
       "  </thead>\n",
       "  <tbody>\n",
       "    <tr>\n",
       "      <th>0</th>\n",
       "      <td>0</td>\n",
       "      <td>113</td>\n",
       "    </tr>\n",
       "    <tr>\n",
       "      <th>1</th>\n",
       "      <td>1</td>\n",
       "      <td>83</td>\n",
       "    </tr>\n",
       "    <tr>\n",
       "      <th>2</th>\n",
       "      <td>2</td>\n",
       "      <td>68</td>\n",
       "    </tr>\n",
       "    <tr>\n",
       "      <th>3</th>\n",
       "      <td>3</td>\n",
       "      <td>28</td>\n",
       "    </tr>\n",
       "    <tr>\n",
       "      <th>4</th>\n",
       "      <td>4</td>\n",
       "      <td>121</td>\n",
       "    </tr>\n",
       "    <tr>\n",
       "      <th>...</th>\n",
       "      <td>...</td>\n",
       "      <td>...</td>\n",
       "    </tr>\n",
       "    <tr>\n",
       "      <th>13624</th>\n",
       "      <td>13624</td>\n",
       "      <td>77</td>\n",
       "    </tr>\n",
       "    <tr>\n",
       "      <th>13625</th>\n",
       "      <td>13625</td>\n",
       "      <td>69</td>\n",
       "    </tr>\n",
       "    <tr>\n",
       "      <th>13626</th>\n",
       "      <td>13626</td>\n",
       "      <td>23</td>\n",
       "    </tr>\n",
       "    <tr>\n",
       "      <th>13627</th>\n",
       "      <td>13627</td>\n",
       "      <td>68</td>\n",
       "    </tr>\n",
       "    <tr>\n",
       "      <th>13628</th>\n",
       "      <td>13628</td>\n",
       "      <td>117</td>\n",
       "    </tr>\n",
       "  </tbody>\n",
       "</table>\n",
       "<p>13629 rows × 2 columns</p>\n",
       "</div>"
      ],
      "text/plain": [
       "          id  label\n",
       "0          0    113\n",
       "1          1     83\n",
       "2          2     68\n",
       "3          3     28\n",
       "4          4    121\n",
       "...      ...    ...\n",
       "13624  13624     77\n",
       "13625  13625     69\n",
       "13626  13626     23\n",
       "13627  13627     68\n",
       "13628  13628    117\n",
       "\n",
       "[13629 rows x 2 columns]"
      ]
     },
     "execution_count": 16,
     "metadata": {},
     "output_type": "execute_result"
    }
   ],
   "source": [
    "submit_df"
   ]
  },
  {
   "cell_type": "code",
   "execution_count": null,
   "metadata": {},
   "outputs": [],
   "source": []
  }
 ],
 "metadata": {
  "kernelspec": {
   "display_name": "Python 3",
   "language": "python",
   "name": "python3"
  },
  "language_info": {
   "codemirror_mode": {
    "name": "ipython",
    "version": 3
   },
   "file_extension": ".py",
   "mimetype": "text/x-python",
   "name": "python",
   "nbconvert_exporter": "python",
   "pygments_lexer": "ipython3",
   "version": "3.8.10"
  }
 },
 "nbformat": 4,
 "nbformat_minor": 4
}
