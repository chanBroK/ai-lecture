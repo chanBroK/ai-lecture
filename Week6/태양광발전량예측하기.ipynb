{
 "cells": [
  {
   "cell_type": "code",
   "execution_count": 1,
   "metadata": {},
   "outputs": [],
   "source": [
    "import numpy as np\n",
    "import pandas as pd\n",
    "import sklearn\n",
    "import torch"
   ]
  },
  {
   "cell_type": "code",
   "execution_count": 2,
   "metadata": {},
   "outputs": [],
   "source": [
    "%config Completer.use_jedi = False"
   ]
  },
  {
   "cell_type": "code",
   "execution_count": 3,
   "metadata": {},
   "outputs": [
    {
     "data": {
      "text/plain": [
       "<torch._C.Generator at 0x16a30f6bd10>"
      ]
     },
     "execution_count": 3,
     "metadata": {},
     "output_type": "execute_result"
    }
   ],
   "source": [
    "torch.manual_seed(1)"
   ]
  },
  {
   "cell_type": "code",
   "execution_count": 4,
   "metadata": {},
   "outputs": [],
   "source": [
    "train = pd.read_csv(\"./2021-ai-w6-p2/train.csv\")\n",
    "test = pd.read_csv(\"./2021-ai-w6-p2/X_test.csv\")\n",
    "submit = pd.read_csv(\"./2021-ai-w6-p2/sample_submit.csv\")"
   ]
  },
  {
   "cell_type": "code",
   "execution_count": 5,
   "metadata": {},
   "outputs": [
    {
     "name": "stdout",
     "output_type": "stream",
     "text": [
      "   Day  Hour  Minute  DHI  DNI   WS     RH   T  TARGET\n",
      "0    0     0       0    0    0  1.5  69.08 -12     0.0\n",
      "1    0     0      30    0    0  1.5  69.06 -12     0.0\n",
      "2    0     1       0    0    0  1.6  71.78 -12     0.0\n",
      "3    0     1      30    0    0  1.6  71.75 -12     0.0\n",
      "4    0     2       0    0    0  1.6  75.20 -12     0.0\n",
      "   ID   Day  Hour  Minute  DHI  DNI   WS     RH   T\n",
      "0   0  1043     7      30   34  584  2.0  63.02   3\n",
      "1   1  1043     8       0   45  730  2.3  61.54   5\n",
      "2   2  1043     8      30   52  817  2.4  57.34   6\n",
      "3   3  1043     9       0   57  878  2.6  52.46   8\n",
      "4   4  1043     9      30   61  917  2.2  45.74  10\n",
      "   ID  TARGET\n",
      "0   0       0\n",
      "1   1       0\n",
      "2   2       0\n",
      "3   3       0\n",
      "4   4       0\n"
     ]
    }
   ],
   "source": [
    "print(train.head())\n",
    "print(test.head())\n",
    "print(submit.head())"
   ]
  },
  {
   "cell_type": "code",
   "execution_count": 6,
   "metadata": {},
   "outputs": [],
   "source": [
    "# preprocessing\n",
    "x_train = np.array(train.drop(['TARGET'],axis =1 ))\n",
    "y_train = np.array(train['TARGET'])\n",
    "x_test = np.array(test.drop(['ID'],axis=1))"
   ]
  },
  {
   "cell_type": "code",
   "execution_count": 7,
   "metadata": {},
   "outputs": [],
   "source": [
    "from sklearn.preprocessing import LabelEncoder,StandardScaler\n",
    "scaler = StandardScaler()\n",
    "le = LabelEncoder()"
   ]
  },
  {
   "cell_type": "code",
   "execution_count": 8,
   "metadata": {},
   "outputs": [],
   "source": [
    "scaler.fit(x_train)\n",
    "x_train = scaler.transform(x_train)\n",
    "x_test = scaler.transform(x_test)"
   ]
  },
  {
   "cell_type": "code",
   "execution_count": 9,
   "metadata": {},
   "outputs": [],
   "source": [
    "x_train = torch.Tensor(x_train).cuda()\n",
    "x_test = torch.Tensor(x_test).cuda()\n",
    "y_train = torch.Tensor(y_train).cuda()"
   ]
  },
  {
   "cell_type": "code",
   "execution_count": 10,
   "metadata": {},
   "outputs": [
    {
     "name": "stdout",
     "output_type": "stream",
     "text": [
      "torch.Size([9999, 8]) torch.Size([9999, 1])\n"
     ]
    }
   ],
   "source": [
    "y_train = y_train.unsqueeze(1)\n",
    "print(x_train.shape, y_train.shape)"
   ]
  },
  {
   "cell_type": "code",
   "execution_count": 11,
   "metadata": {},
   "outputs": [],
   "source": [
    "layer1 = torch.nn.Linear(8,8,bias= True).cuda()\n",
    "layer2 = torch.nn.Linear(8,8,bias = True).cuda()\n",
    "layer3 = torch.nn.Linear(8,4,bias = True).cuda()\n",
    "layer4 = torch.nn.Linear(4,8,bias = True).cuda()\n",
    "layer5 = torch.nn.Linear(8,1,bias = True).cuda()\n",
    "\n",
    "model = torch.nn.Sequential(layer1,layer2,layer3,layer4,layer5).cuda()"
   ]
  },
  {
   "cell_type": "code",
   "execution_count": 12,
   "metadata": {},
   "outputs": [],
   "source": [
    "optim = torch.optim.SGD(model.parameters(),lr = 1e-4)\n",
    "loss = torch.nn.MSELoss()\n",
    "epochs = 1000"
   ]
  },
  {
   "cell_type": "code",
   "execution_count": 13,
   "metadata": {},
   "outputs": [
    {
     "name": "stdout",
     "output_type": "stream",
     "text": [
      "epochs = 1000 | epoch = 0 | cost = tensor(996.4373, device='cuda:0', grad_fn=<MseLossBackward>)\n",
      "epochs = 1000 | epoch = 100 | cost = tensor(937.8584, device='cuda:0', grad_fn=<MseLossBackward>)\n",
      "epochs = 1000 | epoch = 200 | cost = tensor(140.3736, device='cuda:0', grad_fn=<MseLossBackward>)\n",
      "epochs = 1000 | epoch = 300 | cost = tensor(66.5223, device='cuda:0', grad_fn=<MseLossBackward>)\n",
      "epochs = 1000 | epoch = 400 | cost = tensor(60.2817, device='cuda:0', grad_fn=<MseLossBackward>)\n",
      "epochs = 1000 | epoch = 500 | cost = tensor(59.4148, device='cuda:0', grad_fn=<MseLossBackward>)\n",
      "epochs = 1000 | epoch = 600 | cost = tensor(59.2310, device='cuda:0', grad_fn=<MseLossBackward>)\n",
      "epochs = 1000 | epoch = 700 | cost = tensor(59.1640, device='cuda:0', grad_fn=<MseLossBackward>)\n",
      "epochs = 1000 | epoch = 800 | cost = tensor(59.1348, device='cuda:0', grad_fn=<MseLossBackward>)\n",
      "epochs = 1000 | epoch = 900 | cost = tensor(59.1216, device='cuda:0', grad_fn=<MseLossBackward>)\n",
      "epochs = 1000 | epoch = 1000 | cost = tensor(59.1157, device='cuda:0', grad_fn=<MseLossBackward>)\n"
     ]
    }
   ],
   "source": [
    "for epoch in range(epochs+1):\n",
    "    optim.zero_grad()\n",
    "    \n",
    "    h = model(x_train)\n",
    "    cost = loss(h,y_train)\n",
    "    cost.backward()\n",
    "    optim.step()\n",
    "    if epoch % (epochs/10) == 0:\n",
    "        print(\"epochs =\", str(epochs), \"| epoch =\", str(epoch), \"| cost =\", cost)"
   ]
  },
  {
   "cell_type": "code",
   "execution_count": 14,
   "metadata": {},
   "outputs": [
    {
     "data": {
      "text/plain": [
       "array([[41.159855 ],\n",
       "       [49.86627  ],\n",
       "       [55.473434 ],\n",
       "       ...,\n",
       "       [ 7.074028 ],\n",
       "       [ 6.9251003],\n",
       "       [ 7.0182023]], dtype=float32)"
      ]
     },
     "execution_count": 14,
     "metadata": {},
     "output_type": "execute_result"
    }
   ],
   "source": [
    "with torch.no_grad():\n",
    "    predict = model(x_test)\n",
    "    \n",
    "predict.cpu().detach().numpy()"
   ]
  },
  {
   "cell_type": "code",
   "execution_count": null,
   "metadata": {},
   "outputs": [],
   "source": []
  }
 ],
 "metadata": {
  "kernelspec": {
   "display_name": "Python 3",
   "language": "python",
   "name": "python3"
  },
  "language_info": {
   "codemirror_mode": {
    "name": "ipython",
    "version": 3
   },
   "file_extension": ".py",
   "mimetype": "text/x-python",
   "name": "python",
   "nbconvert_exporter": "python",
   "pygments_lexer": "ipython3",
   "version": "3.8.10"
  }
 },
 "nbformat": 4,
 "nbformat_minor": 4
}
