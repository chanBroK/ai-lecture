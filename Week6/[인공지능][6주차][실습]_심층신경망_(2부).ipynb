{
 "cells": [
  {
   "cell_type": "markdown",
   "metadata": {
    "id": "3nel5KbQk6NW"
   },
   "source": [
    "## Multi-Layer Perceptron (NN)\n",
    "- 은닉층이 두개 이상인 신경망 구조\n",
    "- XOR 문제를 해결 할 수 있다."
   ]
  },
  {
   "cell_type": "markdown",
   "metadata": {
    "id": "0a8r2FdxmCLA"
   },
   "source": [
    "### 데이터 입출력 정의"
   ]
  },
  {
   "cell_type": "code",
   "execution_count": 2,
   "metadata": {
    "id": "FVxuoNM4k4RO"
   },
   "outputs": [],
   "source": [
    "import torch"
   ]
  },
  {
   "cell_type": "code",
   "execution_count": 3,
   "metadata": {
    "colab": {
     "base_uri": "https://localhost:8080/",
     "height": 36
    },
    "id": "REdopVKHlFYN",
    "outputId": "3224fc59-5e7d-4981-e50f-78f27c08b8e5"
   },
   "outputs": [
    {
     "data": {
      "text/plain": [
       "<torch._C.Generator at 0x1d29bb091d0>"
      ]
     },
     "execution_count": 3,
     "metadata": {},
     "output_type": "execute_result"
    }
   ],
   "source": [
    "torch.manual_seed(777)"
   ]
  },
  {
   "cell_type": "code",
   "execution_count": 4,
   "metadata": {
    "id": "G-7wlisFlHae"
   },
   "outputs": [],
   "source": [
    "X = torch.FloatTensor([[0,0], [0,1], [1,0],[1,1]])\n",
    "Y = torch.FloatTensor([[0],[1],[1],[0]])"
   ]
  },
  {
   "cell_type": "code",
   "execution_count": 5,
   "metadata": {
    "colab": {
     "base_uri": "https://localhost:8080/",
     "height": 92
    },
    "id": "_qQ3IyHGlMbe",
    "outputId": "d27f7c80-d7d1-49b8-edea-f79d81863b86"
   },
   "outputs": [
    {
     "data": {
      "text/plain": [
       "tensor([[0., 0.],\n",
       "        [0., 1.],\n",
       "        [1., 0.],\n",
       "        [1., 1.]])"
      ]
     },
     "execution_count": 5,
     "metadata": {},
     "output_type": "execute_result"
    }
   ],
   "source": [
    "X"
   ]
  },
  {
   "cell_type": "code",
   "execution_count": 6,
   "metadata": {
    "colab": {
     "base_uri": "https://localhost:8080/",
     "height": 92
    },
    "id": "XDGywTUZlQVG",
    "outputId": "9399faa1-0b7c-4033-c84a-af3e8fe47001"
   },
   "outputs": [
    {
     "data": {
      "text/plain": [
       "tensor([[0.],\n",
       "        [1.],\n",
       "        [1.],\n",
       "        [0.]])"
      ]
     },
     "execution_count": 6,
     "metadata": {},
     "output_type": "execute_result"
    }
   ],
   "source": [
    "Y"
   ]
  },
  {
   "cell_type": "markdown",
   "metadata": {
    "id": "iIirpZeFl8oA"
   },
   "source": [
    "### NN 모델 정의 \n",
    "- Perceptron과 차이는 모델 설계 부분"
   ]
  },
  {
   "cell_type": "code",
   "execution_count": 7,
   "metadata": {
    "id": "qfLQLAublQoV"
   },
   "outputs": [],
   "source": [
    "## 모델 설계\n",
    "layer1 = torch.nn.Linear(2,2,bias=True) # matrix로 처리 (정확한 \"차원\"에 대한 이해가 필요)\n",
    "layer2 = torch.nn.Linear(2,1,bias=True)\n",
    "sigmoid = torch.nn.Sigmoid()"
   ]
  },
  {
   "cell_type": "code",
   "execution_count": 9,
   "metadata": {
    "id": "YE3xt7E9ldAE"
   },
   "outputs": [],
   "source": [
    "model = torch.nn.Sequential(layer1,sigmoid,layer2,sigmoid)"
   ]
  },
  {
   "cell_type": "code",
   "execution_count": 10,
   "metadata": {
    "colab": {
     "base_uri": "https://localhost:8080/",
     "height": 129
    },
    "id": "jORhIVqSrYUH",
    "outputId": "067a1b51-d049-4eda-a9d5-3c5751e32535"
   },
   "outputs": [
    {
     "data": {
      "text/plain": [
       "Sequential(\n",
       "  (0): Linear(in_features=2, out_features=2, bias=True)\n",
       "  (1): Sigmoid()\n",
       "  (2): Linear(in_features=2, out_features=1, bias=True)\n",
       "  (3): Sigmoid()\n",
       ")"
      ]
     },
     "execution_count": 10,
     "metadata": {},
     "output_type": "execute_result"
    }
   ],
   "source": [
    "model"
   ]
  },
  {
   "cell_type": "markdown",
   "metadata": {
    "id": "Q8TcUc92l52r"
   },
   "source": [
    "### 모델 학습"
   ]
  },
  {
   "cell_type": "code",
   "execution_count": 11,
   "metadata": {
    "id": "VvnnReW2loXI"
   },
   "outputs": [],
   "source": [
    "loss = torch.nn.BCELoss()\n",
    "optimizer = torch.optim.SGD(model.parameters(), lr=1)"
   ]
  },
  {
   "cell_type": "code",
   "execution_count": 12,
   "metadata": {
    "colab": {
     "base_uri": "https://localhost:8080/",
     "height": 1000
    },
    "id": "Px1iYcB9lq-I",
    "outputId": "ef2bd3e9-608e-4513-d52d-f0e80a8b8d8d"
   },
   "outputs": [
    {
     "name": "stdout",
     "output_type": "stream",
     "text": [
      "0 0.7434073090553284\n",
      "100 0.693165123462677\n",
      "200 0.6931577920913696\n",
      "300 0.6931517124176025\n",
      "400 0.6931463479995728\n",
      "500 0.6931411027908325\n",
      "600 0.6931357383728027\n",
      "700 0.6931295394897461\n",
      "800 0.6931220889091492\n",
      "900 0.6931126117706299\n",
      "1000 0.6930999755859375\n",
      "1100 0.693082332611084\n",
      "1200 0.6930569410324097\n",
      "1300 0.6930190324783325\n",
      "1400 0.6929606199264526\n",
      "1500 0.6928660273551941\n",
      "1600 0.6927032470703125\n",
      "1700 0.6923960447311401\n",
      "1800 0.6917302012443542\n",
      "1900 0.6899654269218445\n",
      "2000 0.6838316321372986\n",
      "2100 0.6561669707298279\n",
      "2200 0.4311031997203827\n",
      "2300 0.1348937302827835\n",
      "2400 0.06630446016788483\n",
      "2500 0.04216822609305382\n",
      "2600 0.030453898012638092\n",
      "2700 0.02366594597697258\n",
      "2800 0.01927776448428631\n",
      "2900 0.016224052757024765\n",
      "3000 0.013983823359012604\n",
      "3100 0.012273931875824928\n",
      "3200 0.010928118601441383\n",
      "3300 0.009842472150921822\n",
      "3400 0.008949032984673977\n",
      "3500 0.008201336488127708\n",
      "3600 0.007566767744719982\n",
      "3700 0.007021686062216759\n",
      "3800 0.006548595614731312\n",
      "3900 0.006134253926575184\n",
      "4000 0.005768375005573034\n",
      "4100 0.0054430365562438965\n",
      "4200 0.005151905119419098\n",
      "4300 0.004889918025583029\n",
      "4400 0.0046528722159564495\n",
      "4500 0.004437457304447889\n",
      "4600 0.004240859299898148\n",
      "4700 0.004060687031596899\n",
      "4800 0.003895031288266182\n",
      "4900 0.0037421947345137596\n",
      "5000 0.0036007347516715527\n",
      "5100 0.003469479735940695\n",
      "5200 0.0033473046496510506\n",
      "5300 0.0032333978451788425\n",
      "5400 0.0031268750317394733\n",
      "5500 0.0030270610004663467\n",
      "5600 0.0029333550482988358\n",
      "5700 0.0028452035039663315\n",
      "5800 0.00276215560734272\n",
      "5900 0.002683777129277587\n",
      "6000 0.0026096487417817116\n",
      "6100 0.0025394847616553307\n",
      "6200 0.0024729417636990547\n",
      "6300 0.0024097643326967955\n",
      "6400 0.002349698217585683\n",
      "6500 0.0022925634402781725\n",
      "6600 0.002238075714558363\n",
      "6700 0.002186085097491741\n",
      "6800 0.0021364721469581127\n",
      "6900 0.002089011948555708\n",
      "7000 0.00204361486248672\n",
      "7100 0.0020001311786472797\n",
      "7200 0.0019584414549171925\n",
      "7300 0.0019184107659384608\n",
      "7400 0.0018799942918121815\n",
      "7500 0.0018430722411721945\n",
      "7600 0.0018075399566441774\n",
      "7700 0.0017733527347445488\n",
      "7800 0.0017404207028448582\n",
      "7900 0.0017087137093767524\n",
      "8000 0.001678097527474165\n",
      "8100 0.0016485571395605803\n",
      "8200 0.001620002556592226\n",
      "8300 0.0015924491453915834\n",
      "8400 0.0015657918993383646\n",
      "8500 0.0015400308184325695\n",
      "8600 0.0015150614781305194\n",
      "8700 0.0014909137971699238\n",
      "8800 0.0014674977865070105\n",
      "8900 0.001444813678972423\n",
      "9000 0.0014228165382519364\n",
      "9100 0.0014014765620231628\n",
      "9200 0.0013806892093271017\n",
      "9300 0.0013606036081910133\n",
      "9400 0.0013410557294264436\n",
      "9500 0.001322030322626233\n",
      "9600 0.001303557539358735\n",
      "9700 0.001285637030377984\n",
      "9800 0.0012681199004873633\n",
      "9900 0.0012511102249845862\n"
     ]
    }
   ],
   "source": [
    "for stop in range(10000):\n",
    "    \n",
    "    # 그래디언트 초기화\n",
    "    optimizer.zero_grad()\n",
    "    # Forward 계산\n",
    "    hypothesis = model(X)\n",
    "    # Error 계산\n",
    "    cost = loss(hypothesis, Y)\n",
    "    # Backward 계산 \n",
    "    cost.backward()\n",
    "    # 가중치 갱신\n",
    "    optimizer.step()\n",
    "\n",
    "    if stop % 100 == 0:\n",
    "        print(stop, cost.item())\n"
   ]
  },
  {
   "cell_type": "markdown",
   "metadata": {
    "id": "yU7LWgLfl3jN"
   },
   "source": [
    "### 모델 평가"
   ]
  },
  {
   "cell_type": "code",
   "execution_count": 13,
   "metadata": {
    "colab": {
     "base_uri": "https://localhost:8080/",
     "height": 204
    },
    "id": "Ap0SGc0bl0WS",
    "outputId": "272ca8ce-e0c3-4a4b-c4ab-3baac248253f"
   },
   "outputs": [
    {
     "name": "stdout",
     "output_type": "stream",
     "text": [
      "\n",
      " Hypothesis:  [[0.00106378]\n",
      " [0.9988938 ]\n",
      " [0.9988939 ]\n",
      " [0.00165883]] \n",
      " Correct:  [[0.]\n",
      " [1.]\n",
      " [1.]\n",
      " [0.]] \n",
      " Accuracy:  1.0\n"
     ]
    }
   ],
   "source": [
    "## w,b 평가\n",
    "\n",
    "with torch.no_grad(): # 임시로 required_grad = false로 설정하는 것과 같다.\n",
    "\n",
    "    hypothesis = model(X)\n",
    "    predicted = (hypothesis > 0.5).float() # logistic regression => binary classification\n",
    "    accuracy = (predicted == Y).float().mean()\n",
    "    print('\\n Hypothesis: ', hypothesis.numpy(), '\\n Correct: ', predicted.numpy(), '\\n Accuracy: ', accuracy.item())\n"
   ]
  },
  {
   "cell_type": "code",
   "execution_count": null,
   "metadata": {
    "id": "xfIy1I_hl2ZK"
   },
   "outputs": [],
   "source": []
  }
 ],
 "metadata": {
  "colab": {
   "collapsed_sections": [],
   "name": "[인공지능][6주차][실습] 심층신경망 (2부).ipynb",
   "provenance": []
  },
  "kernelspec": {
   "display_name": "Python 3 (ipykernel)",
   "language": "python",
   "name": "python3"
  },
  "language_info": {
   "codemirror_mode": {
    "name": "ipython",
    "version": 3
   },
   "file_extension": ".py",
   "mimetype": "text/x-python",
   "name": "python",
   "nbconvert_exporter": "python",
   "pygments_lexer": "ipython3",
   "version": "3.9.6"
  }
 },
 "nbformat": 4,
 "nbformat_minor": 4
}
