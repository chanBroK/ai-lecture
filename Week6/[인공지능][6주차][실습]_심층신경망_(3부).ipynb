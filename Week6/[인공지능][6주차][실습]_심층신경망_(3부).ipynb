{
 "cells": [
  {
   "cell_type": "markdown",
   "metadata": {
    "id": "3nel5KbQk6NW"
   },
   "source": [
    "## Multi-Layer Perceptron (NN)\n",
    "- 은닉층이 두개 이상인 신경망 구조\n",
    "- XOR 문제를 해결 할 수 있다."
   ]
  },
  {
   "cell_type": "markdown",
   "metadata": {
    "id": "0a8r2FdxmCLA"
   },
   "source": [
    "### 데이터 입출력 정의"
   ]
  },
  {
   "cell_type": "code",
   "execution_count": 1,
   "metadata": {
    "id": "FVxuoNM4k4RO"
   },
   "outputs": [],
   "source": [
    "import torch"
   ]
  },
  {
   "cell_type": "code",
   "execution_count": 2,
   "metadata": {
    "colab": {
     "base_uri": "https://localhost:8080/",
     "height": 36
    },
    "id": "REdopVKHlFYN",
    "outputId": "7fee123b-b20a-4f02-9a48-583b5633e74d"
   },
   "outputs": [
    {
     "data": {
      "text/plain": [
       "<torch._C.Generator at 0x2b8c88ab130>"
      ]
     },
     "execution_count": 2,
     "metadata": {},
     "output_type": "execute_result"
    }
   ],
   "source": [
    "torch.manual_seed(777)"
   ]
  },
  {
   "cell_type": "code",
   "execution_count": 3,
   "metadata": {
    "id": "G-7wlisFlHae"
   },
   "outputs": [],
   "source": [
    "X = torch.FloatTensor([[0,0], [0,1], [1,0],[1,1]])\n",
    "Y = torch.FloatTensor([[0],[1],[1],[0]])"
   ]
  },
  {
   "cell_type": "code",
   "execution_count": 4,
   "metadata": {
    "colab": {
     "base_uri": "https://localhost:8080/",
     "height": 92
    },
    "id": "_qQ3IyHGlMbe",
    "outputId": "e9b5f1d5-7300-4e4e-9462-f7bf7d107c3f"
   },
   "outputs": [
    {
     "data": {
      "text/plain": [
       "tensor([[0., 0.],\n",
       "        [0., 1.],\n",
       "        [1., 0.],\n",
       "        [1., 1.]])"
      ]
     },
     "execution_count": 4,
     "metadata": {},
     "output_type": "execute_result"
    }
   ],
   "source": [
    "X"
   ]
  },
  {
   "cell_type": "code",
   "execution_count": 5,
   "metadata": {
    "colab": {
     "base_uri": "https://localhost:8080/",
     "height": 92
    },
    "id": "XDGywTUZlQVG",
    "outputId": "6e3f7127-3a06-4b5d-89b2-ca43d571ee9d"
   },
   "outputs": [
    {
     "data": {
      "text/plain": [
       "tensor([[0.],\n",
       "        [1.],\n",
       "        [1.],\n",
       "        [0.]])"
      ]
     },
     "execution_count": 5,
     "metadata": {},
     "output_type": "execute_result"
    }
   ],
   "source": [
    "Y"
   ]
  },
  {
   "cell_type": "markdown",
   "metadata": {
    "id": "iIirpZeFl8oA"
   },
   "source": [
    "### NN 모델 정의 \n",
    "- 더 깊고, 넓게 만들기\n",
    "  - 깊게 => 은닉층 늘리기\n",
    "  - 넓게 => feature 수 늘리기"
   ]
  },
  {
   "cell_type": "code",
   "execution_count": 9,
   "metadata": {
    "id": "qfLQLAublQoV"
   },
   "outputs": [],
   "source": [
    "## 모델 설계\n",
    "linear1 = torch.nn.Linear(2, 10, bias=True)\n",
    "linear2 = torch.nn.Linear(10, 10, bias=True)\n",
    "linear3 = torch.nn.Linear(10, 10, bias=True)\n",
    "linear4 = torch.nn.Linear(10, 1, bias=True)\n",
    "sigmoid = torch.nn.Sigmoid()"
   ]
  },
  {
   "cell_type": "code",
   "execution_count": 10,
   "metadata": {
    "id": "YE3xt7E9ldAE"
   },
   "outputs": [],
   "source": [
    "model = torch.nn.Sequential(linear1, sigmoid, linear2, sigmoid, linear3, sigmoid, linear4, sigmoid)"
   ]
  },
  {
   "cell_type": "markdown",
   "metadata": {
    "id": "Q8TcUc92l52r"
   },
   "source": [
    "### 모델 학습"
   ]
  },
  {
   "cell_type": "code",
   "execution_count": 11,
   "metadata": {
    "id": "VvnnReW2loXI"
   },
   "outputs": [],
   "source": [
    "loss = torch.nn.BCELoss()\n",
    "optimizer = torch.optim.SGD(model.parameters(), lr=1)"
   ]
  },
  {
   "cell_type": "code",
   "execution_count": 12,
   "metadata": {
    "colab": {
     "base_uri": "https://localhost:8080/",
     "height": 1000
    },
    "id": "Px1iYcB9lq-I",
    "outputId": "6367c26f-1182-4d1d-927c-c9a12d66b0a7"
   },
   "outputs": [
    {
     "name": "stdout",
     "output_type": "stream",
     "text": [
      "0 0.7408947944641113\n",
      "100 0.6931389570236206\n",
      "200 0.6931374669075012\n",
      "300 0.6931358575820923\n",
      "400 0.6931341886520386\n",
      "500 0.6931324601173401\n",
      "600 0.693130612373352\n",
      "700 0.6931287050247192\n",
      "800 0.6931267976760864\n",
      "900 0.6931246519088745\n",
      "1000 0.6931225061416626\n",
      "1100 0.693120002746582\n",
      "1200 0.6931174993515015\n",
      "1300 0.6931147575378418\n",
      "1400 0.6931118965148926\n",
      "1500 0.6931086182594299\n",
      "1600 0.6931051015853882\n",
      "1700 0.6931012868881226\n",
      "1800 0.6930969953536987\n",
      "1900 0.6930923461914062\n",
      "2000 0.6930870413780212\n",
      "2100 0.693081259727478\n",
      "2200 0.693074643611908\n",
      "2300 0.6930671334266663\n",
      "2400 0.6930586099624634\n",
      "2500 0.6930487155914307\n",
      "2600 0.693037211894989\n",
      "2700 0.6930238008499146\n",
      "2800 0.6930078268051147\n",
      "2900 0.6929886937141418\n",
      "3000 0.6929655075073242\n",
      "3100 0.6929367780685425\n",
      "3200 0.6929006576538086\n",
      "3300 0.6928542852401733\n",
      "3400 0.6927931904792786\n",
      "3500 0.692710280418396\n",
      "3600 0.6925929188728333\n",
      "3700 0.6924187541007996\n",
      "3800 0.6921423673629761\n",
      "3900 0.6916618347167969\n",
      "4000 0.6907041072845459\n",
      "4100 0.6883158683776855\n",
      "4200 0.6790612936019897\n",
      "4300 0.5542757511138916\n",
      "4400 0.03013252280652523\n",
      "4500 0.007755571976304054\n",
      "4600 0.004100031219422817\n",
      "4700 0.002714909380301833\n",
      "4800 0.0020045218989253044\n",
      "4900 0.0015776974614709616\n",
      "5000 0.0012949693482369184\n",
      "5100 0.001094870618544519\n",
      "5200 0.0009462012676522136\n",
      "5300 0.0008317545289173722\n",
      "5400 0.0007410335238091648\n",
      "5500 0.0006674252799712121\n",
      "5600 0.0006066611385904253\n",
      "5700 0.0005556820542551577\n",
      "5800 0.0005122796865180135\n",
      "5900 0.00047494727186858654\n",
      "6000 0.0004424615472089499\n",
      "6100 0.00041400204645469785\n",
      "6200 0.0003888976061716676\n",
      "6300 0.000366506923455745\n",
      "6400 0.00034653168404474854\n",
      "6500 0.00032849470153450966\n",
      "6600 0.0003121871850453317\n",
      "6700 0.000297355669317767\n",
      "6800 0.0002838360669557005\n",
      "6900 0.0002714793081395328\n",
      "7000 0.00026012136368080974\n",
      "7100 0.0002496280358172953\n",
      "7200 0.0002398950164206326\n",
      "7300 0.00023087752924766392\n",
      "7400 0.00022250102483667433\n",
      "7500 0.0002146909828297794\n",
      "7600 0.00020740264153573662\n",
      "7700 0.00020056150970049202\n",
      "7800 0.0001941675436682999\n",
      "7900 0.00018814623763319105\n",
      "8000 0.00018243794329464436\n",
      "8100 0.0001771023089531809\n",
      "8200 0.00017204985488206148\n",
      "8300 0.00016726570902392268\n",
      "8400 0.00016273495566565543\n",
      "8500 0.00015844266454223543\n",
      "8600 0.0001543441612739116\n",
      "8700 0.0001504543179180473\n",
      "8800 0.00014672843099106103\n",
      "8900 0.00014322610513772815\n",
      "9000 0.00013984303222969174\n",
      "9100 0.00013662390119861811\n",
      "9200 0.00013356871204450727\n",
      "9300 0.00013057315663900226\n",
      "9400 0.00012778624659404159\n",
      "9500 0.0001250738714588806\n",
      "9600 0.00012245091784279794\n",
      "9700 0.00011996209650533274\n",
      "9800 0.00011754779552575201\n",
      "9900 0.0001152527256635949\n"
     ]
    }
   ],
   "source": [
    "for stop in range(10000):\n",
    "    \n",
    "    # 그래디언트 초기화\n",
    "    optimizer.zero_grad()\n",
    "    # Forward 계산\n",
    "    hypothesis = model(X)\n",
    "    # Error 계산\n",
    "    cost = loss(hypothesis, Y)\n",
    "    # Backward 계산 \n",
    "    cost.backward()\n",
    "    # 가중치 갱신\n",
    "    optimizer.step()\n",
    "\n",
    "    if stop % 100 == 0:\n",
    "        print(stop, cost.item())\n"
   ]
  },
  {
   "cell_type": "markdown",
   "metadata": {
    "id": "yU7LWgLfl3jN"
   },
   "source": [
    "### 모델 평가"
   ]
  },
  {
   "cell_type": "code",
   "execution_count": 13,
   "metadata": {
    "colab": {
     "base_uri": "https://localhost:8080/",
     "height": 204
    },
    "id": "Ap0SGc0bl0WS",
    "outputId": "4425b74e-a20f-4d2b-e772-4f8947adf273"
   },
   "outputs": [
    {
     "name": "stdout",
     "output_type": "stream",
     "text": [
      "\n",
      " Hypothesis:  [[6.8871421e-05]\n",
      " [9.9988139e-01]\n",
      " [9.9989223e-01]\n",
      " [1.5688210e-04]] \n",
      " Correct:  [[0.]\n",
      " [1.]\n",
      " [1.]\n",
      " [0.]] \n",
      " Accuracy:  1.0\n"
     ]
    }
   ],
   "source": [
    "## w,b 평가\n",
    "\n",
    "with torch.no_grad(): # 임시로 required_grad = false로 설정하는 것과 같다.\n",
    "\n",
    "    hypothesis = model(X)\n",
    "    predicted = (hypothesis > 0.5).float()\n",
    "    accuracy = (predicted == Y).float().mean()\n",
    "    print('\\n Hypothesis: ', hypothesis.numpy(), '\\n Correct: ', predicted.numpy(), '\\n Accuracy: ', accuracy.item())\n"
   ]
  },
  {
   "cell_type": "code",
   "execution_count": null,
   "metadata": {
    "id": "xfIy1I_hl2ZK"
   },
   "outputs": [],
   "source": []
  },
  {
   "cell_type": "code",
   "execution_count": null,
   "metadata": {},
   "outputs": [],
   "source": []
  }
 ],
 "metadata": {
  "colab": {
   "name": "[인공지능][6주차][실습] 심층신경망 (3부).ipynb",
   "provenance": []
  },
  "kernelspec": {
   "display_name": "Python 3 (ipykernel)",
   "language": "python",
   "name": "python3"
  },
  "language_info": {
   "codemirror_mode": {
    "name": "ipython",
    "version": 3
   },
   "file_extension": ".py",
   "mimetype": "text/x-python",
   "name": "python",
   "nbconvert_exporter": "python",
   "pygments_lexer": "ipython3",
   "version": "3.9.6"
  }
 },
 "nbformat": 4,
 "nbformat_minor": 4
}
