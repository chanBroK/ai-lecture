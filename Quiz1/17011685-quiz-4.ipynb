{
 "cells": [
  {
   "cell_type": "code",
   "execution_count": 47,
   "metadata": {
    "_cell_guid": "b1076dfc-b9ad-4769-8c92-a6c4dae69d19",
    "_uuid": "8f2839f25d086af736a60e9eeb907d3b93b6e0e5",
    "execution": {
     "iopub.execute_input": "2021-10-11T11:30:24.595305Z",
     "iopub.status.busy": "2021-10-11T11:30:24.594971Z",
     "iopub.status.idle": "2021-10-11T11:30:24.610941Z",
     "shell.execute_reply": "2021-10-11T11:30:24.609766Z",
     "shell.execute_reply.started": "2021-10-11T11:30:24.595270Z"
    }
   },
   "outputs": [],
   "source": [
    "# This Python 3 environment comes with many helpful analytics libraries installed\n",
    "# It is defined by the kaggle/python Docker image: https://github.com/kaggle/docker-python\n",
    "# For example, here's several helpful packages to load\n",
    "\n",
    "import numpy as np # linear algebra\n",
    "import pandas as pd # data processing, CSV file I/O (e.g. pd.read_csv)\n",
    "\n",
    "# Input data files are available in the read-only \"../input/\" directory\n",
    "# For example, running this (by clicking run or pressing Shift+Enter) will list all files under the input directory\n",
    "\n",
    "import os\n",
    "for dirname, _, filenames in os.walk('/kaggle/input'):\n",
    "    for filename in filenames:\n",
    "        print(os.path.join(dirname, filename))\n",
    "\n",
    "# You can write up to 20GB to the current directory (/kaggle/working/) that gets preserved as output when you create a version using \"Save & Run All\" \n",
    "# You can also write temporary files to /kaggle/temp/, but they won't be saved outside of the current session"
   ]
  },
  {
   "cell_type": "code",
   "execution_count": 48,
   "metadata": {
    "execution": {
     "iopub.execute_input": "2021-10-11T11:30:24.613976Z",
     "iopub.status.busy": "2021-10-11T11:30:24.613207Z",
     "iopub.status.idle": "2021-10-11T11:30:24.620289Z",
     "shell.execute_reply": "2021-10-11T11:30:24.619449Z",
     "shell.execute_reply.started": "2021-10-11T11:30:24.613778Z"
    }
   },
   "outputs": [],
   "source": [
    "import torch\n",
    "import sklearn"
   ]
  },
  {
   "cell_type": "code",
   "execution_count": 49,
   "metadata": {
    "execution": {
     "iopub.execute_input": "2021-10-11T11:30:24.623809Z",
     "iopub.status.busy": "2021-10-11T11:30:24.622793Z",
     "iopub.status.idle": "2021-10-11T11:30:24.633827Z",
     "shell.execute_reply": "2021-10-11T11:30:24.632529Z",
     "shell.execute_reply.started": "2021-10-11T11:30:24.623545Z"
    }
   },
   "outputs": [],
   "source": [
    "# seed 고정\n",
    "torch.manual_seed(1)"
   ]
  },
  {
   "cell_type": "code",
   "execution_count": 50,
   "metadata": {
    "execution": {
     "iopub.execute_input": "2021-10-11T11:30:24.637586Z",
     "iopub.status.busy": "2021-10-11T11:30:24.636618Z",
     "iopub.status.idle": "2021-10-11T11:30:24.670505Z",
     "shell.execute_reply": "2021-10-11T11:30:24.669668Z",
     "shell.execute_reply.started": "2021-10-11T11:30:24.637548Z"
    }
   },
   "outputs": [],
   "source": [
    "# data load\n",
    "train = pd.read_csv(\"/kaggle/input/2021-ai-quiz1-p4/train.csv\")\n",
    "test = pd.read_csv(\"/kaggle/input/2021-ai-quiz1-p4/test.csv\")\n",
    "submit = pd.read_csv(\"/kaggle/input/2021-ai-quiz1-p4/submit_sample.csv\")"
   ]
  },
  {
   "cell_type": "code",
   "execution_count": 51,
   "metadata": {
    "execution": {
     "iopub.execute_input": "2021-10-11T11:30:24.677555Z",
     "iopub.status.busy": "2021-10-11T11:30:24.675383Z",
     "iopub.status.idle": "2021-10-11T11:30:24.719781Z",
     "shell.execute_reply": "2021-10-11T11:30:24.719083Z",
     "shell.execute_reply.started": "2021-10-11T11:30:24.677518Z"
    }
   },
   "outputs": [],
   "source": [
    "# 데이터 확인\n",
    "\n",
    "print(train)\n",
    "print(test)\n",
    "print(submit)"
   ]
  },
  {
   "cell_type": "code",
   "execution_count": 52,
   "metadata": {
    "execution": {
     "iopub.execute_input": "2021-10-11T11:30:24.725706Z",
     "iopub.status.busy": "2021-10-11T11:30:24.723793Z",
     "iopub.status.idle": "2021-10-11T11:30:24.746052Z",
     "shell.execute_reply": "2021-10-11T11:30:24.745142Z",
     "shell.execute_reply.started": "2021-10-11T11:30:24.725669Z"
    }
   },
   "outputs": [],
   "source": [
    "## data 전처리 및 텐서 올리기\n",
    "# 스케일 조정을 위한 Scaler\n",
    "\n",
    "from sklearn.preprocessing import StandardScaler\n",
    "scaler = StandardScaler()\n",
    "\n",
    "x_train = np.array(train.drop(['id','count'],axis=1))\n",
    "x_test = np.array(test.drop(['id'],axis=1))\n",
    "y_train = np.array(train['count'])\n",
    "\n",
    "# scale 조정\n",
    "scaler.fit(x_train)\n",
    "x_train = scaler.transform(x_train)\n",
    "x_test = scaler.transform(x_test)\n",
    "\n",
    "x_train = torch.Tensor(x_train).cuda()\n",
    "x_test = torch.Tensor(x_test).cuda()\n",
    "y_train = torch.Tensor(y_train).unsqueeze(1).cuda()\n",
    "\n",
    "print(x_train.shape,y_train.shape)"
   ]
  },
  {
   "cell_type": "code",
   "execution_count": 53,
   "metadata": {
    "execution": {
     "iopub.execute_input": "2021-10-11T11:30:24.752341Z",
     "iopub.status.busy": "2021-10-11T11:30:24.750256Z",
     "iopub.status.idle": "2021-10-11T11:30:24.760565Z",
     "shell.execute_reply": "2021-10-11T11:30:24.759664Z",
     "shell.execute_reply.started": "2021-10-11T11:30:24.752304Z"
    }
   },
   "outputs": [],
   "source": [
    "# 학습 설정\n",
    "w = torch.zeros((9,1),requires_grad=True,device=\"cuda\")\n",
    "b = torch.zeros(1,requires_grad=True,device=\"cuda\")\n",
    "\n",
    "optim = torch.optim.SGD([w,b],lr = 1e-3)\n",
    "epochs= 4000\n",
    "# 회귀 문제 이므로 MSE 사용\n",
    "loss = torch.nn.MSELoss()"
   ]
  },
  {
   "cell_type": "code",
   "execution_count": 54,
   "metadata": {
    "execution": {
     "iopub.execute_input": "2021-10-11T11:30:24.767465Z",
     "iopub.status.busy": "2021-10-11T11:30:24.765123Z",
     "iopub.status.idle": "2021-10-11T11:30:27.037435Z",
     "shell.execute_reply": "2021-10-11T11:30:27.035961Z",
     "shell.execute_reply.started": "2021-10-11T11:30:24.767429Z"
    }
   },
   "outputs": [],
   "source": [
    "for epoch in range(epochs+1):\n",
    "    optim.zero_grad()\n",
    "    \n",
    "    h = x_train.matmul(w)+b\n",
    "    cost = loss(h,y_train)\n",
    "    \n",
    "    cost.backward()\n",
    "    optim.step()\n",
    "    \n",
    "    if epoch % 1000 == 0:\n",
    "        print(cost.item())"
   ]
  },
  {
   "cell_type": "code",
   "execution_count": 55,
   "metadata": {
    "execution": {
     "iopub.execute_input": "2021-10-11T11:30:27.039099Z",
     "iopub.status.busy": "2021-10-11T11:30:27.038845Z",
     "iopub.status.idle": "2021-10-11T11:30:27.049276Z",
     "shell.execute_reply": "2021-10-11T11:30:27.048482Z",
     "shell.execute_reply.started": "2021-10-11T11:30:27.039065Z"
    }
   },
   "outputs": [],
   "source": [
    "with torch.no_grad():\n",
    "    predict = x_test.matmul(w) +b\n",
    "predict = predict.cpu().numpy()\n",
    "submit['count'] = predict\n",
    "submit.to_csv(\"submission.csv\",index=False)"
   ]
  },
  {
   "cell_type": "markdown",
   "metadata": {},
   "source": [
    "# try\n",
    "# lr 1e-4 일때는 코스트 감소가 너무 저조함\n",
    "# lr 1e-3 일때 코스트 감소가 잘되지만 언제 고정되는 지 알 수 없음\n",
    "# epoch를 10000으로 증가해보니 3~4000쯤 2921로 코스트 고정됨 -> epoch 4000 으로 사용"
   ]
  },
  {
   "cell_type": "code",
   "execution_count": null,
   "metadata": {},
   "outputs": [],
   "source": []
  }
 ],
 "metadata": {
  "kernelspec": {
   "display_name": "Python 3",
   "language": "python",
   "name": "python3"
  },
  "language_info": {
   "codemirror_mode": {
    "name": "ipython",
    "version": 3
   },
   "file_extension": ".py",
   "mimetype": "text/x-python",
   "name": "python",
   "nbconvert_exporter": "python",
   "pygments_lexer": "ipython3",
   "version": "3.8.10"
  }
 },
 "nbformat": 4,
 "nbformat_minor": 4
}
