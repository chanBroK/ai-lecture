{
 "cells": [
  {
   "cell_type": "code",
   "execution_count": 1,
   "metadata": {
    "_cell_guid": "b1076dfc-b9ad-4769-8c92-a6c4dae69d19",
    "_uuid": "8f2839f25d086af736a60e9eeb907d3b93b6e0e5",
    "execution": {
     "iopub.execute_input": "2021-10-11T10:55:55.665254Z",
     "iopub.status.busy": "2021-10-11T10:55:55.664904Z",
     "iopub.status.idle": "2021-10-11T10:55:55.694437Z",
     "shell.execute_reply": "2021-10-11T10:55:55.693636Z",
     "shell.execute_reply.started": "2021-10-11T10:55:55.665158Z"
    }
   },
   "outputs": [],
   "source": [
    "##### This Python 3 environment comes with many helpful analytics libraries installed\n",
    "# It is defined by the kaggle/python Docker image: https://github.com/kaggle/docker-python\n",
    "# For example, here's several helpful packages to load\n",
    "\n",
    "import numpy as np # linear algebra\n",
    "import pandas as pd # data processing, CSV file I/O (e.g. pd.read_csv)\n",
    "\n",
    "# Input data files are available in the read-only \"../input/\" directory\n",
    "# For example, running this (by clicking run or pressing Shift+Enter) will list all files under the input directory\n",
    "\n",
    "import os\n",
    "for dirname, _, filenames in os.walk('/kaggle/input'):\n",
    "    for filename in filenames:\n",
    "        print(os.path.join(dirname, filename))\n",
    "\n",
    "# You can write up to 20GB to the current directory (/kaggle/working/) that gets preserved as output when you create a version using \"Save & Run All\" \n",
    "# You can also write temporary files to /kaggle/temp/, but they won't be saved outside of the current session"
   ]
  },
  {
   "cell_type": "code",
   "execution_count": 2,
   "metadata": {
    "execution": {
     "iopub.execute_input": "2021-10-11T10:55:55.696036Z",
     "iopub.status.busy": "2021-10-11T10:55:55.695701Z",
     "iopub.status.idle": "2021-10-11T10:55:57.564930Z",
     "shell.execute_reply": "2021-10-11T10:55:57.564084Z",
     "shell.execute_reply.started": "2021-10-11T10:55:55.696009Z"
    }
   },
   "outputs": [],
   "source": [
    "import torch\n",
    "import sklearn"
   ]
  },
  {
   "cell_type": "code",
   "execution_count": 3,
   "metadata": {
    "execution": {
     "iopub.execute_input": "2021-10-11T10:55:57.566906Z",
     "iopub.status.busy": "2021-10-11T10:55:57.566100Z",
     "iopub.status.idle": "2021-10-11T10:55:57.578258Z",
     "shell.execute_reply": "2021-10-11T10:55:57.577232Z",
     "shell.execute_reply.started": "2021-10-11T10:55:57.566865Z"
    }
   },
   "outputs": [],
   "source": [
    "#seed 고정\n",
    "torch.manual_seed(1)"
   ]
  },
  {
   "cell_type": "code",
   "execution_count": 4,
   "metadata": {
    "execution": {
     "iopub.execute_input": "2021-10-11T10:55:57.580329Z",
     "iopub.status.busy": "2021-10-11T10:55:57.580061Z",
     "iopub.status.idle": "2021-10-11T10:55:57.607885Z",
     "shell.execute_reply": "2021-10-11T10:55:57.607141Z",
     "shell.execute_reply.started": "2021-10-11T10:55:57.580301Z"
    }
   },
   "outputs": [],
   "source": [
    "# data로딩\n",
    "train = pd.read_csv(\"/kaggle/input/2021-ai-quiz1-p1/train.csv\")\n",
    "test = pd.read_csv(\"/kaggle/input/2021-ai-quiz1-p1/test.csv\")\n",
    "submit = pd.read_csv(\"/kaggle/input/2021-ai-quiz1-p1/submit_sample.csv\")"
   ]
  },
  {
   "cell_type": "code",
   "execution_count": 5,
   "metadata": {
    "execution": {
     "iopub.execute_input": "2021-10-11T10:55:57.609154Z",
     "iopub.status.busy": "2021-10-11T10:55:57.608892Z",
     "iopub.status.idle": "2021-10-11T10:55:57.628759Z",
     "shell.execute_reply": "2021-10-11T10:55:57.627943Z",
     "shell.execute_reply.started": "2021-10-11T10:55:57.609129Z"
    }
   },
   "outputs": [],
   "source": [
    "# 데이터 확인\n",
    "print(train.head())\n",
    "print(test.head())\n",
    "print(submit.head())"
   ]
  },
  {
   "cell_type": "code",
   "execution_count": 6,
   "metadata": {
    "execution": {
     "iopub.execute_input": "2021-10-11T10:55:57.630708Z",
     "iopub.status.busy": "2021-10-11T10:55:57.630042Z",
     "iopub.status.idle": "2021-10-11T10:55:57.667737Z",
     "shell.execute_reply": "2021-10-11T10:55:57.666137Z",
     "shell.execute_reply.started": "2021-10-11T10:55:57.630663Z"
    }
   },
   "outputs": [],
   "source": [
    "# 데이터 텐서에 올리기 ( 필요없는 컬럼 제외)\n",
    "x_train = np.array(train.drop(['avgPrice','year'],axis=1))\n",
    "y_train = np.array(train['avgPrice'])\n",
    "x_test = np.array(test.drop(['year'],axis=1))\n",
    "\n",
    "x_train = torch.Tensor(x_train)\n",
    "y_train = torch.Tensor(y_train).unsqueeze(1)\n",
    "x_test = torch.Tensor(x_test)\n",
    "\n",
    "print(x_train.shape, y_train.shape)"
   ]
  },
  {
   "cell_type": "code",
   "execution_count": 7,
   "metadata": {
    "execution": {
     "iopub.execute_input": "2021-10-11T10:55:57.669788Z",
     "iopub.status.busy": "2021-10-11T10:55:57.669024Z",
     "iopub.status.idle": "2021-10-11T10:55:57.678686Z",
     "shell.execute_reply": "2021-10-11T10:55:57.677870Z",
     "shell.execute_reply.started": "2021-10-11T10:55:57.669742Z"
    }
   },
   "outputs": [],
   "source": [
    "# 학습 설정\n",
    "w = torch.zeros((4,1),requires_grad= True)\n",
    "b = torch.zeros(1,requires_grad =True)\n",
    "optim = torch.optim.SGD([w,b],lr=1e-4)\n",
    "epochs = 1000\n",
    "loss = torch.nn.MSELoss()"
   ]
  },
  {
   "cell_type": "code",
   "execution_count": 8,
   "metadata": {
    "execution": {
     "iopub.execute_input": "2021-10-11T10:55:57.680071Z",
     "iopub.status.busy": "2021-10-11T10:55:57.679760Z",
     "iopub.status.idle": "2021-10-11T10:55:57.992534Z",
     "shell.execute_reply": "2021-10-11T10:55:57.991458Z",
     "shell.execute_reply.started": "2021-10-11T10:55:57.680041Z"
    }
   },
   "outputs": [],
   "source": [
    "# 학습\n",
    "for epoch in range(epochs+1):\n",
    "    optim.zero_grad()\n",
    "    \n",
    "    h = x_train.matmul(w)+b\n",
    "    cost = loss(h,y_train)\n",
    "    \n",
    "    cost.backward()\n",
    "    optim.step()\n",
    "    if epoch % 100 == 0:\n",
    "        print(cost.item())"
   ]
  },
  {
   "cell_type": "code",
   "execution_count": 9,
   "metadata": {
    "execution": {
     "iopub.execute_input": "2021-10-11T10:55:57.993972Z",
     "iopub.status.busy": "2021-10-11T10:55:57.993724Z",
     "iopub.status.idle": "2021-10-11T10:55:58.001432Z",
     "shell.execute_reply": "2021-10-11T10:55:58.000293Z",
     "shell.execute_reply.started": "2021-10-11T10:55:57.993936Z"
    }
   },
   "outputs": [],
   "source": [
    "# 학습에 관련없이 예측값 확인\n",
    "with torch.no_grad():\n",
    "    predict = x_test.matmul(w) + b\n",
    "submit['Expected'] = predict"
   ]
  },
  {
   "cell_type": "code",
   "execution_count": 10,
   "metadata": {
    "execution": {
     "iopub.execute_input": "2021-10-11T10:55:58.003646Z",
     "iopub.status.busy": "2021-10-11T10:55:58.003420Z",
     "iopub.status.idle": "2021-10-11T10:55:58.015723Z",
     "shell.execute_reply": "2021-10-11T10:55:58.014734Z",
     "shell.execute_reply.started": "2021-10-11T10:55:58.003622Z"
    }
   },
   "outputs": [],
   "source": [
    "submit.to_csv(\"submission.csv\",index=False)"
   ]
  },
  {
   "cell_type": "markdown",
   "metadata": {},
   "source": [
    "try \n",
    "1: lr = 1e-5 cost가 잘 감소하지 않음\n",
    "2: lr = 1e-3 cost가 감소함 -> eppch를 늘려서 테스트 해보니 2173509.0 정도에 고정됨 \n",
    "잘 학습되었다고 판단"
   ]
  },
  {
   "cell_type": "code",
   "execution_count": null,
   "metadata": {},
   "outputs": [],
   "source": []
  }
 ],
 "metadata": {
  "kernelspec": {
   "display_name": "Python 3",
   "language": "python",
   "name": "python3"
  },
  "language_info": {
   "codemirror_mode": {
    "name": "ipython",
    "version": 3
   },
   "file_extension": ".py",
   "mimetype": "text/x-python",
   "name": "python",
   "nbconvert_exporter": "python",
   "pygments_lexer": "ipython3",
   "version": "3.8.10"
  }
 },
 "nbformat": 4,
 "nbformat_minor": 4
}
