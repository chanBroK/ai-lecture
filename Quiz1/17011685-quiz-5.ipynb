{
 "cells": [
  {
   "cell_type": "code",
   "execution_count": 32,
   "metadata": {
    "_cell_guid": "b1076dfc-b9ad-4769-8c92-a6c4dae69d19",
    "_uuid": "8f2839f25d086af736a60e9eeb907d3b93b6e0e5",
    "execution": {
     "iopub.execute_input": "2021-10-11T11:47:44.938518Z",
     "iopub.status.busy": "2021-10-11T11:47:44.938220Z",
     "iopub.status.idle": "2021-10-11T11:47:44.950004Z",
     "shell.execute_reply": "2021-10-11T11:47:44.949010Z",
     "shell.execute_reply.started": "2021-10-11T11:47:44.938476Z"
    }
   },
   "outputs": [],
   "source": [
    "# This Python 3 environment comes with many helpful analytics libraries installed\n",
    "# It is defined by the kaggle/python Docker image: https://github.com/kaggle/docker-python\n",
    "# For example, here's several helpful packages to load\n",
    "\n",
    "import numpy as np # linear algebra\n",
    "import pandas as pd # data processing, CSV file I/O (e.g. pd.read_csv)\n",
    "\n",
    "# Input data files are available in the read-only \"../input/\" directory\n",
    "# For example, running this (by clicking run or pressing Shift+Enter) will list all files under the input directory\n",
    "\n",
    "import os\n",
    "for dirname, _, filenames in os.walk('/kaggle/input'):\n",
    "    for filename in filenames:\n",
    "        print(os.path.join(dirname, filename))\n",
    "\n",
    "# You can write up to 20GB to the current directory (/kaggle/working/) that gets preserved as output when you create a version using \"Save & Run All\" \n",
    "# You can also write temporary files to /kaggle/temp/, but they won't be saved outside of the current session"
   ]
  },
  {
   "cell_type": "code",
   "execution_count": 33,
   "metadata": {
    "execution": {
     "iopub.execute_input": "2021-10-11T11:47:44.951774Z",
     "iopub.status.busy": "2021-10-11T11:47:44.951533Z",
     "iopub.status.idle": "2021-10-11T11:47:44.958524Z",
     "shell.execute_reply": "2021-10-11T11:47:44.957876Z",
     "shell.execute_reply.started": "2021-10-11T11:47:44.951749Z"
    }
   },
   "outputs": [],
   "source": [
    "import torch\n",
    "import sklearn"
   ]
  },
  {
   "cell_type": "code",
   "execution_count": 34,
   "metadata": {
    "execution": {
     "iopub.execute_input": "2021-10-11T11:47:44.959838Z",
     "iopub.status.busy": "2021-10-11T11:47:44.959625Z",
     "iopub.status.idle": "2021-10-11T11:47:44.969423Z",
     "shell.execute_reply": "2021-10-11T11:47:44.968464Z",
     "shell.execute_reply.started": "2021-10-11T11:47:44.959817Z"
    }
   },
   "outputs": [],
   "source": [
    "# seed 고정\n",
    "torch.manual_seed(1)"
   ]
  },
  {
   "cell_type": "code",
   "execution_count": 35,
   "metadata": {
    "execution": {
     "iopub.execute_input": "2021-10-11T11:47:44.970704Z",
     "iopub.status.busy": "2021-10-11T11:47:44.970482Z",
     "iopub.status.idle": "2021-10-11T11:47:44.992930Z",
     "shell.execute_reply": "2021-10-11T11:47:44.992262Z",
     "shell.execute_reply.started": "2021-10-11T11:47:44.970682Z"
    }
   },
   "outputs": [],
   "source": [
    "# data load\n",
    "train = pd.read_csv(\"/kaggle/input/2021-ai-quiz1-p5/train.csv\")\n",
    "test = pd.read_csv(\"/kaggle/input/2021-ai-quiz1-p5/test.csv\")\n",
    "submit = pd.read_csv(\"/kaggle/input/2021-ai-quiz1-p5/submit_sample.csv\")"
   ]
  },
  {
   "cell_type": "code",
   "execution_count": 36,
   "metadata": {
    "execution": {
     "iopub.execute_input": "2021-10-11T11:47:44.996164Z",
     "iopub.status.busy": "2021-10-11T11:47:44.995984Z",
     "iopub.status.idle": "2021-10-11T11:47:45.038681Z",
     "shell.execute_reply": "2021-10-11T11:47:45.037568Z",
     "shell.execute_reply.started": "2021-10-11T11:47:44.996143Z"
    }
   },
   "outputs": [],
   "source": [
    "# 데이터 확인\n",
    "\n",
    "print(train)\n",
    "print(test)\n",
    "print(submit)"
   ]
  },
  {
   "cell_type": "code",
   "execution_count": 37,
   "metadata": {
    "execution": {
     "iopub.execute_input": "2021-10-11T11:47:45.041507Z",
     "iopub.status.busy": "2021-10-11T11:47:45.041231Z",
     "iopub.status.idle": "2021-10-11T11:47:45.063040Z",
     "shell.execute_reply": "2021-10-11T11:47:45.062074Z",
     "shell.execute_reply.started": "2021-10-11T11:47:45.041472Z"
    }
   },
   "outputs": [],
   "source": [
    "## data 전처리 및 텐서 올리기\n",
    "# 스케일 조정을 위한 Scaler\n",
    "\n",
    "from sklearn.preprocessing import StandardScaler\n",
    "scaler = StandardScaler()\n",
    "\n",
    "x_train = np.array(train.drop(['diagnosis'],axis=1))\n",
    "x_test = np.array(test)\n",
    "y_train = np.array(train['diagnosis'])\n",
    "\n",
    "# scale 조정\n",
    "scaler.fit(x_train)\n",
    "x_train = scaler.transform(x_train)\n",
    "x_test = scaler.transform(x_test)\n",
    "\n",
    "x_train = torch.Tensor(x_train).cuda()\n",
    "x_test = torch.Tensor(x_test).cuda()\n",
    "y_train = torch.Tensor(y_train).cuda()\n",
    "\n",
    "print(x_train.shape,y_train.shape)"
   ]
  },
  {
   "cell_type": "code",
   "execution_count": 38,
   "metadata": {
    "execution": {
     "iopub.execute_input": "2021-10-11T11:47:45.065878Z",
     "iopub.status.busy": "2021-10-11T11:47:45.065343Z",
     "iopub.status.idle": "2021-10-11T11:47:45.077286Z",
     "shell.execute_reply": "2021-10-11T11:47:45.076526Z",
     "shell.execute_reply.started": "2021-10-11T11:47:45.065845Z"
    }
   },
   "outputs": [],
   "source": [
    "# 학습 설정\n",
    "w = torch.zeros((30,1),requires_grad=True,device=\"cuda\")\n",
    "b = torch.zeros(1,requires_grad=True,device=\"cuda\")\n",
    "\n",
    "optim = torch.optim.SGD([w,b],lr = 1e-1)\n",
    "epochs= 2000\n",
    "# 이진 분류 문제 이므로 BCELoss 사용\n",
    "loss = torch.nn.BCELoss()"
   ]
  },
  {
   "cell_type": "code",
   "execution_count": 39,
   "metadata": {
    "execution": {
     "iopub.execute_input": "2021-10-11T11:47:45.082127Z",
     "iopub.status.busy": "2021-10-11T11:47:45.081853Z",
     "iopub.status.idle": "2021-10-11T11:47:46.363211Z",
     "shell.execute_reply": "2021-10-11T11:47:46.362487Z",
     "shell.execute_reply.started": "2021-10-11T11:47:45.082092Z"
    }
   },
   "outputs": [],
   "source": [
    "for epoch in range(epochs+1):\n",
    "    optim.zero_grad()\n",
    "    \n",
    "    h = torch.sigmoid(x_train.matmul(w)+b)\n",
    "    cost = loss(h,y_train.unsqueeze(1))\n",
    "    \n",
    "    cost.backward()\n",
    "    optim.step()\n",
    "    \n",
    "    if epoch % 100 == 0:\n",
    "        print(cost.item())"
   ]
  },
  {
   "cell_type": "code",
   "execution_count": 40,
   "metadata": {
    "execution": {
     "iopub.execute_input": "2021-10-11T11:47:46.364794Z",
     "iopub.status.busy": "2021-10-11T11:47:46.364551Z",
     "iopub.status.idle": "2021-10-11T11:47:46.471470Z",
     "shell.execute_reply": "2021-10-11T11:47:46.470489Z",
     "shell.execute_reply.started": "2021-10-11T11:47:46.364760Z"
    }
   },
   "outputs": [],
   "source": [
    "with torch.no_grad():\n",
    "    predict = torch.sigmoid(x_test.matmul(w) +b)\n",
    "    \n",
    "\n",
    "predict = predict >= torch.Tensor([0.5]).cuda()\n",
    "submit['diagnosis'] = predict.cpu().int().numpy()\n",
    "submit.to_csv(\"submission.csv\",index=False)\n",
    "print(submit)"
   ]
  },
  {
   "cell_type": "code",
   "execution_count": null,
   "metadata": {},
   "outputs": [],
   "source": []
  },
  {
   "cell_type": "markdown",
   "metadata": {},
   "source": [
    "# try \n",
    "# lr = 1e-4 에 epoch 1000 cost 가 무수히 감소함\n",
    "# lr = 1e-3 도 동일\n",
    "# lr = 1e-2 도 동일\n",
    "# lr = 1e-1 도 감소함 \n",
    "# epoch 2000 에서 0.03 정도의 코스트에 고정됨 "
   ]
  }
 ],
 "metadata": {
  "kernelspec": {
   "display_name": "Python 3",
   "language": "python",
   "name": "python3"
  },
  "language_info": {
   "codemirror_mode": {
    "name": "ipython",
    "version": 3
   },
   "file_extension": ".py",
   "mimetype": "text/x-python",
   "name": "python",
   "nbconvert_exporter": "python",
   "pygments_lexer": "ipython3",
   "version": "3.8.10"
  }
 },
 "nbformat": 4,
 "nbformat_minor": 4
}
