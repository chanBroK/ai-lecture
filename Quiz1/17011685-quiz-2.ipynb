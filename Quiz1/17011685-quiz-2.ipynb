{
 "cells": [
  {
   "cell_type": "code",
   "execution_count": 1,
   "metadata": {
    "_cell_guid": "b1076dfc-b9ad-4769-8c92-a6c4dae69d19",
    "_uuid": "8f2839f25d086af736a60e9eeb907d3b93b6e0e5",
    "execution": {
     "iopub.execute_input": "2021-10-11T10:59:06.237385Z",
     "iopub.status.busy": "2021-10-11T10:59:06.236688Z",
     "iopub.status.idle": "2021-10-11T10:59:06.353406Z",
     "shell.execute_reply": "2021-10-11T10:59:06.352184Z",
     "shell.execute_reply.started": "2021-10-11T10:59:06.237248Z"
    }
   },
   "outputs": [],
   "source": [
    "##### This Python 3 environment comes with many helpful analytics libraries installed\n",
    "# It is defined by the kaggle/python Docker image: https://github.com/kaggle/docker-python\n",
    "# For example, here's several helpful packages to load\n",
    "\n",
    "import numpy as np # linear algebra\n",
    "import pandas as pd # data processing, CSV file I/O (e.g. pd.read_csv)\n",
    "\n",
    "# Input data files are available in the read-only \"../input/\" directory\n",
    "# For example, running this (by clicking run or pressing Shift+Enter) will list all files under the input directory\n",
    "\n",
    "import os\n",
    "for dirname, _, filenames in os.walk('/kaggle/input'):\n",
    "    for filename in filenames:\n",
    "        print(os.path.join(dirname, filename))\n",
    "\n",
    "# You can write up to 20GB to the current directory (/kaggle/working/) that gets preserved as output when you create a version using \"Save & Run All\" \n",
    "# You can also write temporary files to /kaggle/temp/, but they won't be saved outside of the current session"
   ]
  },
  {
   "cell_type": "code",
   "execution_count": 5,
   "metadata": {
    "tags": []
   },
   "outputs": [],
   "source": [
    "import torch\n",
    "import sklearn"
   ]
  },
  {
   "cell_type": "code",
   "execution_count": 3,
   "metadata": {
    "execution": {
     "iopub.execute_input": "2021-10-11T10:59:12.081185Z",
     "iopub.status.busy": "2021-10-11T10:59:12.080763Z",
     "iopub.status.idle": "2021-10-11T10:59:12.095570Z",
     "shell.execute_reply": "2021-10-11T10:59:12.094445Z",
     "shell.execute_reply.started": "2021-10-11T10:59:12.081132Z"
    }
   },
   "outputs": [],
   "source": [
    "# seed 고정\n",
    "torch.manual_seed(1)"
   ]
  },
  {
   "cell_type": "code",
   "execution_count": 4,
   "metadata": {
    "execution": {
     "iopub.execute_input": "2021-10-11T10:59:12.099034Z",
     "iopub.status.busy": "2021-10-11T10:59:12.098703Z",
     "iopub.status.idle": "2021-10-11T10:59:12.128625Z",
     "shell.execute_reply": "2021-10-11T10:59:12.127669Z",
     "shell.execute_reply.started": "2021-10-11T10:59:12.098992Z"
    }
   },
   "outputs": [],
   "source": [
    "# data load\n",
    "train = pd.read_csv(\"/kaggle/input/2021-ai-quiz1-p2/train.csv\")\n",
    "test = pd.read_csv(\"/kaggle/input/2021-ai-quiz1-p2/test.csv\")\n",
    "submit = pd.read_csv(\"/kaggle/input/2021-ai-quiz1-p2/submit_sample.csv\")"
   ]
  },
  {
   "cell_type": "code",
   "execution_count": 5,
   "metadata": {
    "execution": {
     "iopub.execute_input": "2021-10-11T10:59:12.130646Z",
     "iopub.status.busy": "2021-10-11T10:59:12.130285Z",
     "iopub.status.idle": "2021-10-11T10:59:12.161675Z",
     "shell.execute_reply": "2021-10-11T10:59:12.160411Z",
     "shell.execute_reply.started": "2021-10-11T10:59:12.130602Z"
    }
   },
   "outputs": [],
   "source": [
    "# data 확인\n",
    "print(train.head())\n",
    "print(test.head())\n",
    "print(submit.head())"
   ]
  },
  {
   "cell_type": "code",
   "execution_count": 6,
   "metadata": {
    "execution": {
     "iopub.execute_input": "2021-10-11T10:59:12.164002Z",
     "iopub.status.busy": "2021-10-11T10:59:12.163625Z",
     "iopub.status.idle": "2021-10-11T10:59:18.695207Z",
     "shell.execute_reply": "2021-10-11T10:59:18.694206Z",
     "shell.execute_reply.started": "2021-10-11T10:59:12.163959Z"
    }
   },
   "outputs": [],
   "source": [
    "# data 전처리 및 텐서에 올리기\n",
    "# 데이터 전처리 를 위해(scale 조정)\n",
    "from sklearn.preprocessing import StandardScaler\n",
    "scaler = StandardScaler()\n",
    "\n",
    "x_train = np.array(train.drop(['0','8'],axis =1 ))\n",
    "y_train = np.array(train['8'])\n",
    "x_test = np.array(test.drop(['0','8'],axis=1))\n",
    "\n",
    "scaler.fit(x_train)\n",
    "x_train = scaler.transform(x_train)\n",
    "x_test = scaler.transform(x_test)\n",
    "\n",
    "x_train = torch.Tensor(x_train).cuda()\n",
    "x_test = torch.Tensor(x_test).cuda()\n",
    "y_train= torch.Tensor(y_train).unsqueeze(1).cuda()"
   ]
  },
  {
   "cell_type": "code",
   "execution_count": 7,
   "metadata": {
    "execution": {
     "iopub.execute_input": "2021-10-11T10:59:18.696990Z",
     "iopub.status.busy": "2021-10-11T10:59:18.696698Z",
     "iopub.status.idle": "2021-10-11T10:59:18.706281Z",
     "shell.execute_reply": "2021-10-11T10:59:18.702889Z",
     "shell.execute_reply.started": "2021-10-11T10:59:18.696951Z"
    }
   },
   "outputs": [],
   "source": [
    "# data 모양 확인\n",
    "print(x_train.shape,y_train.shape)"
   ]
  },
  {
   "cell_type": "code",
   "execution_count": 8,
   "metadata": {
    "execution": {
     "iopub.execute_input": "2021-10-11T10:59:18.709015Z",
     "iopub.status.busy": "2021-10-11T10:59:18.708677Z",
     "iopub.status.idle": "2021-10-11T10:59:18.721938Z",
     "shell.execute_reply": "2021-10-11T10:59:18.720893Z",
     "shell.execute_reply.started": "2021-10-11T10:59:18.708975Z"
    }
   },
   "outputs": [],
   "source": [
    "# 학습 세팅\n",
    "w = torch.zeros((8,1),requires_grad=True,device=\"cuda\")\n",
    "b = torch.zeros(1,requires_grad=True,device=\"cuda\")\n",
    "\n",
    "epochs = 1000\n",
    "optim = torch.optim.SGD([w,b],lr= 1e-2)\n",
    "loss = torch.nn.BCELoss()"
   ]
  },
  {
   "cell_type": "code",
   "execution_count": 9,
   "metadata": {
    "execution": {
     "iopub.execute_input": "2021-10-11T10:59:18.724239Z",
     "iopub.status.busy": "2021-10-11T10:59:18.723730Z",
     "iopub.status.idle": "2021-10-11T10:59:19.633896Z",
     "shell.execute_reply": "2021-10-11T10:59:19.632848Z",
     "shell.execute_reply.started": "2021-10-11T10:59:18.724195Z"
    }
   },
   "outputs": [],
   "source": [
    "# 학습 진행\n",
    "for epoch in range(epochs+1):\n",
    "    optim.zero_grad()\n",
    "    \n",
    "    h=torch.sigmoid(x_train.matmul(w)+b)\n",
    "    cost = loss(h,y_train)\n",
    "    \n",
    "    cost.backward()\n",
    "    optim.step()\n",
    "    \n",
    "    if epoch % 100 == 0:\n",
    "        print(cost.item())"
   ]
  },
  {
   "cell_type": "code",
   "execution_count": 10,
   "metadata": {
    "execution": {
     "iopub.execute_input": "2021-10-11T10:59:19.637859Z",
     "iopub.status.busy": "2021-10-11T10:59:19.636936Z",
     "iopub.status.idle": "2021-10-11T10:59:19.649905Z",
     "shell.execute_reply": "2021-10-11T10:59:19.648881Z",
     "shell.execute_reply.started": "2021-10-11T10:59:19.637816Z"
    }
   },
   "outputs": [],
   "source": [
    "# 데이터 예측\n",
    "with torch.no_grad():\n",
    "    predict = torch.sigmoid(x_test.matmul(w)+b)\n",
    "# sigmoid를 통과한 예측값이 .5  보다 크면 1, 작으면 0을 위해 T/F로 변환\n",
    "predict = predict >= torch.Tensor([0.5]).cuda()\n",
    "# T/F를 int 변환 T->1 F->0\n",
    "predict = predict.int()\n"
   ]
  },
  {
   "cell_type": "code",
   "execution_count": 11,
   "metadata": {
    "execution": {
     "iopub.execute_input": "2021-10-11T10:59:19.652502Z",
     "iopub.status.busy": "2021-10-11T10:59:19.651671Z",
     "iopub.status.idle": "2021-10-11T10:59:19.665245Z",
     "shell.execute_reply": "2021-10-11T10:59:19.664097Z",
     "shell.execute_reply.started": "2021-10-11T10:59:19.652448Z"
    }
   },
   "outputs": [],
   "source": [
    "submit['Label'] = predict.cpu().numpy()\n",
    "submit.to_csv(\"submission.csv\",index=False)\n"
   ]
  },
  {
   "cell_type": "markdown",
   "metadata": {
    "execution": {
     "iopub.execute_input": "2021-10-11T10:31:28.956193Z",
     "iopub.status.busy": "2021-10-11T10:31:28.955832Z",
     "iopub.status.idle": "2021-10-11T10:31:28.962443Z",
     "shell.execute_reply": "2021-10-11T10:31:28.961702Z",
     "shell.execute_reply.started": "2021-10-11T10:31:28.956158Z"
    }
   },
   "source": [
    "# try\n",
    "# lr 1e-4 : 0.6 부근에서 cost가 줄어들지 않음\n",
    "# lr 1e-3 : cost가 위의 경우보다는 감소하였으나 계속 감소할 것 같음\n",
    "# lr 1e-2 : cost가 나름 감소를 멈춰감 -> epoch를 5000으로 늘려보다 0.48쯤에 고정됨"
   ]
  }
 ],
 "metadata": {
  "kernelspec": {
   "display_name": "Python 3",
   "language": "python",
   "name": "python3"
  },
  "language_info": {
   "codemirror_mode": {
    "name": "ipython",
    "version": 3
   },
   "file_extension": ".py",
   "mimetype": "text/x-python",
   "name": "python",
   "nbconvert_exporter": "python",
   "pygments_lexer": "ipython3",
   "version": "3.8.10"
  }
 },
 "nbformat": 4,
 "nbformat_minor": 4
}
