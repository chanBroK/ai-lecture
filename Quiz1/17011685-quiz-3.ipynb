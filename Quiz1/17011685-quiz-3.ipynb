{
 "cells": [
  {
   "cell_type": "code",
   "execution_count": 71,
   "metadata": {
    "_cell_guid": "b1076dfc-b9ad-4769-8c92-a6c4dae69d19",
    "_uuid": "8f2839f25d086af736a60e9eeb907d3b93b6e0e5",
    "execution": {
     "iopub.execute_input": "2021-10-11T11:13:25.616132Z",
     "iopub.status.busy": "2021-10-11T11:13:25.615861Z",
     "iopub.status.idle": "2021-10-11T11:13:25.627512Z",
     "shell.execute_reply": "2021-10-11T11:13:25.626638Z",
     "shell.execute_reply.started": "2021-10-11T11:13:25.616103Z"
    }
   },
   "outputs": [],
   "source": [
    "# This Python 3 environment comes with many helpful analytics libraries installed\n",
    "# It is defined by the kaggle/python Docker image: https://github.com/kaggle/docker-python\n",
    "# For example, here's several helpful packages to load\n",
    "\n",
    "import numpy as np # linear algebra\n",
    "import pandas as pd # data processing, CSV file I/O (e.g. pd.read_csv)\n",
    "\n",
    "# Input data files are available in the read-only \"../input/\" directory\n",
    "# For example, running this (by clicking run or pressing Shift+Enter) will list all files under the input directory\n",
    "\n",
    "import os\n",
    "for dirname, _, filenames in os.walk('/kaggle/input'):\n",
    "    for filename in filenames:\n",
    "        print(os.path.join(dirname, filename))\n",
    "\n",
    "# You can write up to 20GB to the current directory (/kaggle/working/) that gets preserved as output when you create a version using \"Save & Run All\" \n",
    "# You can also write temporary files to /kaggle/temp/, but they won't be saved outside of the current session"
   ]
  },
  {
   "cell_type": "code",
   "execution_count": 72,
   "metadata": {
    "execution": {
     "iopub.execute_input": "2021-10-11T11:13:25.630777Z",
     "iopub.status.busy": "2021-10-11T11:13:25.629962Z",
     "iopub.status.idle": "2021-10-11T11:13:25.635962Z",
     "shell.execute_reply": "2021-10-11T11:13:25.635101Z",
     "shell.execute_reply.started": "2021-10-11T11:13:25.630744Z"
    }
   },
   "outputs": [],
   "source": [
    "import torch\n",
    "import sklearn"
   ]
  },
  {
   "cell_type": "code",
   "execution_count": 73,
   "metadata": {
    "execution": {
     "iopub.execute_input": "2021-10-11T11:13:25.638005Z",
     "iopub.status.busy": "2021-10-11T11:13:25.637442Z",
     "iopub.status.idle": "2021-10-11T11:13:25.646055Z",
     "shell.execute_reply": "2021-10-11T11:13:25.645333Z",
     "shell.execute_reply.started": "2021-10-11T11:13:25.637972Z"
    }
   },
   "outputs": [],
   "source": [
    "# seed 고정\n",
    "torch.manual_seed(1)"
   ]
  },
  {
   "cell_type": "code",
   "execution_count": 74,
   "metadata": {
    "execution": {
     "iopub.execute_input": "2021-10-11T11:13:25.647769Z",
     "iopub.status.busy": "2021-10-11T11:13:25.647283Z",
     "iopub.status.idle": "2021-10-11T11:13:25.710372Z",
     "shell.execute_reply": "2021-10-11T11:13:25.709579Z",
     "shell.execute_reply.started": "2021-10-11T11:13:25.647738Z"
    }
   },
   "outputs": [],
   "source": [
    "# data load\n",
    "train = pd.read_csv(\"/kaggle/input/2021-ai-quiz1-p3/train.csv\")\n",
    "test = pd.read_csv(\"/kaggle/input/2021-ai-quiz1-p3/test.csv\")\n",
    "submit = pd.read_csv(\"/kaggle/input/2021-ai-quiz1-p3/submit_sample.csv\")"
   ]
  },
  {
   "cell_type": "code",
   "execution_count": 75,
   "metadata": {
    "execution": {
     "iopub.execute_input": "2021-10-11T11:13:25.712336Z",
     "iopub.status.busy": "2021-10-11T11:13:25.712136Z",
     "iopub.status.idle": "2021-10-11T11:13:25.737703Z",
     "shell.execute_reply": "2021-10-11T11:13:25.736736Z",
     "shell.execute_reply.started": "2021-10-11T11:13:25.712311Z"
    }
   },
   "outputs": [],
   "source": [
    "# data 확인\n",
    "print(train.head())\n",
    "print(test.head())\n",
    "print(submit.head())"
   ]
  },
  {
   "cell_type": "code",
   "execution_count": 76,
   "metadata": {
    "execution": {
     "iopub.execute_input": "2021-10-11T11:13:25.739864Z",
     "iopub.status.busy": "2021-10-11T11:13:25.739415Z",
     "iopub.status.idle": "2021-10-11T11:13:25.753496Z",
     "shell.execute_reply": "2021-10-11T11:13:25.752609Z",
     "shell.execute_reply.started": "2021-10-11T11:13:25.739828Z"
    }
   },
   "outputs": [],
   "source": [
    "# 데이터 전처리 및 텐서 올리기\n",
    "# 필요없는 컬럼 삭제\n",
    "x_train = np.array(train.drop(['0','0.1'],axis=1))\n",
    "x_test =np.array(test.drop(['0'],axis=1))\n",
    "y_train = np.array(train['0.1'])\n",
    "\n",
    "\n",
    "# 분류 category를 위한 인코딩(라벨 인코딩)\n",
    "from sklearn.preprocessing import LabelEncoder\n",
    "le = LabelEncoder()\n",
    "le.fit(y_train)\n",
    "y_train = le.transform(y_train)\n",
    "\n",
    "x_train = torch.Tensor(x_train).cuda()\n",
    "x_test = torch.Tensor(x_test).cuda()\n",
    "y_train = torch.LongTensor(y_train).cuda()"
   ]
  },
  {
   "cell_type": "code",
   "execution_count": 77,
   "metadata": {
    "execution": {
     "iopub.execute_input": "2021-10-11T11:13:25.755461Z",
     "iopub.status.busy": "2021-10-11T11:13:25.755002Z",
     "iopub.status.idle": "2021-10-11T11:13:25.760195Z",
     "shell.execute_reply": "2021-10-11T11:13:25.759280Z",
     "shell.execute_reply.started": "2021-10-11T11:13:25.755427Z"
    }
   },
   "outputs": [],
   "source": [
    "# data 모양 확인\n",
    "print(x_train.shape,y_train.shape)"
   ]
  },
  {
   "cell_type": "code",
   "execution_count": 83,
   "metadata": {
    "execution": {
     "iopub.execute_input": "2021-10-11T11:13:55.997614Z",
     "iopub.status.busy": "2021-10-11T11:13:55.997064Z",
     "iopub.status.idle": "2021-10-11T11:13:56.003660Z",
     "shell.execute_reply": "2021-10-11T11:13:56.002426Z",
     "shell.execute_reply.started": "2021-10-11T11:13:55.997563Z"
    }
   },
   "outputs": [],
   "source": [
    "# 학습 설정\n",
    "epochs = 100000\n",
    "w = torch.zeros((150,len(le.classes_)),requires_grad=True,device=\"cuda\")\n",
    "b = torch.zeros(1,requires_grad=True,device=\"cuda\")\n",
    "optim = torch.optim.SGD([w,b],lr=2e-5)\n",
    "# 여러개의 클라스 분류 문제 이므로 cross Entropy 사용\n",
    "loss = torch.nn.CrossEntropyLoss()"
   ]
  },
  {
   "cell_type": "code",
   "execution_count": 84,
   "metadata": {
    "execution": {
     "iopub.execute_input": "2021-10-11T11:13:56.160634Z",
     "iopub.status.busy": "2021-10-11T11:13:56.160416Z",
     "iopub.status.idle": "2021-10-11T11:14:49.079363Z",
     "shell.execute_reply": "2021-10-11T11:14:49.078689Z",
     "shell.execute_reply.started": "2021-10-11T11:13:56.160605Z"
    }
   },
   "outputs": [],
   "source": [
    "# 학습\n",
    "for epoch in range(epochs + 1):\n",
    "    optim.zero_grad()\n",
    "    \n",
    "    h = x_train.matmul(w)+b\n",
    "    cost = loss(h,y_train)\n",
    "    \n",
    "    cost.backward()\n",
    "    optim.step()\n",
    "    if epoch % 10000 == 0:\n",
    "        print(cost.item())"
   ]
  },
  {
   "cell_type": "code",
   "execution_count": 80,
   "metadata": {
    "execution": {
     "iopub.execute_input": "2021-10-11T11:13:31.342461Z",
     "iopub.status.busy": "2021-10-11T11:13:31.342050Z",
     "iopub.status.idle": "2021-10-11T11:13:31.354854Z",
     "shell.execute_reply": "2021-10-11T11:13:31.354025Z",
     "shell.execute_reply.started": "2021-10-11T11:13:31.342424Z"
    }
   },
   "outputs": [],
   "source": [
    "with torch.no_grad():\n",
    "    predict = torch.softmax(x_test.matmul(w)+b,dim=1)\n",
    "    predict = torch.argmax(predict,dim=1)\n",
    "predict = le.inverse_transform(predict.cpu())\n",
    "submit['Category'] = predict\n",
    "print(submit)\n",
    "submit.to_csv(\"submission.csv\",index=False)"
   ]
  },
  {
   "cell_type": "markdown",
   "metadata": {},
   "source": [
    "# try \n",
    "# y_train의 차원 설정을 1로해서 cross entropy에서 오류 발생\n",
    "# lr = 1e-4 는 cost가 진동함 \n",
    "# lr = 1e-3 도 진동함 -> 러닝 레이트가 너무 크다!\n",
    "# lr = 1e-5 에서 1.7 정도로 고정되는 것이 확인 된다. -> 리더보드에서 정확도가 제대로 나오지 않음\n",
    "# lr = 2e-5 And Epoch = 100000 -> 에포크 증가 및 러닝레이트 살짝 증가"
   ]
  }
 ],
 "metadata": {
  "kernelspec": {
   "display_name": "Python 3",
   "language": "python",
   "name": "python3"
  },
  "language_info": {
   "codemirror_mode": {
    "name": "ipython",
    "version": 3
   },
   "file_extension": ".py",
   "mimetype": "text/x-python",
   "name": "python",
   "nbconvert_exporter": "python",
   "pygments_lexer": "ipython3",
   "version": "3.8.10"
  }
 },
 "nbformat": 4,
 "nbformat_minor": 4
}
