{
 "cells": [
  {
   "cell_type": "code",
   "execution_count": 15,
   "id": "a008d83c-0957-4371-8462-ef9015d81579",
   "metadata": {},
   "outputs": [],
   "source": [
    "import numpy as np\n",
    "import pandas as pd"
   ]
  },
  {
   "cell_type": "code",
   "execution_count": 16,
   "id": "702ca7cf-fa5d-4cb1-8341-adeb0f771064",
   "metadata": {},
   "outputs": [
    {
     "data": {
      "text/plain": [
       "<torch._C.Generator at 0x2588299b2b0>"
      ]
     },
     "execution_count": 16,
     "metadata": {},
     "output_type": "execute_result"
    }
   ],
   "source": [
    "import torch\n",
    "from sklearn import preprocessing\n",
    "torch.manual_seed(1)"
   ]
  },
  {
   "cell_type": "code",
   "execution_count": 17,
   "id": "c831a2e5-d4be-40a4-a3b3-4c820b7f1204",
   "metadata": {},
   "outputs": [
    {
     "name": "stdout",
     "output_type": "stream",
     "text": [
      "   label  1x1  1x2  1x3  1x4  1x5  1x6  1x7  1x8  1x9  ...  28x19  28x20  \\\n",
      "0      5    0    0    0    0    0    0    0    0    0  ...      0      0   \n",
      "1      0    0    0    0    0    0    0    0    0    0  ...      0      0   \n",
      "2      3    0    0    0    0    0    0    0    0    0  ...      0      0   \n",
      "3      3    0    0    0    0    0    0    0    0    0  ...      0      0   \n",
      "4      6    0    0    0    0    0    0    0    0    0  ...      0      0   \n",
      "\n",
      "   28x21  28x22  28x23  28x24  28x25  28x26  28x27  28x28  \n",
      "0      0      0      0      0      0      0      0      0  \n",
      "1      0      0      0      0      0      0      0      0  \n",
      "2      0      0      0      0      0      0      0      0  \n",
      "3      0      0      0      0      0      0      0      0  \n",
      "4      0      0      0      0      0      0      0      0  \n",
      "\n",
      "[5 rows x 785 columns]\n",
      "   1x1  1x2  1x3  1x4  1x5  1x6  1x7  1x8  1x9  1x10  ...  28x19  28x20  \\\n",
      "0    0    0    0    0    0    0    0    0    0     0  ...      0      0   \n",
      "1    0    0    0    0    0    0    0    0    0     0  ...      0      0   \n",
      "2    0    0    0    0    0    0    0    0    0     0  ...      0      0   \n",
      "3    0    0    0    0    0    0    0    0    0     0  ...      0      0   \n",
      "4    0    0    0    0    0    0    0    0    0     0  ...      0      0   \n",
      "\n",
      "   28x21  28x22  28x23  28x24  28x25  28x26  28x27  28x28  \n",
      "0      0      0      0      0      0      0      0      0  \n",
      "1      0      0      0      0      0      0      0      0  \n",
      "2      0      0      0      0      0      0      0      0  \n",
      "3      0      0      0      0      0      0      0      0  \n",
      "4      0      0      0      0      0      0      0      0  \n",
      "\n",
      "[5 rows x 784 columns]\n",
      "   id  label\n",
      "0   1    NaN\n",
      "1   2    NaN\n",
      "2   3    NaN\n",
      "3   4    NaN\n",
      "4   5    NaN\n"
     ]
    }
   ],
   "source": [
    "train_df = pd.read_csv(\"./MNIST손글씨분류_data/train.csv\")\n",
    "test_df = pd.read_csv(\"./MNIST손글씨분류_data/test.csv\")\n",
    "submit_df = pd.read_csv(\"./MNIST손글씨분류_data/sample_submit.csv\")\n",
    "print(train_df.head())\n",
    "print(test_df.head())\n",
    "print(submit_df.head())"
   ]
  },
  {
   "cell_type": "code",
   "execution_count": 21,
   "id": "188576a9-7542-48f8-9a9e-b620ebf609fb",
   "metadata": {},
   "outputs": [
    {
     "name": "stdout",
     "output_type": "stream",
     "text": [
      "torch.Size([60000])\n",
      "torch.Size([60000, 784])\n"
     ]
    }
   ],
   "source": [
    "y_train = torch.LongTensor(train_df['label'])\n",
    "x_train = torch.FloatTensor(train_df.drop(['label'],axis=1).to_numpy())\n",
    "print(y_train.shape)\n",
    "print(x_train.shape)"
   ]
  },
  {
   "cell_type": "code",
   "execution_count": 22,
   "id": "2cd6d622-8b23-4c34-984f-ff8f520fd8ed",
   "metadata": {},
   "outputs": [
    {
     "name": "stdout",
     "output_type": "stream",
     "text": [
      "Epoch    0/1000 Cost: -2.302585\n",
      "Epoch  100/1000 Cost: -2.449378\n",
      "Epoch  200/1000 Cost: -2.453475\n",
      "Epoch  300/1000 Cost: -2.454796\n",
      "Epoch  400/1000 Cost: -2.455494\n",
      "Epoch  500/1000 Cost: -2.455941\n",
      "Epoch  600/1000 Cost: -2.456259\n",
      "Epoch  700/1000 Cost: -2.456501\n",
      "Epoch  800/1000 Cost: -2.456693\n",
      "Epoch  900/1000 Cost: -2.456851\n",
      "Epoch 1000/1000 Cost: -2.456984\n"
     ]
    }
   ],
   "source": [
    "class_num = 10\n",
    "\n",
    "w = torch.zeros((784,class_num),requires_grad = True)\n",
    "b = torch.zeros(1,requires_grad=True)\n",
    "\n",
    "optimizer = torch.optim.SGD([w,b],lr=1e-5)\n",
    "\n",
    "epochs = 1000\n",
    "\n",
    "for epoch in range(epochs + 1):\n",
    "    hypothesis = torch.nn.functional.softmax(x_train.matmul(w)+b,dim=1)\n",
    "    y_one_hot = torch.zeros(len(y_train),class_num)\n",
    "    y_one_hot.scatter_(1,y_train.unsqueeze(1),1)\n",
    "    cost = (y_one_hot * torch.log(torch.nn.functional.softmax(hypothesis,dim=1))).sum(dim=1).mean()\n",
    "    \n",
    "    \n",
    "    optimizer.zero_grad()\n",
    "    cost.backward()\n",
    "    optimizer.step()\n",
    "    \n",
    "    if(epoch % 100 == 0):\n",
    "        print('Epoch {:4d}/{} Cost: {:.6f}'.format(\n",
    "            epoch, epochs, cost.item()\n",
    "        ))"
   ]
  },
  {
   "cell_type": "code",
   "execution_count": 25,
   "id": "8301852d-09d7-4b9c-bff2-0980a901ec6d",
   "metadata": {},
   "outputs": [
    {
     "name": "stdout",
     "output_type": "stream",
     "text": [
      "tensor([[8.1475e-01, 1.8501e-01, 2.6809e-05,  ..., 2.5180e-05, 2.2281e-05,\n",
      "         3.4305e-05],\n",
      "        [1.7191e-06, 9.9999e-01, 8.4493e-07,  ..., 7.0332e-07, 5.7109e-07,\n",
      "         6.8410e-07],\n",
      "        [1.5310e-03, 9.9845e-01, 2.7047e-06,  ..., 3.6998e-06, 2.1613e-06,\n",
      "         3.1009e-06],\n",
      "        ...,\n",
      "        [4.1461e-02, 9.5842e-01, 2.4041e-05,  ..., 8.7910e-06, 1.3191e-05,\n",
      "         9.8254e-06],\n",
      "        [2.0523e-07, 1.0000e+00, 1.8875e-07,  ..., 3.0944e-07, 3.0007e-07,\n",
      "         2.9082e-07],\n",
      "        [1.5918e-03, 9.9818e-01, 3.1776e-05,  ..., 4.6183e-05, 2.3135e-05,\n",
      "         2.8768e-05]], grad_fn=<SoftmaxBackward>)\n",
      "tensor([0, 1, 1,  ..., 1, 1, 1])\n",
      "tensor([5, 0, 3,  ..., 9, 4, 6])\n",
      "tensor([False, False, False,  ..., False, False, False])\n",
      "The model has an accuracy of 0.14% for the training set.\n"
     ]
    }
   ],
   "source": [
    "# 학습된 W,b를 통한 클래스 예측\n",
    "hypothesis = torch.nn.functional.softmax(x_train.matmul(w) + b, dim=1) # or .mm or @\n",
    "#argmax -> 리스트 중 제일 큰 값의 인덱스로 변환 \n",
    "predict = torch.argmax(hypothesis, dim=1)\n",
    "print(hypothesis)\n",
    "print(predict)\n",
    "print(y_train)\n",
    "# 정확도 계산 \n",
    "correct_prediction = predict.float() == y_train\n",
    "print(correct_prediction)\n",
    "accuracy = correct_prediction.sum().item() / len(correct_prediction)\n",
    "print('The model has an accuracy of {:2.2f}% for the training set.'.format(accuracy * 100))"
   ]
  },
  {
   "cell_type": "code",
   "execution_count": 26,
   "id": "6cdba669-384a-4f3f-8953-77ec48bcac49",
   "metadata": {},
   "outputs": [],
   "source": [
    "x_test = torch.FloatTensor(test_df.to_numpy())"
   ]
  },
  {
   "cell_type": "code",
   "execution_count": 28,
   "id": "1c76b186-aca3-43da-814f-3c948ad711f4",
   "metadata": {},
   "outputs": [],
   "source": [
    "hypothesis = torch.nn.functional.softmax(x_test.matmul(w) + b, dim=1) # or .mm or @\n",
    "#argmax -> 리스트 중 제일 큰 값의 인덱스로 변환 \n",
    "predict = torch.argmax(hypothesis, dim=1)"
   ]
  },
  {
   "cell_type": "code",
   "execution_count": 29,
   "id": "773974e8-4672-45be-9aea-0ffd4e4daf0b",
   "metadata": {},
   "outputs": [
    {
     "data": {
      "text/html": [
       "<div>\n",
       "<style scoped>\n",
       "    .dataframe tbody tr th:only-of-type {\n",
       "        vertical-align: middle;\n",
       "    }\n",
       "\n",
       "    .dataframe tbody tr th {\n",
       "        vertical-align: top;\n",
       "    }\n",
       "\n",
       "    .dataframe thead th {\n",
       "        text-align: right;\n",
       "    }\n",
       "</style>\n",
       "<table border=\"1\" class=\"dataframe\">\n",
       "  <thead>\n",
       "    <tr style=\"text-align: right;\">\n",
       "      <th></th>\n",
       "      <th>id</th>\n",
       "      <th>label</th>\n",
       "    </tr>\n",
       "  </thead>\n",
       "  <tbody>\n",
       "    <tr>\n",
       "      <th>0</th>\n",
       "      <td>1</td>\n",
       "      <td>1</td>\n",
       "    </tr>\n",
       "    <tr>\n",
       "      <th>1</th>\n",
       "      <td>2</td>\n",
       "      <td>0</td>\n",
       "    </tr>\n",
       "    <tr>\n",
       "      <th>2</th>\n",
       "      <td>3</td>\n",
       "      <td>1</td>\n",
       "    </tr>\n",
       "    <tr>\n",
       "      <th>3</th>\n",
       "      <td>4</td>\n",
       "      <td>1</td>\n",
       "    </tr>\n",
       "    <tr>\n",
       "      <th>4</th>\n",
       "      <td>5</td>\n",
       "      <td>1</td>\n",
       "    </tr>\n",
       "  </tbody>\n",
       "</table>\n",
       "</div>"
      ],
      "text/plain": [
       "   id  label\n",
       "0   1      1\n",
       "1   2      0\n",
       "2   3      1\n",
       "3   4      1\n",
       "4   5      1"
      ]
     },
     "execution_count": 29,
     "metadata": {},
     "output_type": "execute_result"
    }
   ],
   "source": [
    "submit_df['label'] = predict\n",
    "submit_df.head()"
   ]
  },
  {
   "cell_type": "code",
   "execution_count": 30,
   "id": "640a0ba3-eac3-4d17-851e-591331fa443c",
   "metadata": {},
   "outputs": [],
   "source": [
    "submit_df.to_csv(\"./MNIST손글씨분류_data/submission.csv\")"
   ]
  },
  {
   "cell_type": "code",
   "execution_count": null,
   "id": "ff9ae6c0-2827-4686-976c-7b1311c0352c",
   "metadata": {},
   "outputs": [],
   "source": []
  }
 ],
 "metadata": {
  "kernelspec": {
   "display_name": "Python 3 (ipykernel)",
   "language": "python",
   "name": "python3"
  },
  "language_info": {
   "codemirror_mode": {
    "name": "ipython",
    "version": 3
   },
   "file_extension": ".py",
   "mimetype": "text/x-python",
   "name": "python",
   "nbconvert_exporter": "python",
   "pygments_lexer": "ipython3",
   "version": "3.9.6"
  }
 },
 "nbformat": 4,
 "nbformat_minor": 5
}
