{
 "cells": [
  {
   "cell_type": "code",
   "execution_count": 1,
   "metadata": {},
   "outputs": [],
   "source": [
    "import numpy as np\n",
    "import pandas as pd"
   ]
  },
  {
   "cell_type": "code",
   "execution_count": null,
   "metadata": {},
   "outputs": [],
   "source": [
    "# try : score\n",
    "#1 ## lr = 1e-3 : 0.66- \n",
    "#2 ## lr = 1e-4 : 0.68-\n",
    "#3 ## 2 + remove SkinThickness column : 7.09-\n",
    "#4 ## 3 + DiabetesPedigreeFunction * 100 : 6.88-\n",
    "#5 ## 4 + Pregnancies * 10 : 0.722-\n",
    "#6 ## 5 + reduce epochs to 5000 : 0.722-\n",
    "#7 ## 6 + remove Glucose column : 0.67-\n",
    "#8 ## 6 + lr = 1e-2 : 0.53-\n",
    "#9 ## 6 + increase epochs to 100000 : 0.72-\n",
    "#10## all col + increase epochs to 100000 : 0.71-\n",
    "#11## original col + increase epochs to 1000000 : \n"
   ]
  },
  {
   "cell_type": "code",
   "execution_count": 2,
   "metadata": {
    "colab": {
     "base_uri": "https://localhost:8080/",
     "height": 170
    },
    "id": "H_EjH3ZIqw5r",
    "outputId": "9e76f84b-574f-4d87-9235-a23e94d5cbe9"
   },
   "outputs": [
    {
     "data": {
      "text/plain": [
       "<torch._C.Generator at 0x19c5ee50290>"
      ]
     },
     "execution_count": 2,
     "metadata": {},
     "output_type": "execute_result"
    }
   ],
   "source": [
    "import torch\n",
    "import torch.optim as optim\n",
    "# For reproducibility\n",
    "torch.manual_seed(4)"
   ]
  },
  {
   "cell_type": "code",
   "execution_count": 4,
   "metadata": {
    "colab": {
     "base_uri": "https://localhost:8080/",
     "height": 51
    },
    "id": "c8R8WMJiYbTj",
    "outputId": "0fe3464a-699d-4bf4-c62b-99778d852349"
   },
   "outputs": [
    {
     "name": "stdout",
     "output_type": "stream",
     "text": [
      "   Pregnancies  Glucose  BloodPressure  SkinThickness  Insulin   BMI  \\\n",
      "0            1       95             60             18       58  23.9   \n",
      "1            5      105             72             29      325  36.9   \n",
      "2            0      135             68             42      250  42.3   \n",
      "3            4      131             68             21      166  33.1   \n",
      "4            1      103             30             38       83  43.3   \n",
      "\n",
      "   DiabetesPedigreeFunction  Age  Diabetes  \n",
      "0                     0.260   22         0  \n",
      "1                     0.159   28         0  \n",
      "2                     0.365   24         1  \n",
      "3                     0.160   28         0  \n",
      "4                     0.183   33         0  \n",
      "   Pregnancies  Glucose  BloodPressure  SkinThickness  Insulin   BMI  \\\n",
      "0            6       98             58             33      190  34.0   \n",
      "1            2      112             75             32        0  35.7   \n",
      "2            2      108             64              0        0  30.8   \n",
      "3            8      107             80              0        0  24.6   \n",
      "4            7      136             90              0        0  29.9   \n",
      "\n",
      "   DiabetesPedigreeFunction  Age  \n",
      "0                     0.430   43  \n",
      "1                     0.148   21  \n",
      "2                     0.158   21  \n",
      "3                     0.856   34  \n",
      "4                     0.210   50  \n",
      "   ID  Diabetes\n",
      "0   0         0\n",
      "1   1         0\n",
      "2   2         0\n",
      "3   3         0\n",
      "4   4         0\n"
     ]
    }
   ],
   "source": [
    "train_df = pd.read_csv(\"./당뇨병예측하기_data/train.csv\")\n",
    "test_df = pd.read_csv(\"./당뇨병예측하기_data/test.csv\")\n",
    "submit_df = pd.read_csv(\"./당뇨병예측하기_data/submit.csv\")\n",
    "print(train_df.head())\n",
    "print(test_df.head())\n",
    "print(submit_df.head())"
   ]
  },
  {
   "cell_type": "code",
   "execution_count": 25,
   "metadata": {},
   "outputs": [
    {
     "name": "stdout",
     "output_type": "stream",
     "text": [
      "torch.Size([537, 8])\n",
      "torch.Size([537, 1])\n"
     ]
    }
   ],
   "source": [
    "x_train = np.array([train_df['Pregnancies'],train_df['Glucose'],train_df['BloodPressure'],train_df['SkinThickness'],train_df['Insulin'],train_df['BMI'],train_df['DiabetesPedigreeFunction'],train_df['Age']])\n",
    "# x_train = np.array([train_df['Pregnancies']*10,train_df['Glucose'],train_df['BloodPressure'],train_df['Insulin'],train_df['BMI'],train_df['DiabetesPedigreeFunction']*100,train_df['Age']])\n",
    "x_train = x_train.T\n",
    "x_train = torch.FloatTensor(x_train)\n",
    "y_train = torch.FloatTensor(train_df['Diabetes'])\n",
    "print(x_train.shape)\n",
    "print(y_train.shape)"
   ]
  },
  {
   "cell_type": "code",
   "execution_count": 49,
   "metadata": {
    "colab": {
     "base_uri": "https://localhost:8080/",
     "height": 204
    },
    "id": "Ni7cMG2FrEa8",
    "outputId": "ee7a1961-7995-44fa-ec13-4cc530282a1d"
   },
   "outputs": [
    {
     "name": "stdout",
     "output_type": "stream",
     "text": [
      "Epoch    0/10000 Cost: 0.693147\n",
      "Epoch 1000/10000 Cost: 0.622137\n",
      "Epoch 2000/10000 Cost: 0.620818\n",
      "Epoch 3000/10000 Cost: 0.619854\n",
      "Epoch 4000/10000 Cost: 0.619112\n",
      "Epoch 5000/10000 Cost: 0.618530\n",
      "Epoch 6000/10000 Cost: 0.618065\n",
      "Epoch 7000/10000 Cost: 0.617684\n",
      "Epoch 8000/10000 Cost: 0.617364\n",
      "Epoch 9000/10000 Cost: 0.617089\n",
      "Epoch 10000/10000 Cost: 0.616846\n"
     ]
    }
   ],
   "source": [
    "# 모델 초기화\n",
    "W = torch.zeros((8, 1), requires_grad=True)\n",
    "b = torch.zeros(1, requires_grad=True)\n",
    "\n",
    "\n",
    "# Loss Function\n",
    "loss = torch.nn.BCELoss()\n",
    "# optimizer 설정\n",
    "# optimizer = optim.SGD([W, b], lr=1e-3) \n",
    "optimizer = optim.SGD([W, b], lr=1e-4) \n",
    "\n",
    "\n",
    "nb_epochs = 1000000\n",
    "for epoch in range(nb_epochs + 1):\n",
    "\n",
    "    # Cost 계산\n",
    "    ## use torch.sigmoid instead torch.nn.functional.sigmoid \n",
    "    hypothesis = torch.sigmoid(x_train.matmul(W) + b) # or .mm or @\n",
    "    cost = loss(hypothesis,y_train.unsqueeze(1))\n",
    "#     cost = -(y_train * torch.log(hypothesis) + \n",
    "#              (1 - y_train) * torch.log(1 - hypothesis)).mean()\n",
    "\n",
    "    # cost로 H(x) 개선\n",
    "    optimizer.zero_grad()\n",
    "    cost.backward()\n",
    "    ## cost를 개선한다는 의미\n",
    "    optimizer.step()\n",
    "    ## W를 갱신 \n",
    "\n",
    "    # 100번마다 로그 출력\n",
    "    if epoch % 10000 == 0:\n",
    "        print('Epoch {:4d}/{} Cost: {:.6f}'.format(\n",
    "            epoch, nb_epochs, cost.item()\n",
    "        ))\n"
   ]
  },
  {
   "cell_type": "code",
   "execution_count": 50,
   "metadata": {
    "colab": {
     "base_uri": "https://localhost:8080/",
     "height": 119
    },
    "id": "UfzjjvUiwBwi",
    "outputId": "851ed64a-d554-48c6-986c-a3e8f6f170d2",
    "tags": []
   },
   "outputs": [
    {
     "name": "stdout",
     "output_type": "stream",
     "text": [
      "The model has an accuracy of 68.16% for the training set.\n"
     ]
    }
   ],
   "source": [
    "hypothesis = torch.sigmoid(x_train.matmul(W) + b)\n",
    "prediction = hypothesis >= torch.FloatTensor([0.5])\n",
    "correct_prediction = prediction.int() == y_train.unsqueeze(1)\n",
    "accuracy = correct_prediction.sum().item() / len(correct_prediction)\n",
    "print('The model has an accuracy of {:2.2f}% for the training set.'.format(accuracy * 100))"
   ]
  },
  {
   "cell_type": "code",
   "execution_count": 33,
   "metadata": {
    "colab": {
     "base_uri": "https://localhost:8080/",
     "height": 34
    },
    "id": "R7zABKSpwRXW",
    "outputId": "f8b72a91-b9d9-4539-9c40-521358969ca6"
   },
   "outputs": [],
   "source": [
    "x_test = np.array([test_df['Pregnancies'],test_df['Glucose'],test_df['BloodPressure'],test_df['SkinThickness'],test_df['Insulin'],test_df['BMI'],test_df['DiabetesPedigreeFunction'],test_df['Age']])\n",
    "# x_test = np.array([test_df['Pregnancies']*10,test_df['Glucose'],test_df['BloodPressure'],test_df['Insulin'],test_df['BMI'],test_df['DiabetesPedigreeFunction'] * 100,test_df['Age']])\n",
    "x_test = x_test.T\n",
    "x_test = torch.FloatTensor(x_test)"
   ]
  },
  {
   "cell_type": "code",
   "execution_count": 39,
   "metadata": {
    "id": "hTtsiNNqaJN7"
   },
   "outputs": [
    {
     "data": {
      "text/html": [
       "<div>\n",
       "<style scoped>\n",
       "    .dataframe tbody tr th:only-of-type {\n",
       "        vertical-align: middle;\n",
       "    }\n",
       "\n",
       "    .dataframe tbody tr th {\n",
       "        vertical-align: top;\n",
       "    }\n",
       "\n",
       "    .dataframe thead th {\n",
       "        text-align: right;\n",
       "    }\n",
       "</style>\n",
       "<table border=\"1\" class=\"dataframe\">\n",
       "  <thead>\n",
       "    <tr style=\"text-align: right;\">\n",
       "      <th></th>\n",
       "      <th>ID</th>\n",
       "      <th>Diabetes</th>\n",
       "    </tr>\n",
       "  </thead>\n",
       "  <tbody>\n",
       "    <tr>\n",
       "      <th>0</th>\n",
       "      <td>0</td>\n",
       "      <td>0</td>\n",
       "    </tr>\n",
       "    <tr>\n",
       "      <th>1</th>\n",
       "      <td>1</td>\n",
       "      <td>0</td>\n",
       "    </tr>\n",
       "    <tr>\n",
       "      <th>2</th>\n",
       "      <td>2</td>\n",
       "      <td>0</td>\n",
       "    </tr>\n",
       "    <tr>\n",
       "      <th>3</th>\n",
       "      <td>3</td>\n",
       "      <td>0</td>\n",
       "    </tr>\n",
       "    <tr>\n",
       "      <th>4</th>\n",
       "      <td>4</td>\n",
       "      <td>0</td>\n",
       "    </tr>\n",
       "  </tbody>\n",
       "</table>\n",
       "</div>"
      ],
      "text/plain": [
       "   ID  Diabetes\n",
       "0   0         0\n",
       "1   1         0\n",
       "2   2         0\n",
       "3   3         0\n",
       "4   4         0"
      ]
     },
     "execution_count": 39,
     "metadata": {},
     "output_type": "execute_result"
    }
   ],
   "source": [
    "hypothesis = torch.sigmoid(x_test.matmul(W) + b)\n",
    "prediction = hypothesis >= torch.FloatTensor([0.5])\n",
    "prediction = prediction.int()\n",
    "submit_df['Diabetes'] = prediction.detach().numpy()\n",
    "submit_df.head()"
   ]
  },
  {
   "cell_type": "code",
   "execution_count": 40,
   "metadata": {},
   "outputs": [],
   "source": [
    "submit_df.to_csv(\"./당뇨병예측하기_data/submit.csv\",index=False)"
   ]
  },
  {
   "cell_type": "code",
   "execution_count": null,
   "metadata": {},
   "outputs": [],
   "source": []
  }
 ],
 "metadata": {
  "colab": {
   "name": "[인공지능][4주차][실습] 선형분류 (1부).ipynb",
   "provenance": []
  },
  "kernelspec": {
   "display_name": "Python 3 (ipykernel)",
   "language": "python",
   "name": "python3"
  },
  "language_info": {
   "codemirror_mode": {
    "name": "ipython",
    "version": 3
   },
   "file_extension": ".py",
   "mimetype": "text/x-python",
   "name": "python",
   "nbconvert_exporter": "python",
   "pygments_lexer": "ipython3",
   "version": "3.9.6"
  }
 },
 "nbformat": 4,
 "nbformat_minor": 4
}
