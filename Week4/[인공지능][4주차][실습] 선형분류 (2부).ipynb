{
 "cells": [
  {
   "cell_type": "markdown",
   "metadata": {
    "id": "VhVjuuiVySaM"
   },
   "source": [
    "## Softmax classification\n",
    "- 클래스가 3개 이상인 경우"
   ]
  },
  {
   "cell_type": "markdown",
   "metadata": {
    "id": "jJpcY-7gys1L"
   },
   "source": [
    "## 데이터 로더"
   ]
  },
  {
   "cell_type": "code",
   "execution_count": null,
   "metadata": {
    "colab": {
     "base_uri": "https://localhost:8080/",
     "height": 119
    },
    "id": "crftV5RUyMWg",
    "outputId": "48d35583-19af-49a9-a4e7-f94120ae0462"
   },
   "outputs": [
    {
     "name": "stdout",
     "output_type": "stream",
     "text": [
      "tensor([[1., 2., 1., 1.],\n",
      "        [2., 1., 3., 2.],\n",
      "        [3., 1., 3., 4.],\n",
      "        [4., 1., 5., 5.],\n",
      "        [1., 7., 5., 5.]])\n",
      "tensor([2, 2, 2, 1, 1])\n"
     ]
    }
   ],
   "source": [
    "import torch\n",
    "import torch.optim as optim\n",
    "# For reproducibility\n",
    "torch.manual_seed(1)\n",
    "\n",
    "x_train = [[1, 2, 1, 1],\n",
    "           [2, 1, 3, 2],\n",
    "           [3, 1, 3, 4],\n",
    "           [4, 1, 5, 5],\n",
    "           [1, 7, 5, 5],\n",
    "           [1, 2, 5, 6],\n",
    "           [1, 6, 6, 6],\n",
    "           [1, 7, 7, 7]]\n",
    "y_train = [2, 2, 2, 1, 1, 1, 0, 0]\n",
    "\n",
    "x_train = torch.FloatTensor(x_train)\n",
    "y_train = torch.LongTensor(y_train)\n",
    "\n",
    "print(x_train[:5])   # 첫 다섯 개\n",
    "print(y_train[:5])"
   ]
  },
  {
   "cell_type": "code",
   "execution_count": null,
   "metadata": {
    "colab": {
     "base_uri": "https://localhost:8080/",
     "height": 306
    },
    "id": "miaw_JqdbsWd",
    "outputId": "438d97cc-fe0e-4df9-e698-8bf679b46681"
   },
   "outputs": [
    {
     "name": "stdout",
     "output_type": "stream",
     "text": [
      "tensor([2, 2, 2, 1, 1, 1, 0, 0])\n",
      "tensor([[2],\n",
      "        [2],\n",
      "        [2],\n",
      "        [1],\n",
      "        [1],\n",
      "        [1],\n",
      "        [0],\n",
      "        [0]])\n",
      "tensor([[0., 0., 1.],\n",
      "        [0., 0., 1.],\n",
      "        [0., 0., 1.],\n",
      "        [0., 1., 0.],\n",
      "        [0., 1., 0.],\n",
      "        [0., 1., 0.],\n",
      "        [1., 0., 0.],\n",
      "        [1., 0., 0.]])\n"
     ]
    }
   ],
   "source": [
    "print(y_train)\n",
    "# unsqueeze -> 리스트의 각 원소를 각 리스트로 변환\n",
    "print(y_train.unsqueeze(1))\n",
    "\n",
    "nb_class = 3\n",
    "nb_data = len(y_train)\n",
    "y_one_hot = torch.zeros(nb_data, nb_class)\n",
    "y_one_hot.scatter_(1, y_train.unsqueeze(1), 1)\n",
    "\n",
    "print(y_one_hot)"
   ]
  },
  {
   "cell_type": "markdown",
   "metadata": {
    "id": "OX2MgJZgyphQ"
   },
   "source": [
    "## 모델 학습"
   ]
  },
  {
   "cell_type": "code",
   "execution_count": null,
   "metadata": {
    "colab": {
     "base_uri": "https://localhost:8080/",
     "height": 204
    },
    "id": "GHSZppOfyp-n",
    "outputId": "cb943c20-db90-4db1-85ab-e01ec0c031fe"
   },
   "outputs": [
    {
     "name": "stdout",
     "output_type": "stream",
     "text": [
      "Epoch    0/1000 Cost: 1.098612\n",
      "Epoch  100/1000 Cost: 1.036919\n",
      "Epoch  200/1000 Cost: 1.010905\n",
      "Epoch  300/1000 Cost: 0.991541\n",
      "Epoch  400/1000 Cost: 0.974942\n",
      "Epoch  500/1000 Cost: 0.959928\n",
      "Epoch  600/1000 Cost: 0.946149\n",
      "Epoch  700/1000 Cost: 0.933492\n",
      "Epoch  800/1000 Cost: 0.921898\n",
      "Epoch  900/1000 Cost: 0.911302\n",
      "Epoch 1000/1000 Cost: 0.901625\n"
     ]
    }
   ],
   "source": [
    "import torch.nn.functional as F  # for softmax\n",
    "\n",
    "\n",
    "# 모델 초기화\n",
    "# feature 4개, 3개의 클래스\n",
    "nb_class = 3\n",
    "nb_data = len(y_train)\n",
    "\n",
    "W = torch.zeros((4, nb_class), requires_grad=True)\n",
    "b = torch.zeros(1, requires_grad=True)\n",
    "# optimizer 설정\n",
    "optimizer = optim.SGD([W, b], lr=0.01)\n",
    "nb_epochs = 1000\n",
    "for epoch in range(nb_epochs + 1):\n",
    "\n",
    "    # Cost 계산 (1)\n",
    "    hypothesis = F.softmax(x_train.matmul(W) + b, dim=1) # or .mm or @\n",
    "    \n",
    "    # cost 표현번 1번 예시\n",
    "    y_one_hot = torch.zeros(nb_data, nb_class)\n",
    "    y_one_hot.scatter_(1, y_train.unsqueeze(1), 1)\n",
    "    cost = (y_one_hot * -torch.log(F.softmax(hypothesis, dim=1))).sum(dim=1).mean()\n",
    "    \n",
    "    # cost 표현법 2번 예시\n",
    "    # cross_entropy를 사용하면 scatter 함수를 이용한 one_hot_encoding을 안해도 됨\n",
    "    # cost = F.cross_entropy((x_train.matmul(W) + b), y_train)\n",
    "\n",
    "    # cost로 H(x) 개선\n",
    "    optimizer.zero_grad()\n",
    "    cost.backward()\n",
    "    optimizer.step()\n",
    "\n",
    "    # 100번마다 로그 출력\n",
    "    if epoch % 100 == 0:\n",
    "        print('Epoch {:4d}/{} Cost: {:.6f}'.format(\n",
    "            epoch, nb_epochs, cost.item()\n",
    "        ))"
   ]
  },
  {
   "cell_type": "markdown",
   "metadata": {
    "id": "EJC-MghfyvDC"
   },
   "source": [
    "## 데이터 평가"
   ]
  },
  {
   "cell_type": "code",
   "execution_count": null,
   "metadata": {
    "colab": {
     "base_uri": "https://localhost:8080/",
     "height": 221
    },
    "id": "QFcRqSOtyxNR",
    "outputId": "df2bb405-4b49-4acd-be60-09c793964167"
   },
   "outputs": [
    {
     "name": "stdout",
     "output_type": "stream",
     "text": [
      "tensor([[0.3633, 0.1321, 0.5046],\n",
      "        [0.1075, 0.3747, 0.5178],\n",
      "        [0.0338, 0.4811, 0.4851],\n",
      "        [0.0120, 0.5703, 0.4177],\n",
      "        [0.9002, 0.0161, 0.0838],\n",
      "        [0.1476, 0.7789, 0.0735],\n",
      "        [0.8375, 0.0747, 0.0878],\n",
      "        [0.8986, 0.0490, 0.0524]], grad_fn=<SoftmaxBackward>)\n",
      "tensor([2, 2, 2, 1, 0, 1, 0, 0])\n",
      "tensor([2, 2, 2, 1, 1, 1, 0, 0])\n",
      "tensor([ True,  True,  True,  True, False,  True,  True,  True])\n",
      "The model has an accuracy of 87.50% for the training set.\n"
     ]
    }
   ],
   "source": [
    "# 학습된 W,b를 통한 클래스 예측\n",
    "hypothesis = F.softmax(x_train.matmul(W) + b, dim=1) # or .mm or @\n",
    "\n",
    "#argmax -> 리스트 중 제일 큰 값의 인덱스로 변환 \n",
    "predict = torch.argmax(hypothesis, dim=1)\n",
    "\n",
    "torch.argmax()\n",
    "print(hypothesis)\n",
    "print(predict)\n",
    "print(y_train)\n",
    "\n",
    "\n",
    "# 정확도 계산 \n",
    "correct_prediction = predict.float() == y_train\n",
    "print(correct_prediction)\n",
    "accuracy = correct_prediction.sum().item() / len(correct_prediction)\n",
    "print('The model has an accuracy of {:2.2f}% for the training set.'.format(accuracy * 100))\n",
    "\n"
   ]
  },
  {
   "cell_type": "code",
   "execution_count": null,
   "metadata": {
    "id": "z5DV_zOJy5tF"
   },
   "outputs": [],
   "source": []
  }
 ],
 "metadata": {
  "colab": {
   "collapsed_sections": [],
   "name": "[인공지능][4주차][실습] 선형 분류 (2부).ipynb",
   "provenance": []
  },
  "kernelspec": {
   "display_name": "Python 3 (ipykernel)",
   "language": "python",
   "name": "python3"
  },
  "language_info": {
   "codemirror_mode": {
    "name": "ipython",
    "version": 3
   },
   "file_extension": ".py",
   "mimetype": "text/x-python",
   "name": "python",
   "nbconvert_exporter": "python",
   "pygments_lexer": "ipython3",
   "version": "3.9.6"
  }
 },
 "nbformat": 4,
 "nbformat_minor": 4
}
