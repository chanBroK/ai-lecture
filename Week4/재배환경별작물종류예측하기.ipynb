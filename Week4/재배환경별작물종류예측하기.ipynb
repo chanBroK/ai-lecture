{
 "cells": [
  {
   "cell_type": "code",
   "execution_count": 25,
   "metadata": {},
   "outputs": [],
   "source": [
    "import numpy as np\n",
    "import pandas as pd"
   ]
  },
  {
   "cell_type": "code",
   "execution_count": 26,
   "metadata": {
    "colab": {
     "base_uri": "https://localhost:8080/",
     "height": 119
    },
    "id": "crftV5RUyMWg",
    "outputId": "48d35583-19af-49a9-a4e7-f94120ae0462"
   },
   "outputs": [
    {
     "data": {
      "text/plain": [
       "<torch._C.Generator at 0x293bfb5d7d0>"
      ]
     },
     "execution_count": 26,
     "metadata": {},
     "output_type": "execute_result"
    }
   ],
   "source": [
    "import torch\n",
    "import torch.optim as optim\n",
    "from sklearn import preprocessing\n",
    "# for softmax\n",
    "import torch.nn.functional as F  \n",
    "# For reproducibility\n",
    "torch.manual_seed(1)"
   ]
  },
  {
   "cell_type": "code",
   "execution_count": 27,
   "metadata": {
    "tags": []
   },
   "outputs": [
    {
     "name": "stdout",
     "output_type": "stream",
     "text": [
      "    N    P    K  temperature   humidity        ph    rainfall        label\n",
      "0  22   36   16    30.581395  50.771481  8.184229   64.585596    mothbeans\n",
      "1  18   27   41    22.365094  92.308824  7.175344  104.821633  pomegranate\n",
      "2  61   68   50    35.214628  91.497251  6.793245  243.074507       papaya\n",
      "3  26   72   22    28.767949  37.577921  4.674942   91.720849   pigeonpeas\n",
      "4   2  140  197    22.697801  92.822234  5.534567  105.050823        apple\n",
      "     N    P    K  temperature   humidity        ph    rainfall\n",
      "0  101   17   47    29.494014  94.729813  6.185053   26.308209\n",
      "1   98    8   51    26.179346  86.522581  6.259336   49.430510\n",
      "2   59   62   49    43.360515  93.351916  6.941497  114.778071\n",
      "3   44   60   55    34.280461  90.555616  6.825371   98.540477\n",
      "4   30  137  200    22.914300  90.704756  5.603413  118.604465\n",
      "   id   label\n",
      "0   0  coffee\n",
      "1   1  coffee\n",
      "2   2  coffee\n",
      "3   3  coffee\n",
      "4   4  coffee\n"
     ]
    }
   ],
   "source": [
    "train_df = pd.read_csv(\"./재배환경별작물종류예측하기_data/train.csv\")\n",
    "test_df = pd.read_csv(\"./재배환경별작물종류예측하기_data/test.csv\")\n",
    "submit_df = pd.read_csv(\"./재배환경별작물종류예측하기_data/sample.csv\")\n",
    "print(train_df.head())\n",
    "print(test_df.head())\n",
    "print(submit_df.head())"
   ]
  },
  {
   "cell_type": "code",
   "execution_count": 28,
   "metadata": {},
   "outputs": [
    {
     "name": "stdout",
     "output_type": "stream",
     "text": [
      "torch.Size([1650, 7])\n",
      "torch.Size([1650])\n"
     ]
    }
   ],
   "source": [
    "x_train = torch.FloatTensor(np.array([train_df['N'],train_df['P'],train_df['K'],train_df['temperature'],train_df['humidity'],train_df['ph'],train_df['rainfall']]).T)\n",
    "## preprocessing LabelEncoding \"label\"\n",
    "le = preprocessing.LabelEncoder()\n",
    "le.fit(train_df['label'])\n",
    "train_df['label'] = le.transform(train_df['label'])\n",
    "y_train = torch.LongTensor(train_df['label'])\n",
    "print(x_train.shape)\n",
    "print(y_train.shape)"
   ]
  },
  {
   "cell_type": "markdown",
   "metadata": {
    "id": "OX2MgJZgyphQ"
   },
   "source": [
    "## 모델 학습"
   ]
  },
  {
   "cell_type": "code",
   "execution_count": 29,
   "metadata": {
    "colab": {
     "base_uri": "https://localhost:8080/",
     "height": 204
    },
    "id": "GHSZppOfyp-n",
    "outputId": "cb943c20-db90-4db1-85ab-e01ec0c031fe"
   },
   "outputs": [
    {
     "name": "stdout",
     "output_type": "stream",
     "text": [
      "Epoch    0/10000 Cost: 3.091043\n",
      "Epoch 1000/10000 Cost: 2.630044\n",
      "Epoch 2000/10000 Cost: 2.623802\n",
      "Epoch 3000/10000 Cost: 2.621339\n",
      "Epoch 4000/10000 Cost: 2.619949\n",
      "Epoch 5000/10000 Cost: 2.591134\n",
      "Epoch 6000/10000 Cost: 2.584429\n",
      "Epoch 7000/10000 Cost: 2.582519\n",
      "Epoch 8000/10000 Cost: 2.581298\n",
      "Epoch 9000/10000 Cost: 2.580391\n",
      "Epoch 10000/10000 Cost: 2.579711\n"
     ]
    }
   ],
   "source": [
    "# 모델 초기화\n",
    "nb_class = len(le.classes_)\n",
    "nb_data = len(y_train)\n",
    "\n",
    "W = torch.zeros((7, nb_class), requires_grad=True)\n",
    "b = torch.zeros(1, requires_grad=True)\n",
    "# optimizer 설정\n",
    "optimizer = optim.SGD([W, b], lr=1e-2)\n",
    "nb_epochs = 10000\n",
    "for epoch in range(nb_epochs + 1):\n",
    "    # Cost 계산 (1)\n",
    "    hypothesis = F.softmax(x_train.matmul(W) + b, dim=1) # or .mm or @\n",
    "    \n",
    "    # cost 표현번 1번 예시\n",
    "    y_one_hot = torch.zeros(nb_data, nb_class)\n",
    "    # unsqueeze -> 리스트의 각 원소를 각 리스트로 변환\n",
    "    y_one_hot.scatter_(1, y_train.unsqueeze(1), 1)\n",
    "    cost = (y_one_hot * -torch.log(F.softmax(hypothesis, dim=1))).sum(dim=1).mean()\n",
    "    # cost 표현법 2번 예시\n",
    "    # cross_entropy를 사용하면 scatter 함수를 이용한 one_hot_encoding을 안해도 됨\n",
    "    # cost = F.cross_entropy((x_train.matmul(W) + b), y_train)\n",
    "    # cost로 H(x) 개선\n",
    "    optimizer.zero_grad()\n",
    "    cost.backward()\n",
    "    optimizer.step()\n",
    "    # 100번마다 로그 출력\n",
    "    if epoch % 1000 == 0:\n",
    "        print('Epoch {:4d}/{} Cost: {:.6f}'.format(\n",
    "            epoch, nb_epochs, cost.item()\n",
    "        ))"
   ]
  },
  {
   "cell_type": "code",
   "execution_count": 35,
   "metadata": {
    "colab": {
     "base_uri": "https://localhost:8080/",
     "height": 221
    },
    "id": "QFcRqSOtyxNR",
    "outputId": "df2bb405-4b49-4acd-be60-09c793964167"
   },
   "outputs": [
    {
     "name": "stdout",
     "output_type": "stream",
     "text": [
      "tensor([[4.1520e-08, 5.3696e-07, 1.8948e-03,  ..., 7.2870e-08, 3.9373e-06,\n",
      "         5.5002e-08],\n",
      "        [8.3358e-11, 3.0264e-05, 2.5306e-10,  ..., 2.6663e-10, 1.1374e-03,\n",
      "         1.0734e-10],\n",
      "        [1.5957e-20, 1.5769e-07, 6.2575e-17,  ..., 1.0238e-19, 8.1013e-01,\n",
      "         2.0010e-20],\n",
      "        ...,\n",
      "        [1.3776e-10, 3.0775e-06, 2.6454e-08,  ..., 2.6785e-10, 2.3566e-04,\n",
      "         1.0367e-10],\n",
      "        [1.3423e-30, 8.6118e-04, 0.0000e+00,  ..., 7.3579e-32, 8.6850e-35,\n",
      "         6.5244e-32],\n",
      "        [3.6234e-11, 3.5434e-09, 1.0286e-02,  ..., 3.3224e-11, 4.8483e-13,\n",
      "         3.6235e-11]], grad_fn=<SoftmaxBackward>)\n",
      "tensor([13, 16, 20,  ..., 12,  7, 10])\n",
      "tensor([13, 19, 17,  ..., 12,  7, 10])\n",
      "tensor([ True, False, False,  ...,  True,  True,  True])\n",
      "The model has an accuracy of 58.91% for the training set.\n"
     ]
    }
   ],
   "source": [
    "# 학습된 W,b를 통한 클래스 예측\n",
    "hypothesis = F.softmax(x_train.matmul(W) + b, dim=1) # or .mm or @\n",
    "#argmax -> 리스트 중 제일 큰 값의 인덱스로 변환 \n",
    "predict = torch.argmax(hypothesis, dim=1)\n",
    "print(hypothesis)\n",
    "print(predict)\n",
    "print(y_train)\n",
    "# 정확도 계산 \n",
    "correct_prediction = predict.float() == y_train\n",
    "print(correct_prediction)\n",
    "accuracy = correct_prediction.sum().item() / len(correct_prediction)\n",
    "print('The model has an accuracy of {:2.2f}% for the training set.'.format(accuracy * 100))"
   ]
  },
  {
   "cell_type": "code",
   "execution_count": 36,
   "metadata": {},
   "outputs": [],
   "source": [
    "x_test = torch.FloatTensor(np.array([test_df['N'],test_df['P'],test_df['K'],test_df['temperature'],test_df['humidity'],test_df['ph'],test_df['rainfall']]).T)"
   ]
  },
  {
   "cell_type": "code",
   "execution_count": 39,
   "metadata": {},
   "outputs": [],
   "source": [
    "hypothesis = F.softmax(x_test.matmul(W) + b, dim=1) # or .mm or @\n",
    "#argmax -> 리스트 중 제일 큰 값의 인덱스로 변환 \n",
    "predict = torch.argmax(hypothesis, dim=1)"
   ]
  },
  {
   "cell_type": "code",
   "execution_count": 40,
   "metadata": {
    "id": "z5DV_zOJy5tF"
   },
   "outputs": [
    {
     "data": {
      "text/html": [
       "<div>\n",
       "<style scoped>\n",
       "    .dataframe tbody tr th:only-of-type {\n",
       "        vertical-align: middle;\n",
       "    }\n",
       "\n",
       "    .dataframe tbody tr th {\n",
       "        vertical-align: top;\n",
       "    }\n",
       "\n",
       "    .dataframe thead th {\n",
       "        text-align: right;\n",
       "    }\n",
       "</style>\n",
       "<table border=\"1\" class=\"dataframe\">\n",
       "  <thead>\n",
       "    <tr style=\"text-align: right;\">\n",
       "      <th></th>\n",
       "      <th>id</th>\n",
       "      <th>label</th>\n",
       "    </tr>\n",
       "  </thead>\n",
       "  <tbody>\n",
       "    <tr>\n",
       "      <th>0</th>\n",
       "      <td>0</td>\n",
       "      <td>muskmelon</td>\n",
       "    </tr>\n",
       "    <tr>\n",
       "      <th>1</th>\n",
       "      <td>1</td>\n",
       "      <td>muskmelon</td>\n",
       "    </tr>\n",
       "    <tr>\n",
       "      <th>2</th>\n",
       "      <td>2</td>\n",
       "      <td>mango</td>\n",
       "    </tr>\n",
       "    <tr>\n",
       "      <th>3</th>\n",
       "      <td>3</td>\n",
       "      <td>mango</td>\n",
       "    </tr>\n",
       "    <tr>\n",
       "      <th>4</th>\n",
       "      <td>4</td>\n",
       "      <td>chickpea</td>\n",
       "    </tr>\n",
       "  </tbody>\n",
       "</table>\n",
       "</div>"
      ],
      "text/plain": [
       "   id      label\n",
       "0   0  muskmelon\n",
       "1   1  muskmelon\n",
       "2   2      mango\n",
       "3   3      mango\n",
       "4   4   chickpea"
      ]
     },
     "execution_count": 40,
     "metadata": {},
     "output_type": "execute_result"
    }
   ],
   "source": [
    "submit_df['label'] = le.inverse_transform(predict)\n",
    "submit_df.head()"
   ]
  },
  {
   "cell_type": "code",
   "execution_count": 42,
   "metadata": {},
   "outputs": [],
   "source": [
    "submit_df.to_csv(\"./재배환경별작물종류예측하기_data/sample.csv\",index=False)"
   ]
  },
  {
   "cell_type": "code",
   "execution_count": null,
   "metadata": {},
   "outputs": [],
   "source": []
  }
 ],
 "metadata": {
  "colab": {
   "collapsed_sections": [],
   "name": "[인공지능][4주차][실습] 선형 분류 (2부).ipynb",
   "provenance": []
  },
  "kernelspec": {
   "display_name": "Python 3 (ipykernel)",
   "language": "python",
   "name": "python3"
  },
  "language_info": {
   "codemirror_mode": {
    "name": "ipython",
    "version": 3
   },
   "file_extension": ".py",
   "mimetype": "text/x-python",
   "name": "python",
   "nbconvert_exporter": "python",
   "pygments_lexer": "ipython3",
   "version": "3.9.6"
  }
 },
 "nbformat": 4,
 "nbformat_minor": 4
}
