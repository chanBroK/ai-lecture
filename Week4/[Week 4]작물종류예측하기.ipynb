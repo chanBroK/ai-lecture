{
 "cells": [
  {
   "cell_type": "code",
   "execution_count": 99,
   "metadata": {
    "executionInfo": {
     "elapsed": 215,
     "status": "ok",
     "timestamp": 1633933003658,
     "user": {
      "displayName": "김형찬",
      "photoUrl": "https://lh3.googleusercontent.com/a-/AOh14Gg6LQCDSZQ2OZSGwSClHlCqIPpq3Qo8j2E-mY7NWw=s64",
      "userId": "18092136259561212732"
     },
     "user_tz": -540
    },
    "id": "wYRRlwdb0tux"
   },
   "outputs": [],
   "source": [
    "import pandas as pd\n",
    "import numpy as np\n",
    "import torch\n",
    "import sklearn"
   ]
  },
  {
   "cell_type": "code",
   "execution_count": 100,
   "metadata": {
    "colab": {
     "base_uri": "https://localhost:8080/"
    },
    "executionInfo": {
     "elapsed": 4,
     "status": "ok",
     "timestamp": 1633933003898,
     "user": {
      "displayName": "김형찬",
      "photoUrl": "https://lh3.googleusercontent.com/a-/AOh14Gg6LQCDSZQ2OZSGwSClHlCqIPpq3Qo8j2E-mY7NWw=s64",
      "userId": "18092136259561212732"
     },
     "user_tz": -540
    },
    "id": "Y5p-Z7zH1A08",
    "outputId": "d677ccdf-3975-43aa-eeef-aeadc3f7fc69"
   },
   "outputs": [
    {
     "data": {
      "text/plain": [
       "<torch._C.Generator at 0x7f5c28f31af0>"
      ]
     },
     "execution_count": 100,
     "metadata": {},
     "output_type": "execute_result"
    }
   ],
   "source": [
    "torch.manual_seed(1)"
   ]
  },
  {
   "cell_type": "code",
   "execution_count": 101,
   "metadata": {
    "executionInfo": {
     "elapsed": 3,
     "status": "ok",
     "timestamp": 1633933003899,
     "user": {
      "displayName": "김형찬",
      "photoUrl": "https://lh3.googleusercontent.com/a-/AOh14Gg6LQCDSZQ2OZSGwSClHlCqIPpq3Qo8j2E-mY7NWw=s64",
      "userId": "18092136259561212732"
     },
     "user_tz": -540
    },
    "id": "2PMemFw71DCv"
   },
   "outputs": [],
   "source": [
    "train_df = pd.read_csv(\"drive/MyDrive/Colab Notebooks/data_sample/2021-ai-w4-p2/train.csv\")\n",
    "test_df = pd.read_csv(\"drive/MyDrive/Colab Notebooks/data_sample/2021-ai-w4-p2/test.csv\")\n",
    "submit_df = pd.read_csv(\"drive/MyDrive/Colab Notebooks/data_sample/2021-ai-w4-p2/sample.csv\")"
   ]
  },
  {
   "cell_type": "code",
   "execution_count": 102,
   "metadata": {
    "colab": {
     "base_uri": "https://localhost:8080/"
    },
    "executionInfo": {
     "elapsed": 308,
     "status": "ok",
     "timestamp": 1633933004205,
     "user": {
      "displayName": "김형찬",
      "photoUrl": "https://lh3.googleusercontent.com/a-/AOh14Gg6LQCDSZQ2OZSGwSClHlCqIPpq3Qo8j2E-mY7NWw=s64",
      "userId": "18092136259561212732"
     },
     "user_tz": -540
    },
    "id": "ZvmFNxLA5DxD",
    "outputId": "7353936f-3e4e-46f1-c16c-ac79aea77257"
   },
   "outputs": [
    {
     "name": "stdout",
     "output_type": "stream",
     "text": [
      "    N    P    K  temperature   humidity        ph    rainfall        label\n",
      "0  22   36   16    30.581395  50.771481  8.184229   64.585596    mothbeans\n",
      "1  18   27   41    22.365094  92.308824  7.175344  104.821633  pomegranate\n",
      "2  61   68   50    35.214628  91.497251  6.793245  243.074507       papaya\n",
      "3  26   72   22    28.767949  37.577921  4.674942   91.720849   pigeonpeas\n",
      "4   2  140  197    22.697801  92.822234  5.534567  105.050823        apple\n",
      "     N    P    K  temperature   humidity        ph    rainfall\n",
      "0  101   17   47    29.494014  94.729813  6.185053   26.308209\n",
      "1   98    8   51    26.179346  86.522581  6.259336   49.430510\n",
      "2   59   62   49    43.360515  93.351916  6.941497  114.778071\n",
      "3   44   60   55    34.280461  90.555616  6.825371   98.540477\n",
      "4   30  137  200    22.914300  90.704756  5.603413  118.604465\n",
      "   id   label\n",
      "0   0  coffee\n",
      "1   1  coffee\n",
      "2   2  coffee\n",
      "3   3  coffee\n",
      "4   4  coffee\n"
     ]
    }
   ],
   "source": [
    "print(train_df.head())\n",
    "print(test_df.head())\n",
    "print(submit_df.head())"
   ]
  },
  {
   "cell_type": "code",
   "execution_count": 103,
   "metadata": {
    "executionInfo": {
     "elapsed": 12,
     "status": "ok",
     "timestamp": 1633933004205,
     "user": {
      "displayName": "김형찬",
      "photoUrl": "https://lh3.googleusercontent.com/a-/AOh14Gg6LQCDSZQ2OZSGwSClHlCqIPpq3Qo8j2E-mY7NWw=s64",
      "userId": "18092136259561212732"
     },
     "user_tz": -540
    },
    "id": "3FN5CZyi5FNr"
   },
   "outputs": [],
   "source": [
    "# preprocessing\n",
    "from sklearn.preprocessing import LabelEncoder,StandardScaler\n",
    "le = LabelEncoder()"
   ]
  },
  {
   "cell_type": "code",
   "execution_count": 104,
   "metadata": {
    "executionInfo": {
     "elapsed": 13,
     "status": "ok",
     "timestamp": 1633933004206,
     "user": {
      "displayName": "김형찬",
      "photoUrl": "https://lh3.googleusercontent.com/a-/AOh14Gg6LQCDSZQ2OZSGwSClHlCqIPpq3Qo8j2E-mY7NWw=s64",
      "userId": "18092136259561212732"
     },
     "user_tz": -540
    },
    "id": "31RiWtCH5i-9"
   },
   "outputs": [],
   "source": [
    "le.fit(train_df['label'])\n",
    "train_df['label'] = le.transform(train_df['label'])"
   ]
  },
  {
   "cell_type": "code",
   "execution_count": 105,
   "metadata": {
    "executionInfo": {
     "elapsed": 12,
     "status": "ok",
     "timestamp": 1633933004206,
     "user": {
      "displayName": "김형찬",
      "photoUrl": "https://lh3.googleusercontent.com/a-/AOh14Gg6LQCDSZQ2OZSGwSClHlCqIPpq3Qo8j2E-mY7NWw=s64",
      "userId": "18092136259561212732"
     },
     "user_tz": -540
    },
    "id": "Kjcc_eK05eUL"
   },
   "outputs": [],
   "source": [
    "scaler = StandardScaler()"
   ]
  },
  {
   "cell_type": "code",
   "execution_count": 106,
   "metadata": {
    "executionInfo": {
     "elapsed": 13,
     "status": "ok",
     "timestamp": 1633933004207,
     "user": {
      "displayName": "김형찬",
      "photoUrl": "https://lh3.googleusercontent.com/a-/AOh14Gg6LQCDSZQ2OZSGwSClHlCqIPpq3Qo8j2E-mY7NWw=s64",
      "userId": "18092136259561212732"
     },
     "user_tz": -540
    },
    "id": "5ACnQw9J5hHh"
   },
   "outputs": [],
   "source": [
    "x_train = np.array(train_df.drop(['label'], axis= 1))\n",
    "y_train = np.array(train_df['label'])\n",
    "x_test = np.array(test_df)"
   ]
  },
  {
   "cell_type": "code",
   "execution_count": 107,
   "metadata": {
    "executionInfo": {
     "elapsed": 13,
     "status": "ok",
     "timestamp": 1633933004207,
     "user": {
      "displayName": "김형찬",
      "photoUrl": "https://lh3.googleusercontent.com/a-/AOh14Gg6LQCDSZQ2OZSGwSClHlCqIPpq3Qo8j2E-mY7NWw=s64",
      "userId": "18092136259561212732"
     },
     "user_tz": -540
    },
    "id": "3LCh-SNz545t"
   },
   "outputs": [],
   "source": [
    "x_train = scaler.fit_transform(x_train)\n",
    "x_test = scaler.transform(x_train)"
   ]
  },
  {
   "cell_type": "code",
   "execution_count": 108,
   "metadata": {
    "executionInfo": {
     "elapsed": 13,
     "status": "ok",
     "timestamp": 1633933004207,
     "user": {
      "displayName": "김형찬",
      "photoUrl": "https://lh3.googleusercontent.com/a-/AOh14Gg6LQCDSZQ2OZSGwSClHlCqIPpq3Qo8j2E-mY7NWw=s64",
      "userId": "18092136259561212732"
     },
     "user_tz": -540
    },
    "id": "ralTl8FC6-lm"
   },
   "outputs": [],
   "source": [
    "x_train = torch.Tensor(x_train).cuda()\n",
    "y_train = torch.LongTensor(y_train).cuda()\n",
    "x_test = torch.Tensor(x_test).cuda()"
   ]
  },
  {
   "cell_type": "code",
   "execution_count": 109,
   "metadata": {
    "colab": {
     "base_uri": "https://localhost:8080/"
    },
    "executionInfo": {
     "elapsed": 11,
     "status": "ok",
     "timestamp": 1633933004207,
     "user": {
      "displayName": "김형찬",
      "photoUrl": "https://lh3.googleusercontent.com/a-/AOh14Gg6LQCDSZQ2OZSGwSClHlCqIPpq3Qo8j2E-mY7NWw=s64",
      "userId": "18092136259561212732"
     },
     "user_tz": -540
    },
    "id": "7xWF9UAP6fHT",
    "outputId": "55402a9b-49d2-4ed7-c7c4-038cbbc5fef9"
   },
   "outputs": [
    {
     "name": "stdout",
     "output_type": "stream",
     "text": [
      "torch.Size([1650, 7]) torch.Size([1650, 7]) torch.Size([1650])\n",
      "tensor([13, 19, 17,  ..., 12,  7, 10], device='cuda:0')\n"
     ]
    }
   ],
   "source": [
    "print(x_train.shape,x_test.shape,y_train.shape)\n",
    "print(y_train)"
   ]
  },
  {
   "cell_type": "code",
   "execution_count": 110,
   "metadata": {
    "executionInfo": {
     "elapsed": 9,
     "status": "ok",
     "timestamp": 1633933004208,
     "user": {
      "displayName": "김형찬",
      "photoUrl": "https://lh3.googleusercontent.com/a-/AOh14Gg6LQCDSZQ2OZSGwSClHlCqIPpq3Qo8j2E-mY7NWw=s64",
      "userId": "18092136259561212732"
     },
     "user_tz": -540
    },
    "id": "yH4nTsvZ6hzU"
   },
   "outputs": [],
   "source": [
    "class_num = len(le.classes_)\n",
    "w = torch.zeros((7,class_num),requires_grad=True,device=\"cuda\")\n",
    "b = torch.zeros(1,requires_grad=True,device=\"cuda\")\n",
    "\n",
    "optim = torch.optim.SGD([w,b],lr = 1e-2)\n",
    "\n",
    "loss = torch.nn.CrossEntropyLoss()\n",
    "\n",
    "epochs =100000"
   ]
  },
  {
   "cell_type": "code",
   "execution_count": 111,
   "metadata": {
    "colab": {
     "base_uri": "https://localhost:8080/"
    },
    "executionInfo": {
     "elapsed": 78380,
     "status": "ok",
     "timestamp": 1633933082579,
     "user": {
      "displayName": "김형찬",
      "photoUrl": "https://lh3.googleusercontent.com/a-/AOh14Gg6LQCDSZQ2OZSGwSClHlCqIPpq3Qo8j2E-mY7NWw=s64",
      "userId": "18092136259561212732"
     },
     "user_tz": -540
    },
    "id": "oLXUpN_37cvD",
    "outputId": "83b64712-c6c4-422d-f99e-b97021ced1ff"
   },
   "outputs": [
    {
     "name": "stdout",
     "output_type": "stream",
     "text": [
      "3.091043710708618\n",
      "0.859039843082428\n",
      "0.6116042733192444\n",
      "0.5020124912261963\n",
      "0.43615052103996277\n",
      "0.3908868730068207\n",
      "0.35735565423965454\n",
      "0.33129021525382996\n",
      "0.3103301525115967\n",
      "0.29304301738739014\n",
      "0.27849939465522766\n",
      "0.26606449484825134\n",
      "0.25529003143310547\n",
      "0.2458471804857254\n",
      "0.23749037086963654\n",
      "0.23003274202346802\n",
      "0.22332757711410522\n",
      "0.21726049482822418\n",
      "0.21173687279224396\n",
      "0.2066822052001953\n",
      "0.20203502476215363\n"
     ]
    }
   ],
   "source": [
    "for epoch in range(epochs+1):\n",
    "  optim.zero_grad()\n",
    "\n",
    "  h = x_train.matmul(w)+b\n",
    "  cost = loss(h,y_train)\n",
    "\n",
    "  cost.backward()\n",
    "  optim.step()\n",
    "  if epoch % 5000 == 0:\n",
    "    print(cost.item())"
   ]
  },
  {
   "cell_type": "code",
   "execution_count": 112,
   "metadata": {
    "executionInfo": {
     "elapsed": 19,
     "status": "ok",
     "timestamp": 1633933082580,
     "user": {
      "displayName": "김형찬",
      "photoUrl": "https://lh3.googleusercontent.com/a-/AOh14Gg6LQCDSZQ2OZSGwSClHlCqIPpq3Qo8j2E-mY7NWw=s64",
      "userId": "18092136259561212732"
     },
     "user_tz": -540
    },
    "id": "ExyoPjsv73k1"
   },
   "outputs": [],
   "source": [
    "with torch.no_grad():\n",
    "  predict = torch.softmax(x_test.matmul(w)+b,dim =1)\n",
    "  predict = torch.argmax(predict,dim =1)\n",
    "  predict = le.inverse_transform(predict.cpu().detach().numpy())"
   ]
  },
  {
   "cell_type": "code",
   "execution_count": 112,
   "metadata": {
    "executionInfo": {
     "elapsed": 18,
     "status": "ok",
     "timestamp": 1633933082581,
     "user": {
      "displayName": "김형찬",
      "photoUrl": "https://lh3.googleusercontent.com/a-/AOh14Gg6LQCDSZQ2OZSGwSClHlCqIPpq3Qo8j2E-mY7NWw=s64",
      "userId": "18092136259561212732"
     },
     "user_tz": -540
    },
    "id": "ATcOOhEH_o_k"
   },
   "outputs": [],
   "source": []
  }
 ],
 "metadata": {
  "accelerator": "GPU",
  "colab": {
   "authorship_tag": "ABX9TyM6VIWtkSFM6SO9yPYgania",
   "collapsed_sections": [],
   "mount_file_id": "1NJwQkp-g_3p74vzmqMzGHnMsbBev8lYv",
   "name": "[Week 4]작물종류예측하기.ipynb",
   "provenance": []
  },
  "kernelspec": {
   "display_name": "Python 3",
   "language": "python",
   "name": "python3"
  },
  "language_info": {
   "codemirror_mode": {
    "name": "ipython",
    "version": 3
   },
   "file_extension": ".py",
   "mimetype": "text/x-python",
   "name": "python",
   "nbconvert_exporter": "python",
   "pygments_lexer": "ipython3",
   "version": "3.8.10"
  }
 },
 "nbformat": 4,
 "nbformat_minor": 4
}
