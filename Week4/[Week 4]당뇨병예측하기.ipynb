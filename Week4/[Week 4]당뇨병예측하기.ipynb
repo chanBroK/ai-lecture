{
 "cells": [
  {
   "cell_type": "code",
   "execution_count": 2,
   "metadata": {
    "executionInfo": {
     "elapsed": 25776,
     "status": "ok",
     "timestamp": 1633929165600,
     "user": {
      "displayName": "김형찬",
      "photoUrl": "https://lh3.googleusercontent.com/a-/AOh14Gg6LQCDSZQ2OZSGwSClHlCqIPpq3Qo8j2E-mY7NWw=s64",
      "userId": "18092136259561212732"
     },
     "user_tz": -540
    },
    "id": "uHCYTMjffQCZ"
   },
   "outputs": [],
   "source": [
    "import numpy as np\n",
    "import pandas as pd\n",
    "import torch\n",
    "import sklearn"
   ]
  },
  {
   "cell_type": "code",
   "execution_count": 3,
   "metadata": {
    "colab": {
     "base_uri": "https://localhost:8080/"
    },
    "executionInfo": {
     "elapsed": 18,
     "status": "ok",
     "timestamp": 1633929165601,
     "user": {
      "displayName": "김형찬",
      "photoUrl": "https://lh3.googleusercontent.com/a-/AOh14Gg6LQCDSZQ2OZSGwSClHlCqIPpq3Qo8j2E-mY7NWw=s64",
      "userId": "18092136259561212732"
     },
     "user_tz": -540
    },
    "id": "30DfDo7pgp8F",
    "outputId": "a7b1bd09-80f3-4a22-ca96-bc0a0d62acaa"
   },
   "outputs": [
    {
     "data": {
      "text/plain": [
       "<torch._C.Generator at 0x7f358544a9b0>"
      ]
     },
     "execution_count": 3,
     "metadata": {},
     "output_type": "execute_result"
    }
   ],
   "source": [
    "torch.manual_seed(1)"
   ]
  },
  {
   "cell_type": "code",
   "execution_count": 4,
   "metadata": {
    "colab": {
     "base_uri": "https://localhost:8080/"
    },
    "executionInfo": {
     "elapsed": 975,
     "status": "ok",
     "timestamp": 1633929166909,
     "user": {
      "displayName": "김형찬",
      "photoUrl": "https://lh3.googleusercontent.com/a-/AOh14Gg6LQCDSZQ2OZSGwSClHlCqIPpq3Qo8j2E-mY7NWw=s64",
      "userId": "18092136259561212732"
     },
     "user_tz": -540
    },
    "id": "bVZ7tUDXgzOH",
    "outputId": "ca42b5f7-3b27-4dc8-defe-5741032b8655"
   },
   "outputs": [
    {
     "name": "stdout",
     "output_type": "stream",
     "text": [
      "   Pregnancies  Glucose  BloodPressure  ...  DiabetesPedigreeFunction  Age  Diabetes\n",
      "0            1       95             60  ...                     0.260   22         0\n",
      "1            5      105             72  ...                     0.159   28         0\n",
      "2            0      135             68  ...                     0.365   24         1\n",
      "3            4      131             68  ...                     0.160   28         0\n",
      "4            1      103             30  ...                     0.183   33         0\n",
      "\n",
      "[5 rows x 9 columns]\n",
      "   Pregnancies  Glucose  BloodPressure  ...   BMI  DiabetesPedigreeFunction  Age\n",
      "0            6       98             58  ...  34.0                     0.430   43\n",
      "1            2      112             75  ...  35.7                     0.148   21\n",
      "2            2      108             64  ...  30.8                     0.158   21\n",
      "3            8      107             80  ...  24.6                     0.856   34\n",
      "4            7      136             90  ...  29.9                     0.210   50\n",
      "\n",
      "[5 rows x 8 columns]\n",
      "   ID  Diabetes\n",
      "0   0         0\n",
      "1   1         0\n",
      "2   2         0\n",
      "3   3         0\n",
      "4   4         0\n"
     ]
    }
   ],
   "source": [
    "train_df = pd.read_csv(\"drive/MyDrive/Colab Notebooks/data_sample/2021-ai-w4-p1/train.csv\")\n",
    "test_df = pd.read_csv(\"drive/MyDrive/Colab Notebooks/data_sample/2021-ai-w4-p1/test.csv\")\n",
    "submit_df = pd.read_csv(\"drive/MyDrive/Colab Notebooks/data_sample/2021-ai-w4-p1/submit.csv\")\n",
    "print(train_df.head())\n",
    "print(test_df.head())\n",
    "print(submit_df.head())"
   ]
  },
  {
   "cell_type": "code",
   "execution_count": 5,
   "metadata": {
    "executionInfo": {
     "elapsed": 14535,
     "status": "ok",
     "timestamp": 1633929181441,
     "user": {
      "displayName": "김형찬",
      "photoUrl": "https://lh3.googleusercontent.com/a-/AOh14Gg6LQCDSZQ2OZSGwSClHlCqIPpq3Qo8j2E-mY7NWw=s64",
      "userId": "18092136259561212732"
     },
     "user_tz": -540
    },
    "id": "DygunOgOhC4c"
   },
   "outputs": [],
   "source": [
    "# preprocessing \n",
    "train_x = np.array(train_df.drop(['Diabetes'],axis=1))\n",
    "train_y = np.array(train_df['Diabetes'])\n",
    "test_x =  np.array(test_df)\n",
    "\n",
    "from sklearn.preprocessing import StandardScaler\n",
    "scaler = StandardScaler()\n",
    "train_x=scaler.fit_transform(train_x)\n",
    "test_x= scaler.transform(test_x)\n",
    "\n",
    "\n",
    "train_x = torch.Tensor(train_x).cuda()\n",
    "# 0,1 sigmoid 는 float Tensor 이용\n",
    "train_y = torch.Tensor(train_y).unsqueeze(1).cuda()\n",
    "test_x = torch.Tensor(test_x).cuda()"
   ]
  },
  {
   "cell_type": "code",
   "execution_count": 7,
   "metadata": {
    "executionInfo": {
     "elapsed": 209,
     "status": "ok",
     "timestamp": 1633929185492,
     "user": {
      "displayName": "김형찬",
      "photoUrl": "https://lh3.googleusercontent.com/a-/AOh14Gg6LQCDSZQ2OZSGwSClHlCqIPpq3Qo8j2E-mY7NWw=s64",
      "userId": "18092136259561212732"
     },
     "user_tz": -540
    },
    "id": "keRDRrtvhZsJ"
   },
   "outputs": [],
   "source": [
    "w = torch.zeros((8,1),requires_grad=True,device=\"cuda\")\n",
    "b = torch.zeros(1,requires_grad=True,device=\"cuda\")\n",
    "\n",
    "optim = torch.optim.SGD([w,b],lr = 1e-3)\n",
    "\n",
    "epochs = 10000\n",
    "\n",
    "loss = torch.nn.BCELoss()\n"
   ]
  },
  {
   "cell_type": "code",
   "execution_count": 8,
   "metadata": {
    "colab": {
     "base_uri": "https://localhost:8080/"
    },
    "executionInfo": {
     "elapsed": 8651,
     "status": "ok",
     "timestamp": 1633929196726,
     "user": {
      "displayName": "김형찬",
      "photoUrl": "https://lh3.googleusercontent.com/a-/AOh14Gg6LQCDSZQ2OZSGwSClHlCqIPpq3Qo8j2E-mY7NWw=s64",
      "userId": "18092136259561212732"
     },
     "user_tz": -540
    },
    "id": "D-G6NzRkiUMA",
    "outputId": "4b701768-8695-47ee-8f09-23843bc43696"
   },
   "outputs": [
    {
     "name": "stdout",
     "output_type": "stream",
     "text": [
      "0.6931471824645996\n",
      "0.5982561111450195\n",
      "0.5515334606170654\n",
      "0.5249934196472168\n",
      "0.5082526206970215\n",
      "0.49690964818000793\n",
      "0.48883306980133057\n",
      "0.4828740060329437\n",
      "0.478359580039978\n",
      "0.47486943006515503\n",
      "0.4721274673938751\n"
     ]
    }
   ],
   "source": [
    "for epoch in range(epochs+1):\n",
    "  optim.zero_grad()\n",
    "\n",
    "  h = torch.sigmoid(train_x.matmul(w) +b)\n",
    "  cost = loss(h,train_y)\n",
    "\n",
    "  cost.backward()\n",
    "  optim.step()\n",
    "  if epoch % 1000 == 0:\n",
    "    print(cost.item())"
   ]
  },
  {
   "cell_type": "code",
   "execution_count": 9,
   "metadata": {
    "colab": {
     "base_uri": "https://localhost:8080/",
     "height": 204
    },
    "executionInfo": {
     "elapsed": 37,
     "status": "ok",
     "timestamp": 1633929196739,
     "user": {
      "displayName": "김형찬",
      "photoUrl": "https://lh3.googleusercontent.com/a-/AOh14Gg6LQCDSZQ2OZSGwSClHlCqIPpq3Qo8j2E-mY7NWw=s64",
      "userId": "18092136259561212732"
     },
     "user_tz": -540
    },
    "id": "JZzltuwtkW7m",
    "outputId": "3b928280-65d3-4da1-f211-37d64400759f"
   },
   "outputs": [
    {
     "data": {
      "text/html": [
       "<div>\n",
       "<style scoped>\n",
       "    .dataframe tbody tr th:only-of-type {\n",
       "        vertical-align: middle;\n",
       "    }\n",
       "\n",
       "    .dataframe tbody tr th {\n",
       "        vertical-align: top;\n",
       "    }\n",
       "\n",
       "    .dataframe thead th {\n",
       "        text-align: right;\n",
       "    }\n",
       "</style>\n",
       "<table border=\"1\" class=\"dataframe\">\n",
       "  <thead>\n",
       "    <tr style=\"text-align: right;\">\n",
       "      <th></th>\n",
       "      <th>ID</th>\n",
       "      <th>Diabetes</th>\n",
       "    </tr>\n",
       "  </thead>\n",
       "  <tbody>\n",
       "    <tr>\n",
       "      <th>0</th>\n",
       "      <td>0</td>\n",
       "      <td>0</td>\n",
       "    </tr>\n",
       "    <tr>\n",
       "      <th>1</th>\n",
       "      <td>1</td>\n",
       "      <td>0</td>\n",
       "    </tr>\n",
       "    <tr>\n",
       "      <th>2</th>\n",
       "      <td>2</td>\n",
       "      <td>0</td>\n",
       "    </tr>\n",
       "    <tr>\n",
       "      <th>3</th>\n",
       "      <td>3</td>\n",
       "      <td>0</td>\n",
       "    </tr>\n",
       "    <tr>\n",
       "      <th>4</th>\n",
       "      <td>4</td>\n",
       "      <td>1</td>\n",
       "    </tr>\n",
       "  </tbody>\n",
       "</table>\n",
       "</div>"
      ],
      "text/plain": [
       "   ID  Diabetes\n",
       "0   0         0\n",
       "1   1         0\n",
       "2   2         0\n",
       "3   3         0\n",
       "4   4         1"
      ]
     },
     "execution_count": 9,
     "metadata": {},
     "output_type": "execute_result"
    }
   ],
   "source": [
    "with torch.no_grad():\n",
    "  predict = torch.sigmoid(test_x.matmul(w) + b)\n",
    "predict = (predict >= torch.Tensor([0.5]).cuda()).int()\n",
    "\n",
    "submit_df['Diabetes'] = predict.cpu().detach().numpy()\n",
    "submit_df.head()"
   ]
  },
  {
   "cell_type": "code",
   "execution_count": 11,
   "metadata": {
    "colab": {
     "base_uri": "https://localhost:8080/"
    },
    "executionInfo": {
     "elapsed": 209,
     "status": "ok",
     "timestamp": 1633929222543,
     "user": {
      "displayName": "김형찬",
      "photoUrl": "https://lh3.googleusercontent.com/a-/AOh14Gg6LQCDSZQ2OZSGwSClHlCqIPpq3Qo8j2E-mY7NWw=s64",
      "userId": "18092136259561212732"
     },
     "user_tz": -540
    },
    "id": "Rqn2fm9Rk_bp",
    "outputId": "07e85990-7071-4d9c-f551-3804fd6f8559"
   },
   "outputs": [
    {
     "name": "stdout",
     "output_type": "stream",
     "text": [
      "0.7839851024208566\n"
     ]
    }
   ],
   "source": [
    "with torch.no_grad():\n",
    "  h = torch.sigmoid(train_x.matmul(w)+b)\n",
    "h = (h >= torch.Tensor([0.5]).cuda()).int()\n",
    "h = h == train_y\n",
    "print(h.sum().item()/len(train_y))"
   ]
  },
  {
   "cell_type": "code",
   "execution_count": null,
   "metadata": {
    "executionInfo": {
     "elapsed": 19,
     "status": "aborted",
     "timestamp": 1633929181444,
     "user": {
      "displayName": "김형찬",
      "photoUrl": "https://lh3.googleusercontent.com/a-/AOh14Gg6LQCDSZQ2OZSGwSClHlCqIPpq3Qo8j2E-mY7NWw=s64",
      "userId": "18092136259561212732"
     },
     "user_tz": -540
    },
    "id": "LIpfd_cXxAlr"
   },
   "outputs": [],
   "source": []
  }
 ],
 "metadata": {
  "accelerator": "GPU",
  "colab": {
   "authorship_tag": "ABX9TyORvo2VK5vCBXI2f1pqM3eL",
   "mount_file_id": "1-rEON5dlQ6ELWy2OBqkIFXJMgEiDgtyU",
   "name": "[Week 4]당뇨병예측하기.ipynb",
   "provenance": []
  },
  "kernelspec": {
   "display_name": "Python 3",
   "language": "python",
   "name": "python3"
  },
  "language_info": {
   "codemirror_mode": {
    "name": "ipython",
    "version": 3
   },
   "file_extension": ".py",
   "mimetype": "text/x-python",
   "name": "python",
   "nbconvert_exporter": "python",
   "pygments_lexer": "ipython3",
   "version": "3.8.10"
  }
 },
 "nbformat": 4,
 "nbformat_minor": 4
}
