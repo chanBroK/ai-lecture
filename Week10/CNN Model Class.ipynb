{
 "cells": [
  {
   "cell_type": "code",
   "execution_count": 1,
   "id": "597bfd0c-cbee-4a65-8305-e50b60086965",
   "metadata": {},
   "outputs": [],
   "source": [
    "import torch"
   ]
  },
  {
   "cell_type": "code",
   "execution_count": null,
   "id": "0a9273f7-1dc0-44b6-b4da-2509f1b6297d",
   "metadata": {},
   "outputs": [],
   "source": [
    "class CNN(torch.nn.Module):\n",
    "  def __init__(self):\n",
    "    super(CNN,self).__init__() # 이부분 빼먹기 쉬운데 조심할 것\n",
    "\n",
    "    self.layer1 = torch.nn.Sequential(\n",
    "        # kernel_size, stride이 정수일 경우 정방형(정사각형)\n",
    "        # 정방형이 아니라면 Tuple (3,2)로 파라미터를 주면 됨.\n",
    "        torch.nn.Conv2d(1,32,kernel_size=3,stride=1,padding=1),\n",
    "        torch.nn.ReLU(),\n",
    "        torch.nn.MaxPool2d(kernel_size=2,stride=2)\n",
    "    )\n",
    "\n",
    "    self.layer2 = torch.nn.Sequential(\n",
    "        torch.nn.Conv2d(32,64,kernel_size=3,stride=1,padding=1),\n",
    "        torch.nn.ReLU(),\n",
    "        torch.nn.MaxPool2d(kernel_size=2,stride=2)\n",
    "    ) \n",
    "\n",
    "    self.fc = torch.nn.Linear(7*7*64,10,bias=True)\n",
    "    torch.nn.init.kaiming_uniform(self.fc.weight)\n",
    "\n",
    "  def forward(self,x):\n",
    "    out = self.layer1(x)\n",
    "    out = self.layer2(out)\n",
    "    out = out.view(out.size(0),-1)     # out = Batch x 7 x 7 x 64\n",
    "    out = self.fc(out)\n",
    "    return out"
   ]
  }
 ],
 "metadata": {
  "kernelspec": {
   "display_name": "Python 3",
   "language": "python",
   "name": "python3"
  },
  "language_info": {
   "codemirror_mode": {
    "name": "ipython",
    "version": 3
   },
   "file_extension": ".py",
   "mimetype": "text/x-python",
   "name": "python",
   "nbconvert_exporter": "python",
   "pygments_lexer": "ipython3",
   "version": "3.8.10"
  }
 },
 "nbformat": 4,
 "nbformat_minor": 5
}
