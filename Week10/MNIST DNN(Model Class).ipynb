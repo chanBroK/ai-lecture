{
 "cells": [
  {
   "cell_type": "code",
   "execution_count": 1,
   "id": "86ae24bf-8998-48f9-b20a-94ae2d702a92",
   "metadata": {},
   "outputs": [],
   "source": [
    "import numpy as np\n",
    "import pandas as pd"
   ]
  },
  {
   "cell_type": "code",
   "execution_count": 2,
   "id": "d73a58c1-c23c-49e2-acb8-f32b0c4d9c6c",
   "metadata": {},
   "outputs": [
    {
     "data": {
      "text/plain": [
       "'cuda'"
      ]
     },
     "execution_count": 2,
     "metadata": {},
     "output_type": "execute_result"
    }
   ],
   "source": [
    "import torch\n",
    "import sklearn\n",
    "import random\n",
    "\n",
    "device = \"cuda\" if torch.cuda.is_available() else \"cpu\"\n",
    "device"
   ]
  },
  {
   "cell_type": "code",
   "execution_count": 3,
   "id": "6b0d0f0b-6a5f-4568-918a-2a435d9d557e",
   "metadata": {},
   "outputs": [],
   "source": [
    "# setting seed\n",
    "torch.manual_seed(1)\n",
    "if device == \"cuda\":\n",
    "    torch.cuda.manual_seed_all(1)\n",
    "random.seed(1)"
   ]
  },
  {
   "cell_type": "code",
   "execution_count": 12,
   "id": "db7a86fa-af38-4423-beb4-547125b2ec42",
   "metadata": {},
   "outputs": [
    {
     "name": "stdout",
     "output_type": "stream",
     "text": [
      "<class 'pandas.core.frame.DataFrame'>\n",
      "RangeIndex: 60000 entries, 0 to 59999\n",
      "Columns: 785 entries, Category to 28x28\n",
      "dtypes: int64(785)\n",
      "memory usage: 359.3 MB\n",
      "None\n",
      "   Id  Category\n",
      "0   0         0\n",
      "1   1         0\n",
      "2   2         0\n",
      "3   3         0\n",
      "4   4         0\n",
      "   Category  1x1  1x2  1x3  1x4  1x5  1x6  1x7  1x8  1x9  ...  28x19  28x20  \\\n",
      "0         5    0    0    0    0    0    0    0    0    0  ...      0      0   \n",
      "1         0    0    0    0    0    0    0    0    0    0  ...      0      0   \n",
      "2         3    0    0    0    0    0    0    0    0    0  ...      0      0   \n",
      "3         3    0    0    0    0    0    0    0    0    0  ...      0      0   \n",
      "4         6    0    0    0    0    0    0    0    0    0  ...      0      0   \n",
      "\n",
      "   28x21  28x22  28x23  28x24  28x25  28x26  28x27  28x28  \n",
      "0      0      0      0      0      0      0      0      0  \n",
      "1      0      0      0      0      0      0      0      0  \n",
      "2      0      0      0      0      0      0      0      0  \n",
      "3      0      0      0      0      0      0      0      0  \n",
      "4      0      0      0      0      0      0      0      0  \n",
      "\n",
      "[5 rows x 785 columns]\n"
     ]
    }
   ],
   "source": [
    "# load data \n",
    "train = pd.read_csv(\"./2021-ai-w10-p1/train.csv\")\n",
    "test = pd.read_csv(\"./2021-ai-w10-p1/test.csv\")\n",
    "submission = pd.read_csv(\"./2021-ai-w10-p1/sample_submit.csv\")\n",
    "\n",
    "print(train.info())\n",
    "print(submission.head())\n",
    "print(train.head())"
   ]
  },
  {
   "cell_type": "code",
   "execution_count": 5,
   "id": "fbe8e132-ec38-40fb-b346-acac75ad1700",
   "metadata": {},
   "outputs": [],
   "source": [
    "# data preprocessing\n",
    "\n",
    "# data scaling\n",
    "from sklearn.preprocessing import MinMaxScaler\n",
    "scaler = MinMaxScaler()\n",
    "\n",
    "y_train = np.array(train['Category'])\n",
    "x_train = np.array(train.drop(['Category'],axis=1))\n",
    "x_test = np.array(test)\n",
    "\n",
    "x_train = scaler.fit_transform(x_train)\n",
    "x_test = scaler.transform(x_test)"
   ]
  },
  {
   "cell_type": "code",
   "execution_count": 6,
   "id": "acaf512a-c65f-42fe-a998-a820b29c294a",
   "metadata": {},
   "outputs": [
    {
     "name": "stdout",
     "output_type": "stream",
     "text": [
      "torch.Size([60000, 784]) torch.Size([10000, 784])\n",
      "torch.Size([60000])\n"
     ]
    }
   ],
   "source": [
    "# set data on Tensor\n",
    "x_train = torch.Tensor(x_train).to(device)\n",
    "y_train = torch.LongTensor(y_train).to(device)\n",
    "x_test = torch.Tensor(x_test).to(device)\n",
    "\n",
    "print(x_train.shape, x_test.shape)\n",
    "print(y_train.shape)"
   ]
  },
  {
   "cell_type": "code",
   "execution_count": 7,
   "id": "d492a5ff-5ebb-4a89-8b58-51e50b1a09b3",
   "metadata": {},
   "outputs": [],
   "source": [
    "# set Tensor on Dataset\n",
    "train_dataset = torch.utils.data.TensorDataset(x_train,y_train)"
   ]
  },
  {
   "cell_type": "code",
   "execution_count": 8,
   "id": "3081d01b-5853-460f-beda-6725f3f26c1b",
   "metadata": {},
   "outputs": [],
   "source": [
    "# define Model Class\n",
    "class Model(torch.nn.Module):\n",
    "    def __init__(self):\n",
    "        super(Model,self).__init__()\n",
    "        \n",
    "        # setting layer\n",
    "        self.linear1 = torch.nn.Linear(784,512,bias=True)\n",
    "        self.linear2 = torch.nn.Linear(512,512,bias=True)\n",
    "        self.linear3 = torch.nn.Linear(512,256,bias=True)\n",
    "        self.linear4 = torch.nn.Linear(256,128,bias=True)\n",
    "        self.linear5 = torch.nn.Linear(128,10,bias=True)\n",
    "        self.relu = torch.nn.ReLU()\n",
    "        self.dropout = torch.nn.Dropout(0.3)\n",
    "        \n",
    "        # setting Model\n",
    "        self.model = torch.nn.Sequential(self.linear1,self.relu,self.dropout,\n",
    "                                        self.linear2,self.relu,self.dropout,\n",
    "                                        self.linear3,self.relu,self.dropout,\n",
    "                                        self.linear4,self.relu,self.dropout,\n",
    "                                        self.linear5).to(device)\n",
    "    def forward(self,x):\n",
    "        return self.model(x)\n",
    "\n",
    "model = Model().to(device)"
   ]
  },
  {
   "cell_type": "code",
   "execution_count": 9,
   "id": "6dad4589-56f2-43bc-93f8-cdc6651b7d00",
   "metadata": {},
   "outputs": [],
   "source": [
    "# setting param, optim, cost function,dataloader\n",
    "from torch.utils.data import DataLoader\n",
    "\n",
    "lr = 1e-3\n",
    "batch_size = 500\n",
    "optim = torch.optim.Adam(model.parameters(), lr=lr)\n",
    "data_loader = DataLoader(dataset=train_dataset, batch_size = batch_size, shuffle=True)\n",
    "epochs = 100\n",
    "loss = torch.nn.CrossEntropyLoss()"
   ]
  },
  {
   "cell_type": "code",
   "execution_count": 10,
   "id": "0d5e4f09-b4d8-4b5f-b3a0-34cddd855696",
   "metadata": {},
   "outputs": [
    {
     "name": "stdout",
     "output_type": "stream",
     "text": [
      "0 0.6367560704549153 0.9453666806221008\n",
      "10 0.012918882568677266 0.9964333176612854\n",
      "20 0.002262988438208898 0.9977499842643738\n",
      "30 0.005428010722001394 0.9992166757583618\n",
      "40 0.0042152936259905495 0.9990500211715698\n",
      "50 0.002635428806145986 0.9998166561126709\n",
      "60 0.0008558095122377078 0.9998500347137451\n",
      "70 0.005034990608692169 0.9991000294685364\n",
      "80 9.719131048768758e-06 1.0\n",
      "90 1.7754050835113353e-06 1.0\n",
      "100 6.651992104404296e-07 1.0\n"
     ]
    }
   ],
   "source": [
    "# learning\n",
    "model.train()\n",
    "for epoch in range(epochs+1):\n",
    "    sum_cost = 0\n",
    "    for x,y in data_loader:\n",
    "        h = model(x)\n",
    "        cost = loss(h,y)\n",
    "        \n",
    "        optim.zero_grad()\n",
    "        cost.backward()\n",
    "        optim.step()\n",
    "        sum_cost += cost\n",
    "    if epoch % (epochs/10) == 0 :\n",
    "        model.eval()\n",
    "        predict = model(x_train)\n",
    "        predict = torch.argmax(predict,dim=1)\n",
    "        acc = predict == y_train\n",
    "        acc = acc.float().mean().cpu().detach().item()\n",
    "        print(epoch,sum_cost.item()/len(data_loader),acc)"
   ]
  },
  {
   "cell_type": "code",
   "execution_count": 14,
   "id": "b37d2a3f-aa27-4039-acba-f65648c8a3ae",
   "metadata": {},
   "outputs": [
    {
     "name": "stdout",
     "output_type": "stream",
     "text": [
      "        Id  Category\n",
      "0        0         6\n",
      "1        1         1\n",
      "2        2         0\n",
      "3        3         0\n",
      "4        4         9\n",
      "...    ...       ...\n",
      "9995  9995         3\n",
      "9996  9996         7\n",
      "9997  9997         2\n",
      "9998  9998         8\n",
      "9999  9999         3\n",
      "\n",
      "[10000 rows x 2 columns]\n"
     ]
    }
   ],
   "source": [
    "with torch.no_grad():\n",
    "    model.eval()\n",
    "    predict = model(x_test)\n",
    "    predict = torch.argmax(predict,dim=1)\n",
    "    submission['Category'] = predict.cpu().detach()\n",
    "    print(submission)\n",
    "    submission.to_csv(\"submission.csv\",index=False)"
   ]
  },
  {
   "cell_type": "code",
   "execution_count": null,
   "id": "f0d84bdd-a0a9-4896-931f-2b8365b4941f",
   "metadata": {},
   "outputs": [],
   "source": []
  },
  {
   "cell_type": "code",
   "execution_count": null,
   "id": "4af9733d-8fa0-4663-ab5c-e69f25207166",
   "metadata": {},
   "outputs": [],
   "source": []
  }
 ],
 "metadata": {
  "kernelspec": {
   "display_name": "Python 3 (ipykernel)",
   "language": "python",
   "name": "python3"
  },
  "language_info": {
   "codemirror_mode": {
    "name": "ipython",
    "version": 3
   },
   "file_extension": ".py",
   "mimetype": "text/x-python",
   "name": "python",
   "nbconvert_exporter": "python",
   "pygments_lexer": "ipython3",
   "version": "3.9.6"
  }
 },
 "nbformat": 4,
 "nbformat_minor": 5
}
