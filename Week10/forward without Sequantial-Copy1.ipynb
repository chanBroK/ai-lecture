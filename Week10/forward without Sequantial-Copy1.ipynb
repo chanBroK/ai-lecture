{
 "cells": [
  {
   "cell_type": "code",
   "execution_count": 1,
   "id": "597bfd0c-cbee-4a65-8305-e50b60086965",
   "metadata": {},
   "outputs": [],
   "source": [
    "import torch"
   ]
  },
  {
   "cell_type": "code",
   "execution_count": null,
   "id": "0a9273f7-1dc0-44b6-b4da-2509f1b6297d",
   "metadata": {},
   "outputs": [],
   "source": [
    "class Model(torch.nn.Model):\n",
    "    def __init__(self):\n",
    "        super(Model,self).__init__()\n",
    "        \n",
    "        self.linear1 = torch.nn.Linear(784,512,bias=True)\n",
    "        self.linear2 = torch.nn.Linear(512,512,bias=True)\n",
    "        self.linear3 = torch.nn.Linear(512,512,bias=True)\n",
    "        self.linear4 = torch.nn.Linear(512,512,bias=True)\n",
    "        self.linear5 = torch.nn.Linear(512,10,bias=True)\n",
    "        self.relu = torch.nn.ReLU()\n",
    "\n",
    "        torch.nn.init.xavier_uniform_(self.linear1.weight)\n",
    "        torch.nn.init.xavier_uniform_(self.linear2.weight)\n",
    "        torch.nn.init.xavier_uniform_(self.linear3.weight)\n",
    "        torch.nn.init.xavier_uniform_(self.linear4.weight)\n",
    "        torch.nn.init.xavier_uniform_(self.linear5.weight)\n",
    "\n",
    "  def forward(self,x):\n",
    "    out = self.linear1(x)\n",
    "    out = self.relu(out)\n",
    "    out = self.linear2(out)\n",
    "    out = self.relu(out)\n",
    "    out = self.linear3(out)\n",
    "    out = self.relu(out)\n",
    "    out = self.linear4(out)\n",
    "    out = self.relu(out)\n",
    "    out = self.linear5(out)\n",
    "    return out\n",
    "\n",
    "\n",
    "model = NN().to(device)"
   ]
  }
 ],
 "metadata": {
  "kernelspec": {
   "display_name": "Python 3 (ipykernel)",
   "language": "python",
   "name": "python3"
  },
  "language_info": {
   "codemirror_mode": {
    "name": "ipython",
    "version": 3
   },
   "file_extension": ".py",
   "mimetype": "text/x-python",
   "name": "python",
   "nbconvert_exporter": "python",
   "pygments_lexer": "ipython3",
   "version": "3.9.6"
  }
 },
 "nbformat": 4,
 "nbformat_minor": 5
}
