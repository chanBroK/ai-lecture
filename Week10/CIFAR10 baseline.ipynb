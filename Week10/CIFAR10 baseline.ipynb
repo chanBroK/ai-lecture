{
 "cells": [
  {
   "cell_type": "code",
   "execution_count": 1,
   "id": "86ae24bf-8998-48f9-b20a-94ae2d702a92",
   "metadata": {},
   "outputs": [],
   "source": [
    "import numpy as np\n",
    "import pandas as pd"
   ]
  },
  {
   "cell_type": "code",
   "execution_count": 2,
   "id": "d73a58c1-c23c-49e2-acb8-f32b0c4d9c6c",
   "metadata": {},
   "outputs": [
    {
     "data": {
      "text/plain": [
       "'cuda'"
      ]
     },
     "execution_count": 2,
     "metadata": {},
     "output_type": "execute_result"
    }
   ],
   "source": [
    "import torch\n",
    "import random\n",
    "import torchvision\n",
    "from tqdm import tqdm\n",
    "import os\n",
    "from PIL import Image\n",
    "from glob import glob\n",
    "device = \"cuda\" if torch.cuda.is_available() else \"cpu\"\n",
    "device"
   ]
  },
  {
   "cell_type": "code",
   "execution_count": 3,
   "id": "6b0d0f0b-6a5f-4568-918a-2a435d9d557e",
   "metadata": {},
   "outputs": [],
   "source": [
    "# setting seed\n",
    "torch.manual_seed(1)\n",
    "if device == \"cuda\":\n",
    "    torch.cuda.manual_seed_all(1)\n",
    "random.seed(1)"
   ]
  },
  {
   "cell_type": "code",
   "execution_count": 4,
   "id": "e9e3d873-964b-4132-9904-487b9b5c34e5",
   "metadata": {},
   "outputs": [],
   "source": [
    "# set data path\n",
    "train_dir_path = \"./2021-ai-w10-p2/images/images\"\n",
    "test_dir_path = \"./2021-ai-w10-p2/test_data/test_data\"\n",
    "submission_csv_path = \"./2021-ai-w10-p2/format.csv\""
   ]
  },
  {
   "cell_type": "code",
   "execution_count": 27,
   "id": "485bddec-07fc-437f-98fd-e299fae20606",
   "metadata": {},
   "outputs": [],
   "source": [
    "# define custom dataset\n",
    "class MyDataset(torch.utils.data.Dataset):\n",
    "    def __init__(self,dir_path,split,transform = None):\n",
    "        self.split = split\n",
    "        self.tranform = transform\n",
    "        if self.split == \"train\":\n",
    "            self.data_path = glob(os.path.join(dir_path,\"*\",\"*\"))\n",
    "            self.data_path = [x.replace(\"\\\\\",'/') for x in self.data_path]\n",
    "            self.label = [int(x.split('/')[-2]) for x in self.data_path]\n",
    "        else:\n",
    "            self.data_path = glob(os.path.join(dir_path,\"*\"))\n",
    "            # 정렬을 위해\n",
    "            self.data_path = [dir_path+\"/\"+str(x)+\".png\" for x in range(len(self.data_path))]\n",
    "        self.len = len(self.data_path)\n",
    "    \n",
    "    def __len__(self):\n",
    "        return self.len\n",
    "    \n",
    "    def __getitem__(self,index):\n",
    "        img = Image.open(self.data_path[index])\n",
    "        img = transform(img)\n",
    "        if self.split == \"train\":\n",
    "            return img, torch.LongTensor([self.label[index]])\n",
    "        else:\n",
    "            return img"
   ]
  },
  {
   "cell_type": "code",
   "execution_count": 6,
   "id": "10c7d2fc-8c14-4abd-8160-a1c5b38b411b",
   "metadata": {},
   "outputs": [],
   "source": [
    "# use transforms\n",
    "import torchvision.transforms as transforms\n",
    "transform = transforms.Compose([transforms.Resize((224,224)),transforms.ToTensor(),transforms.Normalize((0.5,0.5,0.5),(0.5,0.5,0.5))])"
   ]
  },
  {
   "cell_type": "code",
   "execution_count": 7,
   "id": "cbb4062a-9697-46b9-b131-d70c2e11a036",
   "metadata": {},
   "outputs": [],
   "source": [
    "train_dataset = MyDataset(train_dir_path,\"train\",transform)"
   ]
  },
  {
   "cell_type": "code",
   "execution_count": 8,
   "id": "914fe03c-8e52-4a9e-90f8-08994293b1c3",
   "metadata": {},
   "outputs": [],
   "source": [
    "x,y = train_dataset.__getitem__(33334)"
   ]
  },
  {
   "cell_type": "code",
   "execution_count": 9,
   "id": "ff4bf528-360c-4bd1-ab3d-cbf6b93e3d98",
   "metadata": {
    "tags": []
   },
   "outputs": [],
   "source": [
    "model = torchvision.models.googlenet(pretrained=True)\n",
    "\n",
    "# freezing\n",
    "# for param in model.parameters():\n",
    "#     param.requires_grad = False\n",
    "\n",
    "model.fc = torch.nn.Linear(in_features=1024, out_features=10, bias=True).to(device)\n",
    "\n",
    "torch.nn.init.xavier_normal_(model.fc.weight)\n",
    "\n",
    "model = model.to(device)\n",
    "# print(model)"
   ]
  },
  {
   "cell_type": "code",
   "execution_count": 10,
   "id": "6dad4589-56f2-43bc-93f8-cdc6651b7d00",
   "metadata": {},
   "outputs": [],
   "source": [
    "# setting param, optim, cost function,dataloader\n",
    "from torch.utils.data import DataLoader\n",
    "\n",
    "lr = 1e-3\n",
    "batch_size = 50\n",
    "optim = torch.optim.Adam(model.parameters(), lr=lr)\n",
    "train_data_loader = DataLoader(dataset=train_dataset, batch_size=batch_size, shuffle=True)\n",
    "epochs = 10\n",
    "loss = torch.nn.CrossEntropyLoss()"
   ]
  },
  {
   "cell_type": "code",
   "execution_count": 11,
   "id": "1c0b04f0-7750-4811-bc30-aa1db714cdc0",
   "metadata": {},
   "outputs": [],
   "source": [
    "def train_model(model, data_loader, optim):\n",
    "    sum_cost = 0\n",
    "    sum_acc = 0\n",
    "    for x, y in tqdm(data_loader):\n",
    "        x = x.to(device)\n",
    "        y = y.to(device).view(-1)\n",
    "        model.train()\n",
    "        output = model(x)\n",
    "        cost = loss(output, y)\n",
    "        optim.zero_grad()\n",
    "        cost.backward()\n",
    "        optim.step()\n",
    "        sum_cost += cost.item()\n",
    "        model.eval()\n",
    "        predict = model(x)\n",
    "        predict = torch.argmax(predict,dim=1)\n",
    "        acc = predict == y\n",
    "        sum_acc += acc.sum().item()\n",
    "    return sum_cost,sum_acc"
   ]
  },
  {
   "cell_type": "code",
   "execution_count": 12,
   "id": "0d5e4f09-b4d8-4b5f-b3a0-34cddd855696",
   "metadata": {},
   "outputs": [
    {
     "name": "stderr",
     "output_type": "stream",
     "text": [
      "  0%|                                                                                         | 0/1000 [00:00<?, ?it/s]c:\\python39\\lib\\site-packages\\torch\\nn\\functional.py:718: UserWarning: Named tensors and all their associated APIs are an experimental feature and subject to change. Please do not use them for anything important until they are released as stable. (Triggered internally at  ..\\c10/core/TensorImpl.h:1156.)\n",
      "  return torch.max_pool2d(input, kernel_size, stride, padding, dilation, ceil_mode)\n",
      "100%|██████████████████████████████████████████████████████████████████████████████| 1000/1000 [02:10<00:00,  7.67it/s]\n"
     ]
    },
    {
     "name": "stdout",
     "output_type": "stream",
     "text": [
      "0 0.010512616210430861 0.86682\n"
     ]
    },
    {
     "name": "stderr",
     "output_type": "stream",
     "text": [
      "100%|██████████████████████████████████████████████████████████████████████████████| 1000/1000 [02:09<00:00,  7.72it/s]\n"
     ]
    },
    {
     "name": "stdout",
     "output_type": "stream",
     "text": [
      "1 0.00637860158264637 0.935\n"
     ]
    },
    {
     "name": "stderr",
     "output_type": "stream",
     "text": [
      "100%|██████████████████████████████████████████████████████████████████████████████| 1000/1000 [02:09<00:00,  7.72it/s]\n"
     ]
    },
    {
     "name": "stdout",
     "output_type": "stream",
     "text": [
      "2 0.005025877175368369 0.95362\n"
     ]
    },
    {
     "name": "stderr",
     "output_type": "stream",
     "text": [
      "100%|██████████████████████████████████████████████████████████████████████████████| 1000/1000 [02:10<00:00,  7.68it/s]\n"
     ]
    },
    {
     "name": "stdout",
     "output_type": "stream",
     "text": [
      "3 0.004043181913755834 0.96672\n"
     ]
    },
    {
     "name": "stderr",
     "output_type": "stream",
     "text": [
      "100%|██████████████████████████████████████████████████████████████████████████████| 1000/1000 [02:09<00:00,  7.73it/s]\n"
     ]
    },
    {
     "name": "stdout",
     "output_type": "stream",
     "text": [
      "4 0.003297496304102242 0.97684\n"
     ]
    },
    {
     "name": "stderr",
     "output_type": "stream",
     "text": [
      "100%|██████████████████████████████████████████████████████████████████████████████| 1000/1000 [02:10<00:00,  7.63it/s]\n"
     ]
    },
    {
     "name": "stdout",
     "output_type": "stream",
     "text": [
      "5 0.002834028324801475 0.983\n"
     ]
    },
    {
     "name": "stderr",
     "output_type": "stream",
     "text": [
      "100%|██████████████████████████████████████████████████████████████████████████████| 1000/1000 [02:09<00:00,  7.70it/s]\n"
     ]
    },
    {
     "name": "stdout",
     "output_type": "stream",
     "text": [
      "6 0.002411617911430076 0.98856\n"
     ]
    },
    {
     "name": "stderr",
     "output_type": "stream",
     "text": [
      "100%|██████████████████████████████████████████████████████████████████████████████| 1000/1000 [02:09<00:00,  7.74it/s]\n"
     ]
    },
    {
     "name": "stdout",
     "output_type": "stream",
     "text": [
      "7 0.0020322400671429932 0.99076\n"
     ]
    },
    {
     "name": "stderr",
     "output_type": "stream",
     "text": [
      "100%|██████████████████████████████████████████████████████████████████████████████| 1000/1000 [02:09<00:00,  7.74it/s]\n"
     ]
    },
    {
     "name": "stdout",
     "output_type": "stream",
     "text": [
      "8 0.0018390367479808629 0.99256\n"
     ]
    },
    {
     "name": "stderr",
     "output_type": "stream",
     "text": [
      "100%|██████████████████████████████████████████████████████████████████████████████| 1000/1000 [02:09<00:00,  7.75it/s]\n"
     ]
    },
    {
     "name": "stdout",
     "output_type": "stream",
     "text": [
      "9 0.0016101649667532184 0.99484\n"
     ]
    },
    {
     "name": "stderr",
     "output_type": "stream",
     "text": [
      "100%|██████████████████████████████████████████████████████████████████████████████| 1000/1000 [02:09<00:00,  7.75it/s]"
     ]
    },
    {
     "name": "stdout",
     "output_type": "stream",
     "text": [
      "10 0.0014221705814055168 0.99558\n"
     ]
    },
    {
     "name": "stderr",
     "output_type": "stream",
     "text": [
      "\n"
     ]
    }
   ],
   "source": [
    "# learning\n",
    "for epoch in range(epochs + 1):\n",
    "    cost, acc = train_model(model, train_data_loader, optim)\n",
    "    cost = cost / len(train_data_loader.dataset)\n",
    "    acc = acc/ len(train_data_loader.dataset)  \n",
    "    print(epoch, cost,acc)"
   ]
  },
  {
   "cell_type": "code",
   "execution_count": 34,
   "id": "b37d2a3f-aa27-4039-acba-f65648c8a3ae",
   "metadata": {},
   "outputs": [
    {
     "name": "stderr",
     "output_type": "stream",
     "text": [
      "100%|██████████████████████████████████████████████████████████████████████████████| 1000/1000 [01:19<00:00, 12.55it/s]"
     ]
    },
    {
     "name": "stdout",
     "output_type": "stream",
     "text": [
      "0.98262\n"
     ]
    },
    {
     "name": "stderr",
     "output_type": "stream",
     "text": [
      "\n"
     ]
    }
   ],
   "source": [
    "with torch.no_grad():\n",
    "    model.eval()\n",
    "    acc = 0\n",
    "    for x, y in tqdm(train_data_loader):\n",
    "        x = x.to(device)\n",
    "        y = y.to(device).view(-1)\n",
    "        predict = model(x)\n",
    "        predict = torch.argmax(predict, dim=1)\n",
    "        acc += (y == predict).sum().item()\n",
    "print(acc/len(train_data_loader.dataset))"
   ]
  },
  {
   "cell_type": "code",
   "execution_count": 31,
   "id": "4af9733d-8fa0-4663-ab5c-e69f25207166",
   "metadata": {},
   "outputs": [],
   "source": [
    "# set test data on Tensor and Dataset\n",
    "test_dataset = MyDataset(test_dir_path,\"test\",transform)\n",
    "test_data_loader = torch.utils.data.DataLoader(dataset=test_dataset, batch_size=batch_size, shuffle=False)"
   ]
  },
  {
   "cell_type": "code",
   "execution_count": 32,
   "id": "c289f41d-35ee-470d-92a8-16d878ae9080",
   "metadata": {},
   "outputs": [],
   "source": [
    "def test_model(model, data_loader):\n",
    "    predicts = []\n",
    "    for x in tqdm(data_loader):\n",
    "        x = x.to(device)\n",
    "        predict = model(x)\n",
    "        predict = torch.argmax(predict, dim=1)\n",
    "        predicts += np.array(predict.cpu().detach()).tolist()\n",
    "    return np.array(predicts)"
   ]
  },
  {
   "cell_type": "code",
   "execution_count": 33,
   "id": "5503478a-a195-4ede-bbd4-b17617ac7901",
   "metadata": {},
   "outputs": [
    {
     "name": "stderr",
     "output_type": "stream",
     "text": [
      "100%|████████████████████████████████████████████████████████████████████████████████| 200/200 [00:15<00:00, 12.84it/s]"
     ]
    },
    {
     "name": "stdout",
     "output_type": "stream",
     "text": [
      "         id  label\n",
      "0         1      3\n",
      "1         2      8\n",
      "2         3      8\n",
      "3         4      0\n",
      "4         5      6\n",
      "...     ...    ...\n",
      "9995   9996      8\n",
      "9996   9997      3\n",
      "9997   9998      5\n",
      "9998   9999      1\n",
      "9999  10000      7\n",
      "\n",
      "[10000 rows x 2 columns]\n"
     ]
    },
    {
     "name": "stderr",
     "output_type": "stream",
     "text": [
      "\n"
     ]
    }
   ],
   "source": [
    "# submit\n",
    "submission = pd.read_csv(submission_csv_path)\n",
    "with torch.no_grad():\n",
    "    model.eval()\n",
    "    predict = test_model(model, test_data_loader)\n",
    "    submission['label'] = predict\n",
    "    print(submission)\n",
    "submission.to_csv(\"submission.csv\", index=False)"
   ]
  },
  {
   "cell_type": "code",
   "execution_count": null,
   "id": "de88115d-c2fa-4b0c-8dbc-4413952a886a",
   "metadata": {},
   "outputs": [],
   "source": []
  },
  {
   "cell_type": "code",
   "execution_count": null,
   "id": "1c186d07-35d5-4ba9-b625-414bfc04c7d1",
   "metadata": {},
   "outputs": [],
   "source": []
  }
 ],
 "metadata": {
  "kernelspec": {
   "display_name": "Python 3 (ipykernel)",
   "language": "python",
   "name": "python3"
  },
  "language_info": {
   "codemirror_mode": {
    "name": "ipython",
    "version": 3
   },
   "file_extension": ".py",
   "mimetype": "text/x-python",
   "name": "python",
   "nbconvert_exporter": "python",
   "pygments_lexer": "ipython3",
   "version": "3.9.6"
  }
 },
 "nbformat": 4,
 "nbformat_minor": 5
}
