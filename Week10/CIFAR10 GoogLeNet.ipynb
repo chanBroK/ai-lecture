{
 "cells": [
  {
   "cell_type": "code",
   "execution_count": 1,
   "id": "86ae24bf-8998-48f9-b20a-94ae2d702a92",
   "metadata": {},
   "outputs": [],
   "source": [
    "import numpy as np\n",
    "import pandas as pd"
   ]
  },
  {
   "cell_type": "code",
   "execution_count": 2,
   "id": "d73a58c1-c23c-49e2-acb8-f32b0c4d9c6c",
   "metadata": {},
   "outputs": [
    {
     "data": {
      "text/plain": [
       "'cuda'"
      ]
     },
     "execution_count": 2,
     "metadata": {},
     "output_type": "execute_result"
    }
   ],
   "source": [
    "import torch\n",
    "import random\n",
    "import torchvision\n",
    "\n",
    "device = \"cuda\" if torch.cuda.is_available() else \"cpu\"\n",
    "device"
   ]
  },
  {
   "cell_type": "code",
   "execution_count": 3,
   "id": "6b0d0f0b-6a5f-4568-918a-2a435d9d557e",
   "metadata": {},
   "outputs": [],
   "source": [
    "# setting seed\n",
    "torch.manual_seed(1)\n",
    "if device == \"cuda\":\n",
    "    torch.cuda.manual_seed_all(1)\n",
    "random.seed(1)"
   ]
  },
  {
   "cell_type": "code",
   "execution_count": 4,
   "id": "e9e3d873-964b-4132-9904-487b9b5c34e5",
   "metadata": {},
   "outputs": [],
   "source": [
    "# set data path\n",
    "train_dir_path = \"./2021-ai-w10-p2/images/images\"\n",
    "test_dir_path = \"./2021-ai-w10-p2/test_data/test_data\"\n",
    "submission_csv_path = \"./2021-ai-w10-p2/format.csv\""
   ]
  },
  {
   "cell_type": "code",
   "execution_count": 5,
   "id": "db7a86fa-af38-4423-beb4-547125b2ec42",
   "metadata": {},
   "outputs": [
    {
     "name": "stderr",
     "output_type": "stream",
     "text": [
      "100%|██████████████████████████████████████████████████████████████████████████████████| 10/10 [00:11<00:00,  1.18s/it]\n"
     ]
    },
    {
     "name": "stdout",
     "output_type": "stream",
     "text": [
      "(50000, 3, 32, 32) (50000,)\n"
     ]
    }
   ],
   "source": [
    "# load train data \n",
    "from tqdm import tqdm\n",
    "import os\n",
    "from PIL import Image\n",
    "\n",
    "\n",
    "def load_train_data(dir_path):\n",
    "    train_y = []\n",
    "    train_x = []\n",
    "    for dir_name in tqdm(os.listdir(dir_path)):\n",
    "        for img_name in os.listdir(os.path.join(dir_path, dir_name)):\n",
    "            img_path = os.path.join(dir_path, dir_name, img_name)\n",
    "            img = np.array(Image.open(img_path)).transpose((2, 0, 1))\n",
    "            # Scaling\n",
    "            img = img / np.max(img)\n",
    "            train_x.append(img)\n",
    "            train_y.append(int(dir_name))\n",
    "    return np.array(train_x), np.array(train_y)\n",
    "\n",
    "\n",
    "train_x, train_y = load_train_data(train_dir_path)\n",
    "print(train_x.shape, train_y.shape)"
   ]
  },
  {
   "cell_type": "code",
   "execution_count": 6,
   "id": "acaf512a-c65f-42fe-a998-a820b29c294a",
   "metadata": {},
   "outputs": [],
   "source": [
    "# set data on Tensor and Dataset\n",
    "train_x = torch.Tensor(train_x).to(device)\n",
    "train_y = torch.LongTensor(train_y).to(device)\n",
    "train_dataset = torch.utils.data.TensorDataset(train_x, train_y)"
   ]
  },
  {
   "cell_type": "code",
   "execution_count": 7,
   "id": "ff4bf528-360c-4bd1-ab3d-cbf6b93e3d98",
   "metadata": {
    "tags": []
   },
   "outputs": [],
   "source": [
    "model = torchvision.models.googlenet(pretrained=True)\n",
    "\n",
    "# freezing\n",
    "# for param in model.parameters():\n",
    "#     param.requires_grad = False\n",
    "\n",
    "model.fc = torch.nn.Linear(in_features=1024, out_features=10, bias=True).to(device)\n",
    "\n",
    "torch.nn.init.xavier_normal_(model.fc.weight)\n",
    "\n",
    "model = model.to(device)\n",
    "# print(model)"
   ]
  },
  {
   "cell_type": "code",
   "execution_count": 8,
   "id": "6dad4589-56f2-43bc-93f8-cdc6651b7d00",
   "metadata": {},
   "outputs": [],
   "source": [
    "# setting param, optim, cost function,dataloader\n",
    "from torch.utils.data import DataLoader\n",
    "\n",
    "lr = 1e-3\n",
    "batch_size = 50\n",
    "optim = torch.optim.Adam(model.parameters(), lr=lr)\n",
    "train_data_loader = DataLoader(dataset=train_dataset, batch_size=batch_size, shuffle=True)\n",
    "epochs = 10\n",
    "loss = torch.nn.CrossEntropyLoss()"
   ]
  },
  {
   "cell_type": "code",
   "execution_count": 9,
   "id": "1c0b04f0-7750-4811-bc30-aa1db714cdc0",
   "metadata": {},
   "outputs": [],
   "source": [
    "def train_model(model, data_loader, optim):\n",
    "    sum_cost = 0\n",
    "    sum_acc = 0\n",
    "    for x, y in data_loader:\n",
    "        model.train()\n",
    "        output = model(x)\n",
    "        cost = loss(output, y)\n",
    "        optim.zero_grad()\n",
    "        cost.backward()\n",
    "        optim.step()\n",
    "        sum_cost += cost.item()\n",
    "        model.eval()\n",
    "        predict = model(x)\n",
    "        predict = torch.argmax(predict,dim=1)\n",
    "        acc = predict == y\n",
    "        sum_acc += acc.sum().item()\n",
    "    return sum_cost,sum_acc"
   ]
  },
  {
   "cell_type": "code",
   "execution_count": 10,
   "id": "0d5e4f09-b4d8-4b5f-b3a0-34cddd855696",
   "metadata": {},
   "outputs": [
    {
     "name": "stderr",
     "output_type": "stream",
     "text": [
      "c:\\python39\\lib\\site-packages\\torch\\nn\\functional.py:718: UserWarning: Named tensors and all their associated APIs are an experimental feature and subject to change. Please do not use them for anything important until they are released as stable. (Triggered internally at  ..\\c10/core/TensorImpl.h:1156.)\n",
      "  return torch.max_pool2d(input, kernel_size, stride, padding, dilation, ceil_mode)\n"
     ]
    },
    {
     "name": "stdout",
     "output_type": "stream",
     "text": [
      "0 0.020579560912251472 0.7145\n",
      "1 0.013924890954494477 0.81046\n",
      "2 0.012882868792712688 0.82186\n",
      "3 0.01015676796913147 0.8724\n",
      "4 0.008213066135197879 0.90086\n",
      "5 0.007196333781629801 0.91646\n",
      "6 0.0059139532723277806 0.93612\n",
      "7 0.005037943969741464 0.95214\n",
      "8 0.004373461634740234 0.95514\n",
      "9 0.003924567566923797 0.9641\n",
      "10 0.003529870397038758 0.96576\n"
     ]
    }
   ],
   "source": [
    "# learning\n",
    "for epoch in range(epochs + 1):\n",
    "    cost, acc = train_model(model, train_data_loader, optim)\n",
    "    cost = cost / len(train_data_loader.dataset)\n",
    "    acc = acc/ len(train_data_loader.dataset)  \n",
    "    print(epoch, cost,acc)"
   ]
  },
  {
   "cell_type": "code",
   "execution_count": 11,
   "id": "b37d2a3f-aa27-4039-acba-f65648c8a3ae",
   "metadata": {},
   "outputs": [
    {
     "name": "stdout",
     "output_type": "stream",
     "text": [
      "0.9537599682807922\n"
     ]
    }
   ],
   "source": [
    "with torch.no_grad():\n",
    "    model.eval()\n",
    "    predict = model(train_x)\n",
    "    predict = torch.argmax(predict, dim=1)\n",
    "    acc = train_y == predict\n",
    "    acc = acc.float().mean().cpu().detach().item()\n",
    "print(acc)"
   ]
  },
  {
   "cell_type": "code",
   "execution_count": 12,
   "id": "f0d84bdd-a0a9-4896-931f-2b8365b4941f",
   "metadata": {},
   "outputs": [
    {
     "name": "stderr",
     "output_type": "stream",
     "text": [
      "100%|██████████████████████████████████████████████████████████████████████████| 10000/10000 [00:02<00:00, 4177.11it/s]\n"
     ]
    },
    {
     "name": "stdout",
     "output_type": "stream",
     "text": [
      "(10000, 3, 32, 32)\n"
     ]
    }
   ],
   "source": [
    "# load test data \n",
    "def load_test_data(dir_path):\n",
    "    test_x = []\n",
    "    img_names = os.listdir(dir_path)\n",
    "    img_names = [int(img_name.split(\".\")[0]) for img_name in img_names]\n",
    "    sorted_img_names = sorted(img_names)\n",
    "    for img_name in tqdm(sorted_img_names):\n",
    "        img_path = os.path.join(dir_path, str(img_name)) + \".png\"\n",
    "        img = np.array(Image.open(img_path)).transpose((2, 0, 1))\n",
    "        # Scaling\n",
    "        img = img / np.max(img)\n",
    "        test_x.append(img)\n",
    "    return np.array(test_x)\n",
    "\n",
    "\n",
    "test_x = load_test_data(test_dir_path)\n",
    "print(test_x.shape)"
   ]
  },
  {
   "cell_type": "code",
   "execution_count": 13,
   "id": "4af9733d-8fa0-4663-ab5c-e69f25207166",
   "metadata": {},
   "outputs": [],
   "source": [
    "# setd test data on Tensor and Dataset\n",
    "test_x = torch.Tensor(test_x).to(device)\n",
    "test_dataset = torch.utils.data.TensorDataset(test_x)\n",
    "test_data_loader = torch.utils.data.DataLoader(dataset=test_dataset, batch_size=batch_size, shuffle=False)"
   ]
  },
  {
   "cell_type": "code",
   "execution_count": 14,
   "id": "c289f41d-35ee-470d-92a8-16d878ae9080",
   "metadata": {},
   "outputs": [],
   "source": [
    "def test_model(model, data_loader):\n",
    "    predicts = []\n",
    "    for x in tqdm(data_loader):\n",
    "        predict = model(x[0])\n",
    "        predict = torch.argmax(predict, dim=1)\n",
    "        predicts += np.array(predict.cpu().detach()).tolist()\n",
    "    return np.array(predicts)"
   ]
  },
  {
   "cell_type": "code",
   "execution_count": 15,
   "id": "5503478a-a195-4ede-bbd4-b17617ac7901",
   "metadata": {},
   "outputs": [
    {
     "name": "stderr",
     "output_type": "stream",
     "text": [
      "100%|███████████████████████████████████████████████████████████████████████████████| 200/200 [00:01<00:00, 131.67it/s]\n"
     ]
    }
   ],
   "source": [
    "# submit\n",
    "submission = pd.read_csv(submission_csv_path)\n",
    "with torch.no_grad():\n",
    "    model.eval()\n",
    "    predict = test_model(model, test_data_loader)\n",
    "    submission['label'] = predict\n",
    "submission.to_csv(\"submission.csv\", index=False)"
   ]
  },
  {
   "cell_type": "code",
   "execution_count": null,
   "id": "de88115d-c2fa-4b0c-8dbc-4413952a886a",
   "metadata": {},
   "outputs": [],
   "source": []
  },
  {
   "cell_type": "code",
   "execution_count": null,
   "id": "1c186d07-35d5-4ba9-b625-414bfc04c7d1",
   "metadata": {},
   "outputs": [],
   "source": []
  }
 ],
 "metadata": {
  "kernelspec": {
   "display_name": "Python 3 (ipykernel)",
   "language": "python",
   "name": "python3"
  },
  "language_info": {
   "codemirror_mode": {
    "name": "ipython",
    "version": 3
   },
   "file_extension": ".py",
   "mimetype": "text/x-python",
   "name": "python",
   "nbconvert_exporter": "python",
   "pygments_lexer": "ipython3",
   "version": "3.9.6"
  }
 },
 "nbformat": 4,
 "nbformat_minor": 5
}
