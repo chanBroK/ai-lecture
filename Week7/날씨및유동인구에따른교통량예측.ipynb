{
 "cells": [
  {
   "cell_type": "code",
   "execution_count": 1,
   "metadata": {},
   "outputs": [],
   "source": [
    "import numpy as np\n",
    "import pandas as pd"
   ]
  },
  {
   "cell_type": "code",
   "execution_count": 2,
   "metadata": {},
   "outputs": [],
   "source": [
    "import torch\n",
    "import sklearn\n",
    "import random"
   ]
  },
  {
   "cell_type": "code",
   "execution_count": 3,
   "metadata": {},
   "outputs": [
    {
     "name": "stdout",
     "output_type": "stream",
     "text": [
      "cuda\n"
     ]
    }
   ],
   "source": [
    "device = \"cuda\" if torch.cuda.is_available() else \"cpu\"\n",
    "print(device)"
   ]
  },
  {
   "cell_type": "code",
   "execution_count": 4,
   "metadata": {},
   "outputs": [],
   "source": [
    "torch.manual_seed(1)\n",
    "random.seed(1)\n",
    "if device == \"cuda\":\n",
    "    torch.cuda.manual_seed(1)"
   ]
  },
  {
   "cell_type": "code",
   "execution_count": 5,
   "metadata": {},
   "outputs": [],
   "source": [
    "from torch.utils.data import Dataset\n",
    "\n",
    "class MyDataset(Dataset):\n",
    "    def __init__(self,x,y):\n",
    "        self.x = torch.Tensor(x).to(device)\n",
    "        self.y = torch.Tensor(y).to(device)\n",
    "    def __getitem__(self,index):\n",
    "        return self.x[index],self.y[index]\n",
    "    def __len__(self):\n",
    "        return len(self.x)"
   ]
  },
  {
   "cell_type": "code",
   "execution_count": 6,
   "metadata": {},
   "outputs": [],
   "source": [
    "x_train = pd.read_csv(\"./data2/x_train.csv\",engine='python',encoding='CP949')\n",
    "y_train = pd.read_csv(\"./data2/y_train.csv\",engine='python',encoding='CP949')\n",
    "x_test = pd.read_csv(\"./data2/x_test.csv\",engine='python',encoding='CP949')\n",
    "submission = pd.read_csv(\"./data2/sample_submission.csv\")"
   ]
  },
  {
   "cell_type": "code",
   "execution_count": 7,
   "metadata": {},
   "outputs": [
    {
     "name": "stdout",
     "output_type": "stream",
     "text": [
      "       시도명  읍면동명         거주인구        근무인구        방문인구       총 유동인구   평균 속도  \\\n",
      "0        0    26    76018.965    5009.811   36887.341   117916.117  40.467   \n",
      "1        1    24  1232416.968   76043.955  451558.268  1760019.191  38.126   \n",
      "2        1    23   134260.946    8412.761   78177.981   220851.688  51.107   \n",
      "3        1    25   289327.429   39102.424  287029.303   615459.156  33.067   \n",
      "4        1     7  1116617.660   96560.651  524905.301  1738083.612  40.392   \n",
      "...    ...   ...          ...         ...         ...          ...     ...   \n",
      "21481    0     6    91977.598   14802.819   79885.446   186665.863  41.676   \n",
      "21482    0     9    63673.610    3725.663   65813.385   133212.658  48.737   \n",
      "21483    1     3   406035.642   46335.550  258079.137   710450.329  49.314   \n",
      "21484    1    25   315737.894   25379.224  283079.548   624196.666  35.312   \n",
      "21485    1    27  1092141.759  185878.376  518636.283  1796656.419  33.438   \n",
      "\n",
      "       평균 소요 시간   평균 기온    일강수량  평균 풍속   월   일     년  \n",
      "0        21.667  17.750   0.000  2.725   9  25  2019  \n",
      "1        31.632  13.300  14.500  4.500   3   4  2018  \n",
      "2        45.643   5.250   0.500  4.950   4   7  2018  \n",
      "3        48.000  26.300   0.500  1.500   8  14  2019  \n",
      "4        26.961   8.400  44.000  4.300  12   1  2019  \n",
      "...         ...     ...     ...    ...  ..  ..   ...  \n",
      "21481    21.676   6.400   0.000  1.600   3   5  2020  \n",
      "21482    26.105  18.300   7.000  3.700   5  26  2018  \n",
      "21483    50.943  -6.133   0.833  6.067   1  25  2018  \n",
      "21484    43.688   8.600   0.000  3.100   3  17  2019  \n",
      "21485    43.688  21.500  57.500  3.000  10   1  2019  \n",
      "\n",
      "[21486 rows x 14 columns]\n",
      "            교통량\n",
      "0         0.000\n",
      "1      1532.989\n",
      "2       710.107\n",
      "3       374.200\n",
      "4       535.882\n",
      "...         ...\n",
      "21481    91.000\n",
      "21482     0.000\n",
      "21483     0.000\n",
      "21484   283.625\n",
      "21485   254.188\n",
      "\n",
      "[21486 rows x 1 columns]\n",
      "       시도명  읍면동명         거주인구        근무인구        방문인구       총 유동인구   평균 속도  \\\n",
      "0        0    28    45737.828    8703.034   91775.025   146215.887  57.286   \n",
      "1        1    21   289284.270   48392.749  179649.272   517326.291  50.500   \n",
      "2        1     4    72684.218   45632.065  120931.098   239247.380  34.727   \n",
      "3        1    12   235752.513   34212.805  186910.679   456875.997  37.167   \n",
      "4        1    17   544250.956   64188.293  205182.677   813621.925  31.462   \n",
      "...    ...   ...          ...         ...         ...          ...     ...   \n",
      "10578    1    37    30949.221    7243.292   73243.733   111436.245  27.500   \n",
      "10579    0    39   287544.537   19901.138  230494.219   537939.894  49.130   \n",
      "10580    1    35   217597.813   18838.618  150540.187   386976.617  27.500   \n",
      "10581    0     6    80350.674   26339.878  101347.505   208038.057  41.000   \n",
      "10582    1     7  1042638.731  141129.724  556050.197  1739818.652  38.157   \n",
      "\n",
      "       평균 소요 시간   평균 기온  일강수량  평균 풍속   월   일     년  \n",
      "0        35.000   6.500   0.0    2.9   1  12  2020  \n",
      "1        58.912  18.833   0.0    2.3   6  10  2019  \n",
      "2        60.000  13.200   0.0    1.8   5  10  2019  \n",
      "3        26.500  11.700   0.0    4.8   3  19  2020  \n",
      "4        37.769  22.233   0.0    2.3   9   5  2018  \n",
      "...         ...     ...   ...    ...  ..  ..   ...  \n",
      "10578    26.000   0.100   1.0    2.7   2   9  2019  \n",
      "10579    55.130  20.600   9.0    4.3   7   8  2018  \n",
      "10580    30.750   0.000   0.0    5.8   2  12  2018  \n",
      "10581    19.968  18.800   1.0    2.4  10  18  2019  \n",
      "10582    31.549  21.600   0.0    0.8   8   1  2019  \n",
      "\n",
      "[10583 rows x 14 columns]\n",
      "          id  predict\n",
      "0          0        0\n",
      "1          1        0\n",
      "2          2        0\n",
      "3          3        0\n",
      "4          4        0\n",
      "...      ...      ...\n",
      "10578  10578        0\n",
      "10579  10579        0\n",
      "10580  10580        0\n",
      "10581  10581        0\n",
      "10582  10582        0\n",
      "\n",
      "[10583 rows x 2 columns]\n"
     ]
    }
   ],
   "source": [
    "print(x_train)\n",
    "print(y_train)\n",
    "print(x_test)\n",
    "print(submission)"
   ]
  },
  {
   "cell_type": "code",
   "execution_count": 8,
   "metadata": {},
   "outputs": [],
   "source": [
    "x_train = np.array(x_train.drop(['월','일','년'],axis=1))\n",
    "# y_train = np.array(y_train) # shape (21486,1)\n",
    "y_train = np.array(y_train['교통량']) # shape (21486)\n",
    "x_test = np.array(x_test.drop(['월','일','년'],axis=1))\n",
    "\n",
    "from sklearn.preprocessing import StandardScaler\n",
    "scaler = StandardScaler()\n",
    "\n",
    "x_train = scaler.fit_transform(x_train)\n",
    "x_test = scaler.transform(x_test)"
   ]
  },
  {
   "cell_type": "code",
   "execution_count": 9,
   "metadata": {},
   "outputs": [
    {
     "name": "stdout",
     "output_type": "stream",
     "text": [
      "(21486, 11) (21486,)\n"
     ]
    }
   ],
   "source": [
    "# x_train = torch.Tensor(x_train).to(device)\n",
    "x_test = torch.Tensor(x_test).to(device)\n",
    "# y_train = torch.Tensor(y_train).to(device)\n",
    "train_dataset = MyDataset(x_train,y_train)\n",
    "print(x_train.shape,y_train.shape)"
   ]
  },
  {
   "cell_type": "code",
   "execution_count": 10,
   "metadata": {},
   "outputs": [],
   "source": [
    "layer1 = torch.nn.Linear(11,11,bias=True).to(device)\n",
    "layer2 = torch.nn.Linear(11,8,bias=True).to(device)\n",
    "layer3 = torch.nn.Linear(8,8,bias=True).to(device)\n",
    "layer4 = torch.nn.Linear(8,11,bias=True).to(device)\n",
    "layer5 = torch.nn.Linear(11,1,bias=True).to(device)\n",
    "relu = torch.nn.ReLU().to(device)\n",
    "dropout = torch.nn.Dropout(0.5).to(device)"
   ]
  },
  {
   "cell_type": "code",
   "execution_count": 11,
   "metadata": {},
   "outputs": [
    {
     "data": {
      "text/plain": [
       "Parameter containing:\n",
       "tensor([[-0.5832, -0.4439,  0.2270,  0.4153, -0.1420, -0.5565, -0.5376,  0.3844,\n",
       "          0.2358, -0.1633, -0.1858]], device='cuda:0', requires_grad=True)"
      ]
     },
     "execution_count": 11,
     "metadata": {},
     "output_type": "execute_result"
    }
   ],
   "source": [
    "torch.nn.init.xavier_normal_(layer1.weight)\n",
    "torch.nn.init.xavier_normal_(layer2.weight)\n",
    "torch.nn.init.xavier_normal_(layer3.weight)\n",
    "torch.nn.init.xavier_normal_(layer4.weight)\n",
    "torch.nn.init.xavier_normal_(layer5.weight)\n"
   ]
  },
  {
   "cell_type": "code",
   "execution_count": 12,
   "metadata": {},
   "outputs": [],
   "source": [
    "model = torch.nn.Sequential(layer1,relu,dropout,\n",
    "                            layer2,relu,dropout,\n",
    "                            layer3,relu,dropout,\n",
    "                            layer4,relu,dropout,\n",
    "                            layer5).to(device)"
   ]
  },
  {
   "cell_type": "code",
   "execution_count": 13,
   "metadata": {},
   "outputs": [],
   "source": [
    "def r2_loss(output, target):\n",
    "    target_mean = torch.mean(target)\n",
    "    ss_tot = torch.sum((target - target_mean) ** 2)\n",
    "    ss_res = torch.sum((target - output) ** 2)\n",
    "    r2 = 1 - ss_res / ss_tot\n",
    "    return r2"
   ]
  },
  {
   "cell_type": "code",
   "execution_count": 14,
   "metadata": {},
   "outputs": [],
   "source": [
    "# layer 5, epochs 2000, lr 1e-2 -> score 0.474...\n",
    "# layer 5, epochs 2000, lr 1e-1 -> score 0.385... overfitting\n",
    "# layer 7, epochs 2000, lr 1e-2 -> cost 105335.1015625 score 0.11277 \n",
    "# batch size = 100 layer 7, epochs 1000, lr 1e-2 -> 하나의 예측값\n",
    "# batch size = 100 layer 7, epochs 1000, lr 1e-2 -> 하나의 예측값 \n",
    "epochs= 100\n",
    "lr = 1e-2\n",
    "loss = torch.nn.MSELoss().to(device)\n",
    "\n",
    "optim = torch.optim.Adam(model.parameters(),lr=lr)\n",
    "batch_size = 100\n",
    "data_loader = torch.utils.data.DataLoader(dataset=train_dataset,\n",
    "                                         batch_size = batch_size,\n",
    "                                         shuffle=True,\n",
    "                                         drop_last =True)"
   ]
  },
  {
   "cell_type": "code",
   "execution_count": 15,
   "metadata": {
    "tags": []
   },
   "outputs": [
    {
     "name": "stdout",
     "output_type": "stream",
     "text": [
      "0 318297.4786799065\n",
      "10 229692.11320823597\n",
      "20 226315.3324693341\n",
      "30 226722.68136682242\n",
      "40 225148.92253212616\n",
      "50 219045.04326080607\n",
      "60 220794.96579293226\n",
      "70 216510.9640771028\n",
      "80 218048.35404497664\n",
      "90 225301.32049503503\n",
      "100 218963.37317464955\n"
     ]
    }
   ],
   "source": [
    "model.train()\n",
    "for epoch in range(epochs+1):\n",
    "    avg_cost = 0\n",
    "    for x_train,y_train in data_loader:\n",
    "        optim.zero_grad()\n",
    "    \n",
    "        h = model(x_train) \n",
    "        cost = loss(h,y_train.unsqueeze(1))\n",
    "        cost.backward()\n",
    "        optim.step()\n",
    "        avg_cost += cost.item()\n",
    "    if epoch % 10 == 0:\n",
    "        print(epoch, avg_cost/len(data_loader))"
   ]
  },
  {
   "cell_type": "code",
   "execution_count": 16,
   "metadata": {},
   "outputs": [
    {
     "name": "stdout",
     "output_type": "stream",
     "text": [
      "[R2_Loss] = tensor(0.3869, device='cuda:0')\n",
      "[L1_Loss] = tensor(347.2535, device='cuda:0')\n"
     ]
    }
   ],
   "source": [
    "with torch.no_grad():\n",
    "    model.eval()\n",
    "    predict = model(x_train)\n",
    "    \n",
    "print(\"[R2_Loss] =\",r2_loss(predict,y_train.unsqueeze(1)))\n",
    "l1Loss = torch.nn.L1Loss()\n",
    "print(\"[L1_Loss] =\",l1Loss(predict,y_train.unsqueeze(1)))"
   ]
  },
  {
   "cell_type": "code",
   "execution_count": 17,
   "metadata": {},
   "outputs": [
    {
     "name": "stdout",
     "output_type": "stream",
     "text": [
      "          id     predict\n",
      "0          0  202.361298\n",
      "1          1  301.128357\n",
      "2          2  262.122986\n",
      "3          3  269.576385\n",
      "4          4  554.105835\n",
      "...      ...         ...\n",
      "10578  10578  429.194885\n",
      "10579  10579  202.361298\n",
      "10580  10580  400.750397\n",
      "10581  10581  202.870361\n",
      "10582  10582  418.180725\n",
      "\n",
      "[10583 rows x 2 columns]\n"
     ]
    }
   ],
   "source": [
    "with torch.no_grad():\n",
    "    model.eval()\n",
    "    predict = model(x_test)\n",
    "submission['predict'] = predict.cpu().detach().numpy()\n",
    "print(submission)"
   ]
  },
  {
   "cell_type": "code",
   "execution_count": 18,
   "metadata": {},
   "outputs": [],
   "source": [
    "submission.to_csv(\"submission.csv\",index=False)"
   ]
  },
  {
   "cell_type": "code",
   "execution_count": 19,
   "metadata": {},
   "outputs": [],
   "source": [
    "# 저번 과제와 같이 한가지 예측값으로 통일되는 경향이 생김 -> batch size?\n",
    "# batch size를 적용해도 계속 같은 문제 -> lr 조정\n",
    "# lr를 적용해도 계속 같은 문제 -> drop late 조정\n",
    "# drop column (연,월,일)"
   ]
  }
 ],
 "metadata": {
  "kernelspec": {
   "display_name": "Python 3 (ipykernel)",
   "language": "python",
   "name": "python3"
  },
  "language_info": {
   "codemirror_mode": {
    "name": "ipython",
    "version": 3
   },
   "file_extension": ".py",
   "mimetype": "text/x-python",
   "name": "python",
   "nbconvert_exporter": "python",
   "pygments_lexer": "ipython3",
   "version": "3.9.6"
  }
 },
 "nbformat": 4,
 "nbformat_minor": 4
}
