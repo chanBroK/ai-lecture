{
 "cells": [
  {
   "cell_type": "code",
   "execution_count": 1,
   "metadata": {},
   "outputs": [],
   "source": [
    "import numpy as np\n",
    "import pandas as pd"
   ]
  },
  {
   "cell_type": "code",
   "execution_count": 2,
   "metadata": {},
   "outputs": [],
   "source": [
    "import torch\n",
    "import sklearn\n",
    "import random"
   ]
  },
  {
   "cell_type": "code",
   "execution_count": 3,
   "metadata": {},
   "outputs": [
    {
     "name": "stdout",
     "output_type": "stream",
     "text": [
      "cuda\n"
     ]
    }
   ],
   "source": [
    "device = \"cuda\" if torch.cuda.is_available() else \"cpu\"\n",
    "print(device)"
   ]
  },
  {
   "cell_type": "code",
   "execution_count": 4,
   "metadata": {},
   "outputs": [],
   "source": [
    "torch.manual_seed(1)\n",
    "random.seed(1)\n",
    "if device == \"cuda\":\n",
    "    torch.cuda.manual_seed(1)"
   ]
  },
  {
   "cell_type": "code",
   "execution_count": 5,
   "metadata": {},
   "outputs": [],
   "source": [
    "from torch.utils.data import Dataset\n",
    "\n",
    "class MyDataset(Dataset):\n",
    "    def __init__(self,x,y):\n",
    "        self.x = torch.Tensor(x).to(device)\n",
    "        self.y = torch.Tensor(y).to(device)\n",
    "    def __getitem__(self,index):\n",
    "        return self.x[index],self.y[index]\n",
    "    def __len__(self):\n",
    "        return len(self.x)"
   ]
  },
  {
   "cell_type": "code",
   "execution_count": 6,
   "metadata": {},
   "outputs": [],
   "source": [
    "x_train = pd.read_csv(\"./data2/x_train.csv\",engine='python',encoding='CP949')\n",
    "y_train = pd.read_csv(\"./data2/y_train.csv\",engine='python',encoding='CP949')\n",
    "x_test = pd.read_csv(\"./data2/x_test.csv\",engine='python',encoding='CP949')\n",
    "submission = pd.read_csv(\"./data2/sample_submission.csv\")"
   ]
  },
  {
   "cell_type": "code",
   "execution_count": 7,
   "metadata": {},
   "outputs": [
    {
     "name": "stdout",
     "output_type": "stream",
     "text": [
      "       시도명  읍면동명         거주인구        근무인구        방문인구       총 유동인구   평균 속도  \\\n",
      "0        0    26    76018.965    5009.811   36887.341   117916.117  40.467   \n",
      "1        1    24  1232416.968   76043.955  451558.268  1760019.191  38.126   \n",
      "2        1    23   134260.946    8412.761   78177.981   220851.688  51.107   \n",
      "3        1    25   289327.429   39102.424  287029.303   615459.156  33.067   \n",
      "4        1     7  1116617.660   96560.651  524905.301  1738083.612  40.392   \n",
      "...    ...   ...          ...         ...         ...          ...     ...   \n",
      "21481    0     6    91977.598   14802.819   79885.446   186665.863  41.676   \n",
      "21482    0     9    63673.610    3725.663   65813.385   133212.658  48.737   \n",
      "21483    1     3   406035.642   46335.550  258079.137   710450.329  49.314   \n",
      "21484    1    25   315737.894   25379.224  283079.548   624196.666  35.312   \n",
      "21485    1    27  1092141.759  185878.376  518636.283  1796656.419  33.438   \n",
      "\n",
      "       평균 소요 시간   평균 기온    일강수량  평균 풍속   월   일     년  \n",
      "0        21.667  17.750   0.000  2.725   9  25  2019  \n",
      "1        31.632  13.300  14.500  4.500   3   4  2018  \n",
      "2        45.643   5.250   0.500  4.950   4   7  2018  \n",
      "3        48.000  26.300   0.500  1.500   8  14  2019  \n",
      "4        26.961   8.400  44.000  4.300  12   1  2019  \n",
      "...         ...     ...     ...    ...  ..  ..   ...  \n",
      "21481    21.676   6.400   0.000  1.600   3   5  2020  \n",
      "21482    26.105  18.300   7.000  3.700   5  26  2018  \n",
      "21483    50.943  -6.133   0.833  6.067   1  25  2018  \n",
      "21484    43.688   8.600   0.000  3.100   3  17  2019  \n",
      "21485    43.688  21.500  57.500  3.000  10   1  2019  \n",
      "\n",
      "[21486 rows x 14 columns]\n",
      "            교통량\n",
      "0         0.000\n",
      "1      1532.989\n",
      "2       710.107\n",
      "3       374.200\n",
      "4       535.882\n",
      "...         ...\n",
      "21481    91.000\n",
      "21482     0.000\n",
      "21483     0.000\n",
      "21484   283.625\n",
      "21485   254.188\n",
      "\n",
      "[21486 rows x 1 columns]\n",
      "       시도명  읍면동명         거주인구        근무인구        방문인구       총 유동인구   평균 속도  \\\n",
      "0        0    28    45737.828    8703.034   91775.025   146215.887  57.286   \n",
      "1        1    21   289284.270   48392.749  179649.272   517326.291  50.500   \n",
      "2        1     4    72684.218   45632.065  120931.098   239247.380  34.727   \n",
      "3        1    12   235752.513   34212.805  186910.679   456875.997  37.167   \n",
      "4        1    17   544250.956   64188.293  205182.677   813621.925  31.462   \n",
      "...    ...   ...          ...         ...         ...          ...     ...   \n",
      "10578    1    37    30949.221    7243.292   73243.733   111436.245  27.500   \n",
      "10579    0    39   287544.537   19901.138  230494.219   537939.894  49.130   \n",
      "10580    1    35   217597.813   18838.618  150540.187   386976.617  27.500   \n",
      "10581    0     6    80350.674   26339.878  101347.505   208038.057  41.000   \n",
      "10582    1     7  1042638.731  141129.724  556050.197  1739818.652  38.157   \n",
      "\n",
      "       평균 소요 시간   평균 기온  일강수량  평균 풍속   월   일     년  \n",
      "0        35.000   6.500   0.0    2.9   1  12  2020  \n",
      "1        58.912  18.833   0.0    2.3   6  10  2019  \n",
      "2        60.000  13.200   0.0    1.8   5  10  2019  \n",
      "3        26.500  11.700   0.0    4.8   3  19  2020  \n",
      "4        37.769  22.233   0.0    2.3   9   5  2018  \n",
      "...         ...     ...   ...    ...  ..  ..   ...  \n",
      "10578    26.000   0.100   1.0    2.7   2   9  2019  \n",
      "10579    55.130  20.600   9.0    4.3   7   8  2018  \n",
      "10580    30.750   0.000   0.0    5.8   2  12  2018  \n",
      "10581    19.968  18.800   1.0    2.4  10  18  2019  \n",
      "10582    31.549  21.600   0.0    0.8   8   1  2019  \n",
      "\n",
      "[10583 rows x 14 columns]\n",
      "          id  predict\n",
      "0          0        0\n",
      "1          1        0\n",
      "2          2        0\n",
      "3          3        0\n",
      "4          4        0\n",
      "...      ...      ...\n",
      "10578  10578        0\n",
      "10579  10579        0\n",
      "10580  10580        0\n",
      "10581  10581        0\n",
      "10582  10582        0\n",
      "\n",
      "[10583 rows x 2 columns]\n"
     ]
    }
   ],
   "source": [
    "print(x_train)\n",
    "print(y_train)\n",
    "print(x_test)\n",
    "print(submission)"
   ]
  },
  {
   "cell_type": "code",
   "execution_count": 8,
   "metadata": {},
   "outputs": [],
   "source": [
    "x_train = np.array(x_train)\n",
    "y_train = np.array(y_train) # shape (21486,1)\n",
    "# y_train = np.array(y_train['교통량']) # shape (21486)\n",
    "x_test = np.array(x_test)\n",
    "\n",
    "from sklearn.preprocessing import StandardScaler\n",
    "scaler = StandardScaler()\n",
    "\n",
    "x_train = scaler.fit_transform(x_train)\n",
    "x_test = scaler.transform(x_test)"
   ]
  },
  {
   "cell_type": "code",
   "execution_count": 9,
   "metadata": {},
   "outputs": [
    {
     "name": "stdout",
     "output_type": "stream",
     "text": [
      "torch.Size([21486, 14]) torch.Size([21486, 1])\n"
     ]
    }
   ],
   "source": [
    "train_dataset = MyDataset(x_train,y_train)\n",
    "x_train = torch.Tensor(x_train).to(device)\n",
    "y_train = torch.Tensor(y_train).to(device)\n",
    "x_test = torch.Tensor(x_test).to(device)\n",
    "print(x_train.shape,y_train.shape)"
   ]
  },
  {
   "cell_type": "code",
   "execution_count": 10,
   "metadata": {},
   "outputs": [],
   "source": [
    "layer1 = torch.nn.Linear(14,64,bias=True).to(device)\n",
    "layer2 = torch.nn.Linear(64,64,bias=True).to(device)\n",
    "layer3 = torch.nn.Linear(64,1,bias=True).to(device)\n",
    "relu = torch.nn.ReLU().to(device)\n",
    "dropout = torch.nn.Dropout(0.3).to(device)"
   ]
  },
  {
   "cell_type": "code",
   "execution_count": 11,
   "metadata": {},
   "outputs": [
    {
     "data": {
      "text/plain": [
       "Parameter containing:\n",
       "tensor([[-1.0191e-01, -1.7921e-01,  1.4614e-01,  5.6814e-02,  8.3614e-02,\n",
       "          1.3077e-01, -1.0220e-01,  3.2455e-01,  3.5776e-02,  4.2419e-02,\n",
       "          8.5779e-02, -1.5427e-01,  1.0593e-01, -1.0059e-01, -2.1393e-01,\n",
       "         -3.2475e-01,  1.4998e-01,  4.2955e-02, -2.5857e-02,  2.5351e-01,\n",
       "         -1.4957e-01,  1.6412e-01, -1.7423e-01, -1.2037e-01, -1.1412e-01,\n",
       "          9.9023e-02,  1.0749e-01,  3.4918e-01, -1.1516e-02, -3.7527e-01,\n",
       "         -2.3346e-02, -1.2157e-01,  1.4791e-01,  4.3880e-02,  3.4508e-01,\n",
       "         -1.2737e-01, -2.1519e-01,  3.4951e-02, -2.5725e-01, -1.1786e-01,\n",
       "         -1.9877e-01,  2.0981e-01, -3.8434e-03, -4.9136e-03, -2.0228e-02,\n",
       "          2.6726e-04,  1.3832e-01,  5.1857e-02,  1.9495e-01,  1.6591e-01,\n",
       "         -1.4029e-01,  1.3367e-01,  1.7965e-01, -2.9983e-01, -5.9664e-02,\n",
       "         -5.4871e-02,  2.3979e-01, -1.3352e-01, -3.2272e-02, -1.3104e-01,\n",
       "          1.1347e-02,  2.2168e-01,  7.3924e-02,  5.0304e-02]], device='cuda:0',\n",
       "       requires_grad=True)"
      ]
     },
     "execution_count": 11,
     "metadata": {},
     "output_type": "execute_result"
    }
   ],
   "source": [
    "torch.nn.init.xavier_normal_(layer1.weight)\n",
    "torch.nn.init.xavier_normal_(layer2.weight)\n",
    "torch.nn.init.xavier_normal_(layer3.weight)\n"
   ]
  },
  {
   "cell_type": "code",
   "execution_count": 12,
   "metadata": {},
   "outputs": [],
   "source": [
    "model = torch.nn.Sequential(layer1,relu,dropout,\n",
    "                            layer2,relu,dropout,\n",
    "                            layer3).to(device)"
   ]
  },
  {
   "cell_type": "code",
   "execution_count": 13,
   "metadata": {},
   "outputs": [],
   "source": [
    "def r2_loss(output, target):\n",
    "    target_mean = torch.mean(target)\n",
    "    ss_tot = torch.sum((target - target_mean) ** 2)\n",
    "    ss_res = torch.sum((target - output) ** 2)\n",
    "    r2 = 1 - ss_res / ss_tot\n",
    "    return r2"
   ]
  },
  {
   "cell_type": "code",
   "execution_count": 14,
   "metadata": {},
   "outputs": [],
   "source": [
    "# layer 5, epochs 2000, lr 1e-2 -> score 0.474...\n",
    "# layer 5, epochs 2000, lr 1e-1 -> score 0.385... overfitting\n",
    "# layer 7, epochs 2000, lr 1e-2 -> cost 105335.1015625 score 0.11277 \n",
    "# batch size = 100 layer 7, epochs 1000, lr 1e-2 -> 하나의 예측값\n",
    "# batch size = 100 layer 7, epochs 1000, lr 1e-2 -> 하나의 예측값 \n",
    "epochs= 500\n",
    "lr = 2e-2\n",
    "loss = torch.nn.MSELoss().to(device)\n",
    "\n",
    "optim = torch.optim.Adam(model.parameters(),lr=lr)\n",
    "batch_size = 512\n",
    "data_loader = torch.utils.data.DataLoader(dataset=train_dataset,\n",
    "                                         batch_size = batch_size,\n",
    "                                         shuffle=True,\n",
    "                                         drop_last =True)"
   ]
  },
  {
   "cell_type": "code",
   "execution_count": 15,
   "metadata": {
    "tags": []
   },
   "outputs": [
    {
     "name": "stdout",
     "output_type": "stream",
     "text": [
      "0 270877.3551829268\n",
      "10 127286.27324695123\n",
      "20 69808.16539634146\n",
      "30 58885.48904344512\n",
      "40 49080.119950457316\n",
      "50 46827.03572789634\n",
      "60 42797.81440548781\n",
      "70 40475.13862423781\n",
      "80 39017.99657012195\n",
      "90 37246.61652057927\n",
      "100 35369.239615091465\n",
      "110 34866.30125762195\n",
      "120 33733.67439977134\n",
      "130 33659.032583841465\n",
      "140 32167.446836890245\n",
      "150 32343.73799542683\n",
      "160 30606.028582317074\n",
      "170 30068.658060213416\n",
      "180 29821.01143292683\n",
      "190 29834.551924542684\n",
      "200 29698.594369283535\n",
      "210 29716.190167682926\n",
      "220 28480.980802210364\n",
      "230 28819.033250762193\n",
      "240 28359.30078125\n",
      "250 28244.567120807926\n",
      "260 28069.317406631097\n",
      "270 27303.817216082316\n",
      "280 27428.015005716465\n",
      "290 27538.385718368903\n",
      "300 27630.69745617378\n",
      "310 26428.003096417684\n",
      "320 26944.990758384145\n",
      "330 26646.922541920732\n",
      "340 27018.327315167684\n",
      "350 25894.47022675305\n",
      "360 27191.520817454268\n",
      "370 25498.724180640245\n",
      "380 27038.999857088416\n",
      "390 26035.167444740855\n",
      "400 26041.158631859755\n",
      "410 24900.18907202744\n",
      "420 25760.838986280487\n",
      "430 25612.233469893294\n",
      "440 25569.904630335364\n",
      "450 25810.293730945123\n",
      "460 24902.754716082316\n",
      "470 24578.885718368903\n",
      "480 25175.198790015245\n",
      "490 24288.676495807926\n",
      "500 25516.837318978658\n"
     ]
    }
   ],
   "source": [
    "model.train()\n",
    "for epoch in range(epochs+1):\n",
    "    avg_cost = 0\n",
    "    for x,y in data_loader:\n",
    "        optim.zero_grad()\n",
    "    \n",
    "        h = model(x) \n",
    "        cost = loss(h,y)\n",
    "        cost.backward()\n",
    "        optim.step()\n",
    "        avg_cost += cost.item()\n",
    "    if epoch % 10 == 0:\n",
    "        print(epoch, avg_cost/len(data_loader))"
   ]
  },
  {
   "cell_type": "code",
   "execution_count": 16,
   "metadata": {},
   "outputs": [
    {
     "name": "stdout",
     "output_type": "stream",
     "text": [
      "[R2_Loss] = tensor(0.9538, device='cuda:0')\n"
     ]
    }
   ],
   "source": [
    "from sklearn.metrics import r2_score\n",
    "with torch.no_grad():\n",
    "    model.eval()\n",
    "    predict = model(x_train)\n",
    "    \n",
    "print(\"[R2_Loss] =\",r2_loss(predict,y_train))"
   ]
  },
  {
   "cell_type": "code",
   "execution_count": 17,
   "metadata": {},
   "outputs": [
    {
     "name": "stdout",
     "output_type": "stream",
     "text": [
      "          id      predict\n",
      "0          0    37.778427\n",
      "1          1    54.567867\n",
      "2          2    24.011959\n",
      "3          3   959.295776\n",
      "4          4  1731.441162\n",
      "...      ...          ...\n",
      "10578  10578    19.936024\n",
      "10579  10579    14.203346\n",
      "10580  10580    54.044769\n",
      "10581  10581    26.102608\n",
      "10582  10582   717.497925\n",
      "\n",
      "[10583 rows x 2 columns]\n"
     ]
    }
   ],
   "source": [
    "with torch.no_grad():\n",
    "    model.eval()\n",
    "    predict = model(x_test)\n",
    "submission['predict'] = predict.cpu().detach().numpy()\n",
    "print(submission)"
   ]
  },
  {
   "cell_type": "code",
   "execution_count": 18,
   "metadata": {},
   "outputs": [],
   "source": [
    "submission.to_csv(\"submission.csv\",index=False)"
   ]
  },
  {
   "cell_type": "code",
   "execution_count": null,
   "metadata": {},
   "outputs": [],
   "source": [
    "# 저번 과제와 같이 한가지 예측값으로 통일되는 경향이 생김 -> batch size?\n",
    "# batch size를 적용해도 계속 같은 문제 -> lr 조정\n",
    "# lr를 적용해도 계속 같은 문제 -> drop late 조정\n",
    "\n",
    "## 결론 -> Hidden Layer의 노드 수는 컬럼의 수와 관계가 없다. 컬럼의 수보다 많아도 되고 적어도 된다. \n",
    "# 학습이 제대로 되지 않을때 노드의 수를 늘려보는 방법도 좋다 (단, 많을 수록 overfit 문제 가능성 + 학습이 안될 가능성이 있음.)\n",
    "\n",
    "# layer 5개 -> 학습은 되지만 baseline을 넘지 못함\n",
    "# layer 7 -> 5개 보다 늦은 점수를 받음\n",
    "# layer 3 -> 더 좋은 성능을 보인다. --> layer가 많다고 좋은건 아님 (Gradient Vanishing)"
   ]
  }
 ],
 "metadata": {
  "kernelspec": {
   "display_name": "Python 3",
   "language": "python",
   "name": "python3"
  },
  "language_info": {
   "codemirror_mode": {
    "name": "ipython",
    "version": 3
   },
   "file_extension": ".py",
   "mimetype": "text/x-python",
   "name": "python",
   "nbconvert_exporter": "python",
   "pygments_lexer": "ipython3",
   "version": "3.8.10"
  }
 },
 "nbformat": 4,
 "nbformat_minor": 4
}
